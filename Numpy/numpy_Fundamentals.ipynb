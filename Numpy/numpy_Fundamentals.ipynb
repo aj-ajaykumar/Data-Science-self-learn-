{
  "nbformat": 4,
  "nbformat_minor": 0,
  "metadata": {
    "colab": {
      "provenance": [],
      "collapsed_sections": [
        "xqTfo_9Q9oCK",
        "PC6z5YWEni1l",
        "WDFw2v-2pwaP",
        "Mh6k0mzDrVVa",
        "8nTnGGMmu0QB",
        "tQmu-MP8yOsB",
        "OYy73RSv1nUQ",
        "LgBQVsfh2byH",
        "y8HMtPDr21Oy",
        "FHE9EU_T3LPu",
        "cb3RuYhZ4IiL",
        "q_r4hLo846tH",
        "YRQ_ilc65TDP",
        "2WsaiOx5ab-N",
        "w7H0aRXJbowi",
        "Ih8kWjSpcaew",
        "kaJXaYbOeMuq",
        "pZBm64NTfr39",
        "KOExwcDfiEI9",
        "8L7rgwz2jojA",
        "eCLz0JahkmH0",
        "p7gj2_GxlHic"
      ]
    },
    "kernelspec": {
      "name": "python3",
      "display_name": "Python 3"
    },
    "language_info": {
      "name": "python"
    }
  },
  "cells": [
    {
      "cell_type": "code",
      "execution_count": null,
      "metadata": {
        "id": "1-vMKpKhzc5K"
      },
      "outputs": [],
      "source": [
        "import numpy as np"
      ]
    },
    {
      "cell_type": "markdown",
      "source": [
        "![download.png](data:image/png;base64,iVBORw0KGgoAAAANSUhEUgAAAU8AAACWCAMAAABpVfqTAAAAllBMVEX///9Nd89Nq889bcxEcc1Hc845a8yiteNEqM32+PxJdc7Z4POfz+Pt8Pk+bsw9psy4xurP2fGFn9ySqd/g5vanuuVQetBujtbS2/HH4u7x9PvR5vCYy+Fgs9PH0u5midXn8/i52+pasNKGw9xsuNbO5vBYf9Lk6veHod3Azex7vtnb7PSwwOeQx98sZMp3ldms1eYiYMkJNnq/AAAK6UlEQVR4nO2daWOiOhSGoQkItIK4d9O2083Raef+/z93WbIvCBGtnZ73yx1lC48nOUuSXs8DgUAgEAgEAoFAIBAIBAKBQCAQCAQCgUAgEMhRD1/dgH9K8Z/s6fGrG/HP6OFXFl1cZBdAtA/VNEuBjR4uTrMiCjZ6kGSaQPQw6TSh17vLTBNs1E0Pv200gaiL4r9RA88ou4q/uoXfTlaiUXYHNF3019Tno+zXw1c37NtKs9Eo+/3w1Y36Ptr+1hyNTDR73sqHHyF6smpb+nTddXOi2f2LfOj6KQNfb9GWRkg6oKuKaPZ0LX/9UtCE6MmsrRhvailQfJVlkfLd7XMG8ahF22fFk+uAHrUr5AtU3D9YGs29JmfKnsBGaxlpGns9lS2zB6INNK1E4z/2K3460dsmmjUgNbPcZlnzBT+Y6Paikc1FFF0ZrrpqqpRcZJnpmp+i63s7UWsRqYiebETNv8BPko1oYxHJQrSgCYUnI1GtiBQruZGBaBT9BZqVrp+yZppFDq9lmwrRKPt7svaeoZayKYk2qpfkHs35u8eJFrZ51OaevQZoZiGql+RYFGCzUZ1m/Kf/Jp+1BhjjmfxVRVSjKY8FOtG7LNN8ehny997i89YA+wnGO/nL63u1wPnypPoqneij4oUeqgSq/yaftQqefkE02TWddPtsiqWye3UcFUXT0Z7be+6qePoGG+VSS3INNsrESyVHave5ivAsiKbzjemEPQsajDYqFp6O3P5zE+NZEA1H2uFtI83SpWdPavAul/HUO+alLo0Bf05008+riYpzScvldNj/Q0oJPP1krh1WI3wNpxYhqUVR9cX+SwshtDK05SOt9HHZ18txDcm9mRDC68Gy/weJPP3U0OObiOq5UKzZs3pCSPrCVH8UqluBjsET+aqSJED+bP+l3STxTF5Np1grJYZc6Fo7VTmB8CzeRu/yp+VZu+HA1FEOkMTTN3bDIvo0VUqMmeVLW55+sNAuPj3PsqMMen2QzDNZW05Tidry9PY8/XSiXvwVPIvH9QpU5ukj6xAtEtVpbsnsRgeefqiO1ifhWUTaGAdJwt857LPLKzwNvZCJEtW9UBFV3ZFzOvBM0Jt87BQ8k/Gk1DhBAWuHHta4S+Hph00vUxI12OZzFkUOPDWfdAqe7Dd8G6e0HakedztL5Zl8SoenSljzcm+iWdisC0+1N5yEJ3+hWWpuxkFSefqh1AlX/40NgSIXnbZ34+mnki84MU/vkw6iqL/5GY1nMBYP5ygIx2+2i/m0vSNP2ScdwDMexspnOWk18lymhi8PlMbTD8XMNi/aYSMqVvFceUo+SeI5G9d6p0dvPsk3tTuu/139HPnYD8PwleY68W5Rfi7ySX5vI8+Y8kxX3oTcfCD9Lpv3+tu8BclaOk8sxoV51Y4g/NSIyhGpK8/CufIXkHiO06AU9hmSsPoiQLX3CHD54WPlDddhUHbcJJ1XNjkIcf05wSH7MYw8PfruRZ49IndPxQh8Rx/ZfjzQefpI6Co5aUeAZBvV4vvOPOnYhbkDlHkGhLeKBNc86xsE71PMQsnyt4nXzG2X577GTTyZfRZmTm8jFhZeE93CuvPEgpPIWRws9no9/7TyVOePGM81xcB9kgPP0gyFlr9768AXhRcNPHl/zzkIAd6UNsjqQFrxFN1dLuRpwQdpy5UhmzfzjLJfFp74jdkVy0+ceMr4JurroI2dJ/dHBbAbRH8fdnxCmiCHkN15ChOeIk/meK/0ErORp2mHEuWJ4hXr+Wh4EM8Ep2lAPlUXBWmKqZmS6408ySOKG5Sf3smnlKWfxPRRe29k5in8RDJPap+teJr3ezGeQ29AzYMyc+OZvu6W+SDg5orGq+VmQd+rbrSJ54bloJUBTkPxU6FlfdxcxOzC00/Z3JwzT9t+L4Gnx96Z+CQnnqQz8eGDZI/U+Op5Rj3f9Gbs1UiVko7oKekuZOywT1S25skN1JGnffecyDOeyz7JhWdA3QcdOWk+Qk8P3iWeeLKbFRp8Yvbi1ABX9AFkuCPdPeyC08yTVwiceDbtRRR5em8sGA1zR57MHW/I6MGGPxLs1N2X1+twLbFelytXzMVX7xIsWXmyMcOBZ0Fza3yUztPbMJ+Ehyy8duOZU540WyXdty52NNWTGbCd1ADin7oES1aebOKjO89GmipPwSe9cn/qxJMGPyz7XxBra+aZhIL9Eauth4j6Q9fakzwfx/+1duN5rS4jU9ZBqTy9BQ1sinFvfnqegTSlSwNOHLPR1DKj1oZnMJgLQUfuxFNRkUjt4cl9EtotTsszSdJwIpWh6Fml+xgn8uO788S7nQB3cTjPgmZky98pT+8tpUCDV5HIsXgSf5SmyP8cqXUOUhEtemdMvFGnYEnhOfOEZLie+DiA50tdztvHk/sk9phj8sSDXaVNblpwc0naEt6M6tulXSvNMs8RL87UcUZLnvoU3S0tmezl6U3EitCxee5x1yQowKP66o7Bkqfy9MQRtHxyK556ZimUmpXnGXhyn3QKns2leJKDJuv67LBbsORpPDfcVqpEowXPRpqteMZize1reXqkDiDGrp2k8KQ5QvXjDFvwjLI/D/IdlcXMyvNMPFmhUSRCyz2InnQanjNpfVz3lQ4qzxV/tbKpe3jupdmOp+yTaiIDypN2udPwvBEG88RvPtcklSersvjVxEcjz4Km6v5az3fIPCWfVBOhI09A5oCmtOccl6c3EQPIVgglaTwFgnjQVE/WbbPQrSNPcZ6ifsyQmix+L069nCA24XRcnrxG46cOC6U1nsKbJcjO02CbpZx5Cj6JPIZ1lACFIV9tdGyefJVD8L7vVIN0npeCge6WZp76puOH+j/OPFl5nD1mJTkprmPzZCZkWkK9VzpP/gMVwcpKdHe0qXcazZcnsq/Qnac3CpXHKGFpQCcgj8yTlUFta2EbZeDJLaUIwMTIkDb1RaF5/ZTRfPMAnswT0MfEcxEoGtMC77F5zurHOgRLnpEnm3rxfd8QaKuqltf3wdNbp0kp9ph4TZ1QgtGurEiWSi08USJfvQjqLwjPhBxua5+Oq0JNPN/UCkUDT7JZoT3P/1ClD1MmN5mXpR9hCepmHZZ7W0J/ULraVVUcIrukgnrfC1tSk4d14YhdvU7rQlLVbYfkKP7Yy5MEauou4ZYy8WS5yV6ebDNNa55ddZNvNqvOWfQhIsMncttVZuRpqWarPIWtSVFbf3T2ImGFU7DkWXh62rIVA09po9e/w5OEva5LQs081VWFOk9l29zR+vupldOCneP1K8SmosUR2DjtyXlqmxD/GZ7EPE07L9spHqRY5xnjxM7zVt/SaeWpzseduciEh0tlielmEgYqT7kOqPC8s88fKTyzi6Y/4XCGIrkhPmzP3HAcJmrEFegG2mK9osTT/ucbzlVTuvv50C340wVKZJ67tBNP3b9/P5pFThVWSQJ2Hj25lusP2cj1BcBdeH5HmkVHvanUz802cjl6pBloe57Nf/rmh+pVNdC2PL+nbR5dGzXrbMcTbNMm1UBb8QSaVuWoM88t0GzQOunKE9SkZQg8e9UYA88+Ja/UsvPM7hsXzYOopsJCAut6xez59mtb+Y30Jux/NvMEmt00CgM7zwhodtZNVc0z8Yy0v7IMaqN8jg08gaa7BmWnl3gCzYM0/ESJwBNoHqyVz//eBdDsQxM6Hwc0exX832NAIBAIBAKBQCAQCAQCgUAgEAgEAoFAIBAI9IP1P6HV3+WzZaoeAAAAAElFTkSuQmCC)"
      ],
      "metadata": {
        "id": "3F-_C3f_72EQ"
      }
    },
    {
      "cell_type": "markdown",
      "source": [
        "Numpy is a Python library that provides a **multidimensional array** object, various derived objects (such as masked arrays and matrices), and an assortment of routines for fast operations on arrays, including mathematical, logical, shape manipulation, sorting, selecting, I/O, discrete Fourier transforms, basic linear algebra, basic statistical operations, random simulation and much more."
      ],
      "metadata": {
        "id": "xeLRBqlR88RM"
      }
    },
    {
      "cell_type": "markdown",
      "source": [
        "**Creating Numpy Array**"
      ],
      "metadata": {
        "id": "ddTu2LHgzppM"
      }
    },
    {
      "cell_type": "code",
      "source": [
        "np.array([1,2,3,4,5,6,7]) # array"
      ],
      "metadata": {
        "colab": {
          "base_uri": "https://localhost:8080/"
        },
        "id": "2YyRornszwDk",
        "outputId": "9cb66305-11d9-4805-e8e6-16bc5cd35c36"
      },
      "execution_count": null,
      "outputs": [
        {
          "output_type": "execute_result",
          "data": {
            "text/plain": [
              "array([1, 2, 3, 4, 5, 6, 7])"
            ]
          },
          "metadata": {},
          "execution_count": 2
        }
      ]
    },
    {
      "cell_type": "code",
      "source": [
        "arr = np.array([1,2,3,4,5,6,7]) # vector\n",
        "print(arr)"
      ],
      "metadata": {
        "colab": {
          "base_uri": "https://localhost:8080/"
        },
        "id": "dwFR-EZEz_lp",
        "outputId": "289d8f48-bea6-46d7-c717-92759c4e83b6"
      },
      "execution_count": null,
      "outputs": [
        {
          "output_type": "stream",
          "name": "stdout",
          "text": [
            "[1 2 3 4 5 6 7]\n"
          ]
        }
      ]
    },
    {
      "cell_type": "code",
      "source": [
        "type(arr)"
      ],
      "metadata": {
        "colab": {
          "base_uri": "https://localhost:8080/"
        },
        "id": "7mTD5Ba90Ibv",
        "outputId": "11661419-78a5-4c42-f71f-6edaf428d49f"
      },
      "execution_count": null,
      "outputs": [
        {
          "output_type": "execute_result",
          "data": {
            "text/plain": [
              "numpy.ndarray"
            ]
          },
          "metadata": {},
          "execution_count": 4
        }
      ]
    },
    {
      "cell_type": "code",
      "source": [
        "# 2d array\n",
        "arr1 = np.array([[1,2,3,4,5],[7,8,9,0,5]])\n",
        "arr1"
      ],
      "metadata": {
        "colab": {
          "base_uri": "https://localhost:8080/"
        },
        "id": "-4MnEFOI3YLD",
        "outputId": "716918cc-9884-4808-e11c-01153c5c96c7"
      },
      "execution_count": null,
      "outputs": [
        {
          "output_type": "execute_result",
          "data": {
            "text/plain": [
              "array([[1, 2, 3, 4, 5],\n",
              "       [7, 8, 9, 0, 5]])"
            ]
          },
          "metadata": {},
          "execution_count": 5
        }
      ]
    },
    {
      "cell_type": "code",
      "source": [
        "z = np.zeros([4,5])\n",
        "z"
      ],
      "metadata": {
        "colab": {
          "base_uri": "https://localhost:8080/"
        },
        "id": "HcewxqG-5slS",
        "outputId": "61ae6e18-e387-43d5-9d30-b4c6eaacc29f"
      },
      "execution_count": null,
      "outputs": [
        {
          "output_type": "execute_result",
          "data": {
            "text/plain": [
              "array([[0., 0., 0., 0., 0.],\n",
              "       [0., 0., 0., 0., 0.],\n",
              "       [0., 0., 0., 0., 0.],\n",
              "       [0., 0., 0., 0., 0.]])"
            ]
          },
          "metadata": {},
          "execution_count": 6
        }
      ]
    },
    {
      "cell_type": "code",
      "source": [
        "#3D array\n",
        "arr2 = np.array([[[1,2,3,4,5],[3,4,5,6,7]],[[2,4,5,6,7],[5,6,7,8,9]]])\n",
        "arr2"
      ],
      "metadata": {
        "colab": {
          "base_uri": "https://localhost:8080/"
        },
        "id": "MjXdCimb3bPq",
        "outputId": "520345f6-e7c8-4da5-9f65-8612862ab78a"
      },
      "execution_count": null,
      "outputs": [
        {
          "output_type": "execute_result",
          "data": {
            "text/plain": [
              "array([[[1, 2, 3, 4, 5],\n",
              "        [3, 4, 5, 6, 7]],\n",
              "\n",
              "       [[2, 4, 5, 6, 7],\n",
              "        [5, 6, 7, 8, 9]]])"
            ]
          },
          "metadata": {},
          "execution_count": 7
        }
      ]
    },
    {
      "cell_type": "markdown",
      "source": [
        "How to know the dimension"
      ],
      "metadata": {
        "id": "9F7AVSD95hbU"
      }
    },
    {
      "cell_type": "code",
      "source": [
        "# How to know the dimensions\n",
        "arr"
      ],
      "metadata": {
        "colab": {
          "base_uri": "https://localhost:8080/"
        },
        "id": "FUawLtSG4hT0",
        "outputId": "a2def495-86e6-4583-a230-e2672ead8740"
      },
      "execution_count": null,
      "outputs": [
        {
          "output_type": "execute_result",
          "data": {
            "text/plain": [
              "array([1, 2, 3, 4, 5, 6, 7])"
            ]
          },
          "metadata": {},
          "execution_count": 8
        }
      ]
    },
    {
      "cell_type": "code",
      "source": [
        "arr.ndim # dimension"
      ],
      "metadata": {
        "colab": {
          "base_uri": "https://localhost:8080/"
        },
        "id": "Fot8bmRZ6UVN",
        "outputId": "cfc3c947-eca4-48e0-add2-b1d28034d691"
      },
      "execution_count": null,
      "outputs": [
        {
          "output_type": "execute_result",
          "data": {
            "text/plain": [
              "1"
            ]
          },
          "metadata": {},
          "execution_count": 9
        }
      ]
    },
    {
      "cell_type": "code",
      "source": [
        "arr1  # dimension --- 2"
      ],
      "metadata": {
        "colab": {
          "base_uri": "https://localhost:8080/"
        },
        "id": "gAv54oDm6WaQ",
        "outputId": "05caa91f-cd86-48d5-d003-671e58131731"
      },
      "execution_count": null,
      "outputs": [
        {
          "output_type": "execute_result",
          "data": {
            "text/plain": [
              "array([[1, 2, 3, 4, 5],\n",
              "       [7, 8, 9, 0, 5]])"
            ]
          },
          "metadata": {},
          "execution_count": 10
        }
      ]
    },
    {
      "cell_type": "code",
      "source": [
        "arr1.ndim"
      ],
      "metadata": {
        "colab": {
          "base_uri": "https://localhost:8080/"
        },
        "id": "rPGdSqLB5IZY",
        "outputId": "703b2e82-07db-43b7-ea2c-146080bc284e"
      },
      "execution_count": null,
      "outputs": [
        {
          "output_type": "execute_result",
          "data": {
            "text/plain": [
              "2"
            ]
          },
          "metadata": {},
          "execution_count": 11
        }
      ]
    },
    {
      "cell_type": "code",
      "source": [
        "arr2"
      ],
      "metadata": {
        "colab": {
          "base_uri": "https://localhost:8080/"
        },
        "id": "rKksjEzj5qaC",
        "outputId": "6de53489-19e2-4624-ce42-46a98b4e268f"
      },
      "execution_count": null,
      "outputs": [
        {
          "output_type": "execute_result",
          "data": {
            "text/plain": [
              "array([[[1, 2, 3, 4, 5],\n",
              "        [3, 4, 5, 6, 7]],\n",
              "\n",
              "       [[2, 4, 5, 6, 7],\n",
              "        [5, 6, 7, 8, 9]]])"
            ]
          },
          "metadata": {},
          "execution_count": 12
        }
      ]
    },
    {
      "cell_type": "code",
      "source": [
        "arr2.ndim"
      ],
      "metadata": {
        "colab": {
          "base_uri": "https://localhost:8080/"
        },
        "id": "GvwZeypu6eFH",
        "outputId": "9da7e795-57d7-40b2-e30a-5a918344d99b"
      },
      "execution_count": null,
      "outputs": [
        {
          "output_type": "execute_result",
          "data": {
            "text/plain": [
              "3"
            ]
          },
          "metadata": {},
          "execution_count": 13
        }
      ]
    },
    {
      "cell_type": "markdown",
      "source": [
        "### dtype\n",
        "\n",
        "The desired data-type for the array. If not given, then the type willbe determined as the minimum type required to hold the objects in thesequence."
      ],
      "metadata": {
        "id": "_1NKGzDO7HvR"
      }
    },
    {
      "cell_type": "code",
      "source": [
        "np.array([1,2,3,4,5],dtype= int)"
      ],
      "metadata": {
        "colab": {
          "base_uri": "https://localhost:8080/"
        },
        "id": "05Jquyoq6jXs",
        "outputId": "4864d7fe-cb6c-4027-de8e-1e7d7c296d6d"
      },
      "execution_count": null,
      "outputs": [
        {
          "output_type": "execute_result",
          "data": {
            "text/plain": [
              "array([1, 2, 3, 4, 5])"
            ]
          },
          "metadata": {},
          "execution_count": 14
        }
      ]
    },
    {
      "cell_type": "code",
      "source": [
        "np.array([1,2,3,4,5],dtype= float)"
      ],
      "metadata": {
        "colab": {
          "base_uri": "https://localhost:8080/"
        },
        "id": "BQANdEJt77w-",
        "outputId": "f044c7ac-1ae3-4e3d-e6be-197b328c87f3"
      },
      "execution_count": null,
      "outputs": [
        {
          "output_type": "execute_result",
          "data": {
            "text/plain": [
              "array([1., 2., 3., 4., 5.])"
            ]
          },
          "metadata": {},
          "execution_count": 15
        }
      ]
    },
    {
      "cell_type": "code",
      "source": [
        "np.array([1,2,3,4,5],dtype= complex)"
      ],
      "metadata": {
        "colab": {
          "base_uri": "https://localhost:8080/"
        },
        "id": "GeRG3nb47-jP",
        "outputId": "6a3ff362-dbbb-4260-928c-09f4e8cf23a4"
      },
      "execution_count": null,
      "outputs": [
        {
          "output_type": "execute_result",
          "data": {
            "text/plain": [
              "array([1.+0.j, 2.+0.j, 3.+0.j, 4.+0.j, 5.+0.j])"
            ]
          },
          "metadata": {},
          "execution_count": 16
        }
      ]
    },
    {
      "cell_type": "code",
      "source": [
        "np.array([1,2,3,4,5],dtype= bool) # we get all true because non zero values are true in python"
      ],
      "metadata": {
        "colab": {
          "base_uri": "https://localhost:8080/"
        },
        "id": "KP4NXmOb8CWn",
        "outputId": "f8325488-d2d1-41e0-8e77-1046548c3925"
      },
      "execution_count": null,
      "outputs": [
        {
          "output_type": "execute_result",
          "data": {
            "text/plain": [
              "array([ True,  True,  True,  True,  True])"
            ]
          },
          "metadata": {},
          "execution_count": 17
        }
      ]
    },
    {
      "cell_type": "markdown",
      "source": [
        "**Numpy Arrays Vs Python Sequences**"
      ],
      "metadata": {
        "id": "ovdlS2CN9f8p"
      }
    },
    {
      "cell_type": "markdown",
      "source": [
        "NumPy arrays have a fixed size at creation, unlike Python lists (which can grow dynamically). Changing the size of an ndarray will create a new array and delete the original.\n",
        "\n",
        "The elements in a NumPy array are all required to be of the same data type, and thus will be the same size in memory.\n",
        "\n",
        "NumPy arrays facilitate advanced mathematical and other types of operations on large numbers of data. Typically, such operations are executed more efficiently and with less code than is possible using Python’s built-in sequences.\n",
        "\n",
        "A growing plethora of scientific and mathematical Python-based packages are using NumPy arrays; though these typically support Python-sequence input, they convert such input to NumPy arrays prior to processing, and they often output NumPy arrays."
      ],
      "metadata": {
        "id": "FjfImTkY9kE2"
      }
    },
    {
      "cell_type": "markdown",
      "source": [
        "### Arange"
      ],
      "metadata": {
        "id": "xqTfo_9Q9oCK"
      }
    },
    {
      "cell_type": "markdown",
      "source": [
        "arange can be called with a varying number of positional arguments"
      ],
      "metadata": {
        "id": "cgOrlQGc9xGv"
      }
    },
    {
      "cell_type": "code",
      "source": [
        "np.arange(5)"
      ],
      "metadata": {
        "colab": {
          "base_uri": "https://localhost:8080/"
        },
        "id": "0fILDj0P8OuJ",
        "outputId": "182be64a-5252-44cd-8c93-db1721513c32"
      },
      "execution_count": null,
      "outputs": [
        {
          "output_type": "execute_result",
          "data": {
            "text/plain": [
              "array([0, 1, 2, 3, 4])"
            ]
          },
          "metadata": {},
          "execution_count": 18
        }
      ]
    },
    {
      "cell_type": "code",
      "source": [
        "np.arange(5,20) # # 5-included , 20 - last one got excluded"
      ],
      "metadata": {
        "colab": {
          "base_uri": "https://localhost:8080/"
        },
        "id": "sPoS1Ygc9sxN",
        "outputId": "cbd0ea9d-3b5d-4aa0-dd49-39cd002222a2"
      },
      "execution_count": null,
      "outputs": [
        {
          "output_type": "execute_result",
          "data": {
            "text/plain": [
              "array([ 5,  6,  7,  8,  9, 10, 11, 12, 13, 14, 15, 16, 17, 18, 19])"
            ]
          },
          "metadata": {},
          "execution_count": 19
        }
      ]
    },
    {
      "cell_type": "code",
      "source": [
        "# with step\n",
        "np.arange(2,20,2)"
      ],
      "metadata": {
        "colab": {
          "base_uri": "https://localhost:8080/"
        },
        "id": "shUNtNa399Gm",
        "outputId": "affa2c01-5977-4496-a595-dbde49a91454"
      },
      "execution_count": null,
      "outputs": [
        {
          "output_type": "execute_result",
          "data": {
            "text/plain": [
              "array([ 2,  4,  6,  8, 10, 12, 14, 16, 18])"
            ]
          },
          "metadata": {},
          "execution_count": 20
        }
      ]
    },
    {
      "cell_type": "code",
      "source": [
        "# two dimwntional\n",
        "# here we con't directly male two dimentional instaed of we create 2D using reshape\n",
        "np.arange(1,19).reshape(2,3,3)"
      ],
      "metadata": {
        "colab": {
          "base_uri": "https://localhost:8080/"
        },
        "id": "25ImO0fm-Enm",
        "outputId": "858004eb-dcc6-4848-bda7-0c19be619729"
      },
      "execution_count": null,
      "outputs": [
        {
          "output_type": "execute_result",
          "data": {
            "text/plain": [
              "array([[[ 1,  2,  3],\n",
              "        [ 4,  5,  6],\n",
              "        [ 7,  8,  9]],\n",
              "\n",
              "       [[10, 11, 12],\n",
              "        [13, 14, 15],\n",
              "        [16, 17, 18]]])"
            ]
          },
          "metadata": {},
          "execution_count": 22
        }
      ]
    },
    {
      "cell_type": "markdown",
      "source": [
        "## reshape"
      ],
      "metadata": {
        "id": "PC6z5YWEni1l"
      }
    },
    {
      "cell_type": "markdown",
      "source": [
        "Reshaping only posible when the total number of the converted item (menas 2x5 = 10 and array total items = 10) is eaul to array items. other wise got an error"
      ],
      "metadata": {
        "id": "E7625hgznnpV"
      }
    },
    {
      "cell_type": "code",
      "source": [
        "np.arange(1,11).reshape(2,5) # 2 rows and 5 coloumns"
      ],
      "metadata": {
        "id": "uj0_Nfsg-aD7",
        "colab": {
          "base_uri": "https://localhost:8080/"
        },
        "outputId": "840e0bde-8c8b-4836-c799-cebe0204016f"
      },
      "execution_count": null,
      "outputs": [
        {
          "output_type": "execute_result",
          "data": {
            "text/plain": [
              "array([[ 1,  2,  3,  4,  5],\n",
              "       [ 6,  7,  8,  9, 10]])"
            ]
          },
          "metadata": {},
          "execution_count": 23
        }
      ]
    },
    {
      "cell_type": "code",
      "source": [
        "np.arange(11,21).reshape(5,2) # 5 rows and 2 coloumns"
      ],
      "metadata": {
        "colab": {
          "base_uri": "https://localhost:8080/"
        },
        "id": "AicLgbJmn7TT",
        "outputId": "9f6f29b3-06fa-449b-b50d-127f548e0cdc"
      },
      "execution_count": null,
      "outputs": [
        {
          "output_type": "execute_result",
          "data": {
            "text/plain": [
              "array([[11, 12],\n",
              "       [13, 14],\n",
              "       [15, 16],\n",
              "       [17, 18],\n",
              "       [19, 20]])"
            ]
          },
          "metadata": {},
          "execution_count": 24
        }
      ]
    },
    {
      "cell_type": "code",
      "source": [
        "np.arange(11,21).reshape(10,1)  # 10 rows and 1 coloumns"
      ],
      "metadata": {
        "colab": {
          "base_uri": "https://localhost:8080/"
        },
        "id": "afcS6xRroEES",
        "outputId": "91e52c18-716c-4de6-d8b2-ddddf6e7b3ca"
      },
      "execution_count": null,
      "outputs": [
        {
          "output_type": "execute_result",
          "data": {
            "text/plain": [
              "array([[11],\n",
              "       [12],\n",
              "       [13],\n",
              "       [14],\n",
              "       [15],\n",
              "       [16],\n",
              "       [17],\n",
              "       [18],\n",
              "       [19],\n",
              "       [20]])"
            ]
          },
          "metadata": {},
          "execution_count": 25
        }
      ]
    },
    {
      "cell_type": "code",
      "source": [
        "np.arange(11,21).reshape(2,1,5)"
      ],
      "metadata": {
        "colab": {
          "base_uri": "https://localhost:8080/"
        },
        "id": "Mmd3NzrMoKax",
        "outputId": "da7f8b1d-fdc2-430e-bf03-b4b1499cf6c6"
      },
      "execution_count": null,
      "outputs": [
        {
          "output_type": "execute_result",
          "data": {
            "text/plain": [
              "array([[[11, 12, 13, 14, 15]],\n",
              "\n",
              "       [[16, 17, 18, 19, 20]]])"
            ]
          },
          "metadata": {},
          "execution_count": 28
        }
      ]
    },
    {
      "cell_type": "code",
      "source": [
        "np.arange(11,21).reshape(2,3)  # total item not matched"
      ],
      "metadata": {
        "colab": {
          "base_uri": "https://localhost:8080/",
          "height": 141
        },
        "id": "QYOaQH6LqFST",
        "outputId": "0ad0bfa9-31b1-4f66-8eff-d7ed1837ecb6"
      },
      "execution_count": null,
      "outputs": [
        {
          "output_type": "error",
          "ename": "ValueError",
          "evalue": "cannot reshape array of size 10 into shape (2,3)",
          "traceback": [
            "\u001b[0;31m---------------------------------------------------------------------------\u001b[0m",
            "\u001b[0;31mValueError\u001b[0m                                Traceback (most recent call last)",
            "\u001b[0;32m<ipython-input-29-25150753ae30>\u001b[0m in \u001b[0;36m<cell line: 1>\u001b[0;34m()\u001b[0m\n\u001b[0;32m----> 1\u001b[0;31m \u001b[0mnp\u001b[0m\u001b[0;34m.\u001b[0m\u001b[0marange\u001b[0m\u001b[0;34m(\u001b[0m\u001b[0;36m11\u001b[0m\u001b[0;34m,\u001b[0m\u001b[0;36m21\u001b[0m\u001b[0;34m)\u001b[0m\u001b[0;34m.\u001b[0m\u001b[0mreshape\u001b[0m\u001b[0;34m(\u001b[0m\u001b[0;36m2\u001b[0m\u001b[0;34m,\u001b[0m\u001b[0;36m3\u001b[0m\u001b[0;34m)\u001b[0m\u001b[0;34m\u001b[0m\u001b[0;34m\u001b[0m\u001b[0m\n\u001b[0m",
            "\u001b[0;31mValueError\u001b[0m: cannot reshape array of size 10 into shape (2,3)"
          ]
        }
      ]
    },
    {
      "cell_type": "markdown",
      "source": [
        "## Zeros & Ones"
      ],
      "metadata": {
        "id": "WDFw2v-2pwaP"
      }
    },
    {
      "cell_type": "code",
      "source": [
        "np.zeros(3)"
      ],
      "metadata": {
        "colab": {
          "base_uri": "https://localhost:8080/"
        },
        "id": "RrJ8-oq6ptOx",
        "outputId": "bb0f2666-4cbc-4416-9b1d-ea61333a78ab"
      },
      "execution_count": null,
      "outputs": [
        {
          "output_type": "execute_result",
          "data": {
            "text/plain": [
              "array([0., 0., 0.])"
            ]
          },
          "metadata": {},
          "execution_count": 30
        }
      ]
    },
    {
      "cell_type": "code",
      "source": [
        "np.zeros(10) # here also"
      ],
      "metadata": {
        "colab": {
          "base_uri": "https://localhost:8080/"
        },
        "id": "ArMaGkoOqNxl",
        "outputId": "5b408bde-44ea-4971-a359-03e12dc1bdeb"
      },
      "execution_count": null,
      "outputs": [
        {
          "output_type": "execute_result",
          "data": {
            "text/plain": [
              "array([0., 0., 0., 0., 0., 0., 0., 0., 0., 0.])"
            ]
          },
          "metadata": {},
          "execution_count": 32
        }
      ]
    },
    {
      "cell_type": "code",
      "source": [
        "np.zeros((2,5)) # here we can criate multi dimensional directly using ()"
      ],
      "metadata": {
        "colab": {
          "base_uri": "https://localhost:8080/"
        },
        "id": "gXtbgLP2qTUc",
        "outputId": "de359d80-52c2-4d41-e0d9-9faab6dcd3f1"
      },
      "execution_count": null,
      "outputs": [
        {
          "output_type": "execute_result",
          "data": {
            "text/plain": [
              "array([[0., 0., 0., 0., 0.],\n",
              "       [0., 0., 0., 0., 0.]])"
            ]
          },
          "metadata": {},
          "execution_count": 37
        }
      ]
    },
    {
      "cell_type": "code",
      "source": [
        "np.zeros((3,2,3))"
      ],
      "metadata": {
        "colab": {
          "base_uri": "https://localhost:8080/"
        },
        "id": "19xZ4v1gqe_W",
        "outputId": "086b6ebd-b86c-4d7d-f857-387a8f9e1b29"
      },
      "execution_count": null,
      "outputs": [
        {
          "output_type": "execute_result",
          "data": {
            "text/plain": [
              "array([[[0., 0., 0.],\n",
              "        [0., 0., 0.]],\n",
              "\n",
              "       [[0., 0., 0.],\n",
              "        [0., 0., 0.]],\n",
              "\n",
              "       [[0., 0., 0.],\n",
              "        [0., 0., 0.]]])"
            ]
          },
          "metadata": {},
          "execution_count": 38
        }
      ]
    },
    {
      "cell_type": "code",
      "source": [
        "np.ones((5,3))"
      ],
      "metadata": {
        "colab": {
          "base_uri": "https://localhost:8080/"
        },
        "id": "wo-3n4xvrGXk",
        "outputId": "9e069923-846b-4ca6-d3f3-953270f2b9db"
      },
      "execution_count": null,
      "outputs": [
        {
          "output_type": "execute_result",
          "data": {
            "text/plain": [
              "array([[1., 1., 1.],\n",
              "       [1., 1., 1.],\n",
              "       [1., 1., 1.],\n",
              "       [1., 1., 1.],\n",
              "       [1., 1., 1.]])"
            ]
          },
          "metadata": {},
          "execution_count": 40
        }
      ]
    },
    {
      "cell_type": "code",
      "source": [
        "np.ones((2,3,5))"
      ],
      "metadata": {
        "colab": {
          "base_uri": "https://localhost:8080/"
        },
        "id": "EmMh70_KrMUb",
        "outputId": "7ac08921-018e-4f76-f7bc-1074b7deba0c"
      },
      "execution_count": null,
      "outputs": [
        {
          "output_type": "execute_result",
          "data": {
            "text/plain": [
              "array([[[1., 1., 1., 1., 1.],\n",
              "        [1., 1., 1., 1., 1.],\n",
              "        [1., 1., 1., 1., 1.]],\n",
              "\n",
              "       [[1., 1., 1., 1., 1.],\n",
              "        [1., 1., 1., 1., 1.],\n",
              "        [1., 1., 1., 1., 1.]]])"
            ]
          },
          "metadata": {},
          "execution_count": 41
        }
      ]
    },
    {
      "cell_type": "markdown",
      "source": [
        "## Random"
      ],
      "metadata": {
        "id": "Mh6k0mzDrVVa"
      }
    },
    {
      "cell_type": "code",
      "source": [
        "np.random.random(5) # it gives value between 0 to 1"
      ],
      "metadata": {
        "colab": {
          "base_uri": "https://localhost:8080/"
        },
        "id": "ktc49vwhrRXu",
        "outputId": "2589952a-0a5b-4b10-d67a-53b056c64099"
      },
      "execution_count": null,
      "outputs": [
        {
          "output_type": "execute_result",
          "data": {
            "text/plain": [
              "array([0.46768571, 0.10711522, 0.18283429, 0.16563428, 0.89440462])"
            ]
          },
          "metadata": {},
          "execution_count": 44
        }
      ]
    },
    {
      "cell_type": "code",
      "source": [
        "np.random.rand(2,3) # it gives random values in a given shape"
      ],
      "metadata": {
        "colab": {
          "base_uri": "https://localhost:8080/"
        },
        "id": "zrnwtR5nrZ9j",
        "outputId": "0cf5590b-713c-48ca-fce9-15c4eebfad1a"
      },
      "execution_count": null,
      "outputs": [
        {
          "output_type": "execute_result",
          "data": {
            "text/plain": [
              "array([[0.22466949, 0.2110616 , 0.03921392],\n",
              "       [0.84733172, 0.49565879, 0.80897356]])"
            ]
          },
          "metadata": {},
          "execution_count": 47
        }
      ]
    },
    {
      "cell_type": "code",
      "source": [
        "np.random.randint(1,5) # generates single number"
      ],
      "metadata": {
        "colab": {
          "base_uri": "https://localhost:8080/"
        },
        "id": "NS607kldrp6Y",
        "outputId": "83a75dcf-9c84-4aed-c132-b47410b69419"
      },
      "execution_count": null,
      "outputs": [
        {
          "output_type": "execute_result",
          "data": {
            "text/plain": [
              "4"
            ]
          },
          "metadata": {},
          "execution_count": 51
        }
      ]
    },
    {
      "cell_type": "code",
      "source": [
        "np.random.randn(2,4) # it returns the sample in std normal distribution"
      ],
      "metadata": {
        "colab": {
          "base_uri": "https://localhost:8080/"
        },
        "id": "anZ995Xkr1B3",
        "outputId": "8b2fd7e2-b15c-44cc-8a50-2e5d422c62bc"
      },
      "execution_count": null,
      "outputs": [
        {
          "output_type": "execute_result",
          "data": {
            "text/plain": [
              "array([[ 0.14616387, -0.12957391,  0.76209057,  0.69240511],\n",
              "       [-0.50446287,  0.30873156,  1.14786373,  1.21051441]])"
            ]
          },
          "metadata": {},
          "execution_count": 54
        }
      ]
    },
    {
      "cell_type": "code",
      "source": [
        "np.random.rand(2,3,4)\n"
      ],
      "metadata": {
        "colab": {
          "base_uri": "https://localhost:8080/"
        },
        "id": "Q4eCFT9SsGPR",
        "outputId": "dacca11e-7fdc-4f46-a65b-284ba117e694"
      },
      "execution_count": null,
      "outputs": [
        {
          "output_type": "execute_result",
          "data": {
            "text/plain": [
              "array([[[0.68231159, 0.14347822, 0.80068895, 0.2374408 ],\n",
              "        [0.8369758 , 0.35610013, 0.04654377, 0.92739869],\n",
              "        [0.48083742, 0.93487797, 0.49336761, 0.56173987]],\n",
              "\n",
              "       [[0.0902622 , 0.55184085, 0.43482093, 0.07945509],\n",
              "        [0.77074858, 0.63813362, 0.0876858 , 0.76430872],\n",
              "        [0.12638934, 0.19745046, 0.61089894, 0.67237253]]])"
            ]
          },
          "metadata": {},
          "execution_count": 55
        }
      ]
    },
    {
      "cell_type": "markdown",
      "source": [
        "## linspace"
      ],
      "metadata": {
        "id": "8nTnGGMmu0QB"
      }
    },
    {
      "cell_type": "code",
      "source": [
        "np.linspace(1,5)"
      ],
      "metadata": {
        "colab": {
          "base_uri": "https://localhost:8080/"
        },
        "id": "I_aPJv7Vuiiw",
        "outputId": "4888c43f-7631-49c5-d067-cc04cef6363a"
      },
      "execution_count": null,
      "outputs": [
        {
          "output_type": "execute_result",
          "data": {
            "text/plain": [
              "array([1.        , 1.08163265, 1.16326531, 1.24489796, 1.32653061,\n",
              "       1.40816327, 1.48979592, 1.57142857, 1.65306122, 1.73469388,\n",
              "       1.81632653, 1.89795918, 1.97959184, 2.06122449, 2.14285714,\n",
              "       2.2244898 , 2.30612245, 2.3877551 , 2.46938776, 2.55102041,\n",
              "       2.63265306, 2.71428571, 2.79591837, 2.87755102, 2.95918367,\n",
              "       3.04081633, 3.12244898, 3.20408163, 3.28571429, 3.36734694,\n",
              "       3.44897959, 3.53061224, 3.6122449 , 3.69387755, 3.7755102 ,\n",
              "       3.85714286, 3.93877551, 4.02040816, 4.10204082, 4.18367347,\n",
              "       4.26530612, 4.34693878, 4.42857143, 4.51020408, 4.59183673,\n",
              "       4.67346939, 4.75510204, 4.83673469, 4.91836735, 5.        ])"
            ]
          },
          "metadata": {},
          "execution_count": 56
        }
      ]
    },
    {
      "cell_type": "code",
      "source": [
        "np.linspace(start=1,stop=5,num=10) # num indicate no of samples to generate"
      ],
      "metadata": {
        "colab": {
          "base_uri": "https://localhost:8080/"
        },
        "id": "LfO28Akqu8wz",
        "outputId": "8015fc95-e4ca-42a7-ea29-134914e703aa"
      },
      "execution_count": null,
      "outputs": [
        {
          "output_type": "execute_result",
          "data": {
            "text/plain": [
              "array([1.        , 1.44444444, 1.88888889, 2.33333333, 2.77777778,\n",
              "       3.22222222, 3.66666667, 4.11111111, 4.55555556, 5.        ])"
            ]
          },
          "metadata": {},
          "execution_count": 59
        }
      ]
    },
    {
      "cell_type": "code",
      "source": [
        "np.linspace(1,4,num=10,endpoint=True) # if end point true it includes 4 other wise not"
      ],
      "metadata": {
        "colab": {
          "base_uri": "https://localhost:8080/"
        },
        "id": "aaQ-kcFgvkg-",
        "outputId": "d5e06e33-0441-4393-bd56-240e9ca04b92"
      },
      "execution_count": null,
      "outputs": [
        {
          "output_type": "execute_result",
          "data": {
            "text/plain": [
              "array([1.        , 1.33333333, 1.66666667, 2.        , 2.33333333,\n",
              "       2.66666667, 3.        , 3.33333333, 3.66666667, 4.        ])"
            ]
          },
          "metadata": {},
          "execution_count": 61
        }
      ]
    },
    {
      "cell_type": "code",
      "source": [
        "np.linspace(1,4,num=10,endpoint=False) # defaultly end point is True"
      ],
      "metadata": {
        "colab": {
          "base_uri": "https://localhost:8080/"
        },
        "id": "hy9Y8KbswUR-",
        "outputId": "73ff20d2-6b39-443e-8a50-60d2540ac5e2"
      },
      "execution_count": null,
      "outputs": [
        {
          "output_type": "execute_result",
          "data": {
            "text/plain": [
              "array([1. , 1.3, 1.6, 1.9, 2.2, 2.5, 2.8, 3.1, 3.4, 3.7])"
            ]
          },
          "metadata": {},
          "execution_count": 62
        }
      ]
    },
    {
      "cell_type": "code",
      "source": [
        "np.linspace(1,4,num=5,retstep=True) # if ts true it also show the step(spacing value)  # here 0.75"
      ],
      "metadata": {
        "colab": {
          "base_uri": "https://localhost:8080/"
        },
        "id": "Vy1EzS5Ww6ca",
        "outputId": "7cb4dc0b-2e20-49cf-df9c-7cf97c35b90a"
      },
      "execution_count": null,
      "outputs": [
        {
          "output_type": "execute_result",
          "data": {
            "text/plain": [
              "(array([1.  , 1.75, 2.5 , 3.25, 4.  ]), 0.75)"
            ]
          },
          "metadata": {},
          "execution_count": 65
        }
      ]
    },
    {
      "cell_type": "code",
      "source": [
        "np.linspace(1,5,num=10,endpoint=False,retstep=True)"
      ],
      "metadata": {
        "colab": {
          "base_uri": "https://localhost:8080/"
        },
        "id": "mBjU3mwwxWqC",
        "outputId": "344681f4-74f6-4364-8122-e9d54fe72719"
      },
      "execution_count": null,
      "outputs": [
        {
          "output_type": "execute_result",
          "data": {
            "text/plain": [
              "(array([1. , 1.4, 1.8, 2.2, 2.6, 3. , 3.4, 3.8, 4.2, 4.6]), 0.4)"
            ]
          },
          "metadata": {},
          "execution_count": 66
        }
      ]
    },
    {
      "cell_type": "code",
      "source": [],
      "metadata": {
        "id": "3PsMO7DMx6jj"
      },
      "execution_count": null,
      "outputs": []
    },
    {
      "cell_type": "code",
      "source": [
        "# we can reshape it for multiDimensional\n",
        "np.linspace(1,10,num=20).reshape(2,2,5)"
      ],
      "metadata": {
        "colab": {
          "base_uri": "https://localhost:8080/"
        },
        "id": "6LtmskVowkAh",
        "outputId": "1242bd28-c67e-46ce-8fcd-e18f67770fd4"
      },
      "execution_count": null,
      "outputs": [
        {
          "output_type": "execute_result",
          "data": {
            "text/plain": [
              "array([[[ 1.        ,  1.47368421,  1.94736842,  2.42105263,\n",
              "          2.89473684],\n",
              "        [ 3.36842105,  3.84210526,  4.31578947,  4.78947368,\n",
              "          5.26315789]],\n",
              "\n",
              "       [[ 5.73684211,  6.21052632,  6.68421053,  7.15789474,\n",
              "          7.63157895],\n",
              "        [ 8.10526316,  8.57894737,  9.05263158,  9.52631579,\n",
              "         10.        ]]])"
            ]
          },
          "metadata": {},
          "execution_count": 63
        }
      ]
    },
    {
      "cell_type": "markdown",
      "source": [
        "## Identity Matrix"
      ],
      "metadata": {
        "id": "tQmu-MP8yOsB"
      }
    },
    {
      "cell_type": "code",
      "source": [
        "np.identity(3) # here we con't chage the K value k=1"
      ],
      "metadata": {
        "colab": {
          "base_uri": "https://localhost:8080/"
        },
        "id": "bpIfAsEYyVxz",
        "outputId": "c43edcd6-0050-4e0f-8652-160b1950618d"
      },
      "execution_count": null,
      "outputs": [
        {
          "output_type": "execute_result",
          "data": {
            "text/plain": [
              "array([[1., 0., 0.],\n",
              "       [0., 1., 0.],\n",
              "       [0., 0., 1.]])"
            ]
          },
          "metadata": {},
          "execution_count": 69
        }
      ]
    },
    {
      "cell_type": "code",
      "source": [
        "np.identity(5)"
      ],
      "metadata": {
        "colab": {
          "base_uri": "https://localhost:8080/"
        },
        "id": "KdvA4t5nzbMM",
        "outputId": "be721c11-347d-4cd0-82f4-a102bd72df1d"
      },
      "execution_count": null,
      "outputs": [
        {
          "output_type": "execute_result",
          "data": {
            "text/plain": [
              "array([[1., 0., 0., 0., 0.],\n",
              "       [0., 1., 0., 0., 0.],\n",
              "       [0., 0., 1., 0., 0.],\n",
              "       [0., 0., 0., 1., 0.],\n",
              "       [0., 0., 0., 0., 1.]])"
            ]
          },
          "metadata": {},
          "execution_count": 72
        }
      ]
    },
    {
      "cell_type": "markdown",
      "source": [
        "tha main diffrence between eye and identity is in identity() we con't change the diagonal in eye() we can chage"
      ],
      "metadata": {
        "id": "XFVZ-kO_0ncz"
      }
    },
    {
      "cell_type": "code",
      "source": [
        "np.eye(3) #"
      ],
      "metadata": {
        "colab": {
          "base_uri": "https://localhost:8080/"
        },
        "id": "Rw8stma0w0DV",
        "outputId": "9289b463-7683-45f3-a936-fb08b1c73f7f"
      },
      "execution_count": null,
      "outputs": [
        {
          "output_type": "execute_result",
          "data": {
            "text/plain": [
              "array([[1., 0., 0.],\n",
              "       [0., 1., 0.],\n",
              "       [0., 0., 1.]])"
            ]
          },
          "metadata": {},
          "execution_count": 73
        }
      ]
    },
    {
      "cell_type": "code",
      "source": [
        "np.eye(5,k=-1) # Index of the diagonal: 0 (the default) refers to the main diagonal, a positive value refers to an upper diagonal, and a negative value to a lower diagonal."
      ],
      "metadata": {
        "colab": {
          "base_uri": "https://localhost:8080/"
        },
        "id": "Qm-G_BxByc3d",
        "outputId": "4f420678-b5df-424d-c206-6f6240aaa3f7"
      },
      "execution_count": null,
      "outputs": [
        {
          "output_type": "execute_result",
          "data": {
            "text/plain": [
              "array([[0., 0., 0., 0., 0.],\n",
              "       [1., 0., 0., 0., 0.],\n",
              "       [0., 1., 0., 0., 0.],\n",
              "       [0., 0., 1., 0., 0.],\n",
              "       [0., 0., 0., 1., 0.]])"
            ]
          },
          "metadata": {},
          "execution_count": 76
        }
      ]
    },
    {
      "cell_type": "code",
      "source": [
        "np.eye(3,5,)# in eye we can also caange the row and coloumns"
      ],
      "metadata": {
        "colab": {
          "base_uri": "https://localhost:8080/"
        },
        "id": "lKRqPI2Gzy9I",
        "outputId": "73bfafd4-d310-45c5-82b5-18f94603e5c7"
      },
      "execution_count": null,
      "outputs": [
        {
          "output_type": "execute_result",
          "data": {
            "text/plain": [
              "array([[1., 0., 0., 0., 0.],\n",
              "       [0., 1., 0., 0., 0.],\n",
              "       [0., 0., 1., 0., 0.]])"
            ]
          },
          "metadata": {},
          "execution_count": 77
        }
      ]
    },
    {
      "cell_type": "code",
      "source": [
        "np.eye(\n",
        "    3\n",
        ")"
      ],
      "metadata": {
        "colab": {
          "base_uri": "https://localhost:8080/"
        },
        "id": "pQLN3m3A0Xaj",
        "outputId": "b77e2379-b601-4451-b0f1-c027f55e156a"
      },
      "execution_count": null,
      "outputs": [
        {
          "output_type": "execute_result",
          "data": {
            "text/plain": [
              "array([[1., 0., 0.],\n",
              "       [0., 1., 0.],\n",
              "       [0., 0., 1.]])"
            ]
          },
          "metadata": {},
          "execution_count": 78
        }
      ]
    },
    {
      "cell_type": "code",
      "source": [
        "np.eye(3,k = -1)"
      ],
      "metadata": {
        "colab": {
          "base_uri": "https://localhost:8080/"
        },
        "id": "RVnNd_fc1Bq7",
        "outputId": "d0b14351-ae6f-4511-f3c4-4b24be6fc529"
      },
      "execution_count": null,
      "outputs": [
        {
          "output_type": "execute_result",
          "data": {
            "text/plain": [
              "array([[0., 0., 0.],\n",
              "       [1., 0., 0.],\n",
              "       [0., 1., 0.]])"
            ]
          },
          "metadata": {},
          "execution_count": 79
        }
      ]
    },
    {
      "cell_type": "code",
      "source": [
        "np.eye(3,k=0) # default it 0"
      ],
      "metadata": {
        "colab": {
          "base_uri": "https://localhost:8080/"
        },
        "id": "AcJhL7XE1M9y",
        "outputId": "7d1364f5-4db6-4687-e1a5-6e641f6c6e08"
      },
      "execution_count": null,
      "outputs": [
        {
          "output_type": "execute_result",
          "data": {
            "text/plain": [
              "array([[1., 0., 0.],\n",
              "       [0., 1., 0.],\n",
              "       [0., 0., 1.]])"
            ]
          },
          "metadata": {},
          "execution_count": 81
        }
      ]
    },
    {
      "cell_type": "code",
      "source": [
        "np.eye(3,k=1)"
      ],
      "metadata": {
        "colab": {
          "base_uri": "https://localhost:8080/"
        },
        "id": "LdWK00eX1H8x",
        "outputId": "440cdad5-fc1f-4388-8a7d-f7b5d8b22302"
      },
      "execution_count": null,
      "outputs": [
        {
          "output_type": "execute_result",
          "data": {
            "text/plain": [
              "array([[0., 1., 0.],\n",
              "       [0., 0., 1.],\n",
              "       [0., 0., 0.]])"
            ]
          },
          "metadata": {},
          "execution_count": 80
        }
      ]
    },
    {
      "cell_type": "markdown",
      "source": [
        "## Shape"
      ],
      "metadata": {
        "id": "OYy73RSv1nUQ"
      }
    },
    {
      "cell_type": "markdown",
      "source": [
        "it Return the shape of an array."
      ],
      "metadata": {
        "id": "By5wxZ241wjz"
      }
    },
    {
      "cell_type": "code",
      "source": [
        "a = np.arange(10).reshape(2,5)\n",
        "a"
      ],
      "metadata": {
        "colab": {
          "base_uri": "https://localhost:8080/"
        },
        "id": "45HzObFw1LFu",
        "outputId": "2d8ea427-03e3-4d92-df45-080d3b23e0bb"
      },
      "execution_count": null,
      "outputs": [
        {
          "output_type": "execute_result",
          "data": {
            "text/plain": [
              "array([[0, 1, 2, 3, 4],\n",
              "       [5, 6, 7, 8, 9]])"
            ]
          },
          "metadata": {},
          "execution_count": 84
        }
      ]
    },
    {
      "cell_type": "code",
      "source": [
        "a.shape"
      ],
      "metadata": {
        "colab": {
          "base_uri": "https://localhost:8080/"
        },
        "id": "rW4XzY7914ao",
        "outputId": "59ecb8c3-45b9-46a2-be86-ee7184fe01e2"
      },
      "execution_count": null,
      "outputs": [
        {
          "output_type": "execute_result",
          "data": {
            "text/plain": [
              "(2, 5)"
            ]
          },
          "metadata": {},
          "execution_count": 85
        }
      ]
    },
    {
      "cell_type": "code",
      "source": [
        "arr.shape"
      ],
      "metadata": {
        "colab": {
          "base_uri": "https://localhost:8080/"
        },
        "id": "9nIwquPp2GWN",
        "outputId": "40051bd4-9d6d-4316-98dd-0e942da8f1f0"
      },
      "execution_count": null,
      "outputs": [
        {
          "output_type": "execute_result",
          "data": {
            "text/plain": [
              "(7,)"
            ]
          },
          "metadata": {},
          "execution_count": 86
        }
      ]
    },
    {
      "cell_type": "code",
      "source": [
        "arr1.shape"
      ],
      "metadata": {
        "colab": {
          "base_uri": "https://localhost:8080/"
        },
        "id": "0DkQ_QWR2N3P",
        "outputId": "e15fbbec-2683-4526-907e-749cb4e669db"
      },
      "execution_count": null,
      "outputs": [
        {
          "output_type": "execute_result",
          "data": {
            "text/plain": [
              "(2, 5)"
            ]
          },
          "metadata": {},
          "execution_count": 88
        }
      ]
    },
    {
      "cell_type": "code",
      "source": [
        "arr2.shape"
      ],
      "metadata": {
        "colab": {
          "base_uri": "https://localhost:8080/"
        },
        "id": "1bldFh612Q_f",
        "outputId": "fe2d6021-6b3b-46f0-a69a-9eb82fcb5232"
      },
      "execution_count": null,
      "outputs": [
        {
          "output_type": "execute_result",
          "data": {
            "text/plain": [
              "(2, 2, 5)"
            ]
          },
          "metadata": {},
          "execution_count": 89
        }
      ]
    },
    {
      "cell_type": "markdown",
      "source": [
        "## Reshape"
      ],
      "metadata": {
        "id": "LgBQVsfh2byH"
      }
    },
    {
      "cell_type": "code",
      "source": [
        "np.arange(8).reshape(2,2,2)"
      ],
      "metadata": {
        "colab": {
          "base_uri": "https://localhost:8080/"
        },
        "id": "oarrRTLv2UwM",
        "outputId": "228fbec8-2fad-4ec8-edf6-192522d6bccb"
      },
      "execution_count": null,
      "outputs": [
        {
          "output_type": "execute_result",
          "data": {
            "text/plain": [
              "array([[[0, 1],\n",
              "        [2, 3]],\n",
              "\n",
              "       [[4, 5],\n",
              "        [6, 7]]])"
            ]
          },
          "metadata": {},
          "execution_count": 90
        }
      ]
    },
    {
      "cell_type": "markdown",
      "source": [
        "## Size"
      ],
      "metadata": {
        "id": "y8HMtPDr21Oy"
      }
    },
    {
      "cell_type": "code",
      "source": [
        "np.arange(8).reshape(2,2,2).size"
      ],
      "metadata": {
        "colab": {
          "base_uri": "https://localhost:8080/"
        },
        "id": "9Rzd9S892o-g",
        "outputId": "92a44b49-bd41-498a-fd98-c6565a366dba"
      },
      "execution_count": null,
      "outputs": [
        {
          "output_type": "execute_result",
          "data": {
            "text/plain": [
              "8"
            ]
          },
          "metadata": {},
          "execution_count": 91
        }
      ]
    },
    {
      "cell_type": "code",
      "source": [
        "arr.size"
      ],
      "metadata": {
        "colab": {
          "base_uri": "https://localhost:8080/"
        },
        "id": "0ngqTpyy26Ml",
        "outputId": "8299339d-e568-447f-bbd6-03745e0d2a36"
      },
      "execution_count": null,
      "outputs": [
        {
          "output_type": "execute_result",
          "data": {
            "text/plain": [
              "7"
            ]
          },
          "metadata": {},
          "execution_count": 92
        }
      ]
    },
    {
      "cell_type": "code",
      "source": [
        "arr1"
      ],
      "metadata": {
        "colab": {
          "base_uri": "https://localhost:8080/"
        },
        "id": "bnBTNlT63CvZ",
        "outputId": "eb4c0b1f-26dc-4b89-c3c4-b97114cd423f"
      },
      "execution_count": null,
      "outputs": [
        {
          "output_type": "execute_result",
          "data": {
            "text/plain": [
              "array([[1, 2, 3, 4, 5],\n",
              "       [7, 8, 9, 0, 5]])"
            ]
          },
          "metadata": {},
          "execution_count": 95
        }
      ]
    },
    {
      "cell_type": "code",
      "source": [
        "arr1.size"
      ],
      "metadata": {
        "colab": {
          "base_uri": "https://localhost:8080/"
        },
        "id": "_VIZU8Nq27vJ",
        "outputId": "eff6aa82-e105-4d2a-9a89-dd44304a5a6e"
      },
      "execution_count": null,
      "outputs": [
        {
          "output_type": "execute_result",
          "data": {
            "text/plain": [
              "10"
            ]
          },
          "metadata": {},
          "execution_count": 93
        }
      ]
    },
    {
      "cell_type": "code",
      "source": [
        "arr2"
      ],
      "metadata": {
        "colab": {
          "base_uri": "https://localhost:8080/"
        },
        "id": "ikI3OzWU3EZj",
        "outputId": "ddfaf67c-4efb-4bb3-aff0-96e8d2504835"
      },
      "execution_count": null,
      "outputs": [
        {
          "output_type": "execute_result",
          "data": {
            "text/plain": [
              "array([[[1, 2, 3, 4, 5],\n",
              "        [3, 4, 5, 6, 7]],\n",
              "\n",
              "       [[2, 4, 5, 6, 7],\n",
              "        [5, 6, 7, 8, 9]]])"
            ]
          },
          "metadata": {},
          "execution_count": 96
        }
      ]
    },
    {
      "cell_type": "code",
      "source": [
        "arr2.size"
      ],
      "metadata": {
        "colab": {
          "base_uri": "https://localhost:8080/"
        },
        "id": "AUTywtdc28xO",
        "outputId": "7529ab54-b986-4caf-9c56-76f8447de67c"
      },
      "execution_count": null,
      "outputs": [
        {
          "output_type": "execute_result",
          "data": {
            "text/plain": [
              "20"
            ]
          },
          "metadata": {},
          "execution_count": 94
        }
      ]
    },
    {
      "cell_type": "markdown",
      "source": [
        "## Item Size"
      ],
      "metadata": {
        "id": "FHE9EU_T3LPu"
      }
    },
    {
      "cell_type": "markdown",
      "source": [
        "Memory occupied by the item"
      ],
      "metadata": {
        "id": "vdv5zkFu3OGE"
      }
    },
    {
      "cell_type": "code",
      "source": [
        "arr.itemsize # bytes"
      ],
      "metadata": {
        "colab": {
          "base_uri": "https://localhost:8080/"
        },
        "id": "tdGxtcCq2-Fu",
        "outputId": "193dc51b-9764-4640-eba8-baa4e6006424"
      },
      "execution_count": null,
      "outputs": [
        {
          "output_type": "execute_result",
          "data": {
            "text/plain": [
              "8"
            ]
          },
          "metadata": {},
          "execution_count": 98
        }
      ]
    },
    {
      "cell_type": "code",
      "source": [
        "arr1.itemsize"
      ],
      "metadata": {
        "colab": {
          "base_uri": "https://localhost:8080/"
        },
        "id": "Xx2ojcRq3TFN",
        "outputId": "3f5f228f-4b85-437e-bdc3-73946e477cc7"
      },
      "execution_count": null,
      "outputs": [
        {
          "output_type": "execute_result",
          "data": {
            "text/plain": [
              "8"
            ]
          },
          "metadata": {},
          "execution_count": 99
        }
      ]
    },
    {
      "cell_type": "code",
      "source": [
        "arr2.itemsize # int 64 Takes 8 bytes"
      ],
      "metadata": {
        "colab": {
          "base_uri": "https://localhost:8080/"
        },
        "id": "h9J5Swcu3cEQ",
        "outputId": "884fdd60-addb-40ed-9992-348d4e1587bc"
      },
      "execution_count": null,
      "outputs": [
        {
          "output_type": "execute_result",
          "data": {
            "text/plain": [
              "8"
            ]
          },
          "metadata": {},
          "execution_count": 100
        }
      ]
    },
    {
      "cell_type": "code",
      "source": [
        "k = np.arange(5,dtype=np.int32)\n",
        "k"
      ],
      "metadata": {
        "colab": {
          "base_uri": "https://localhost:8080/"
        },
        "id": "-VnSjmil3hAF",
        "outputId": "07ad1334-00fb-4dc9-a4d6-a85738779ce0"
      },
      "execution_count": null,
      "outputs": [
        {
          "output_type": "execute_result",
          "data": {
            "text/plain": [
              "array([0, 1, 2, 3, 4], dtype=int32)"
            ]
          },
          "metadata": {},
          "execution_count": 103
        }
      ]
    },
    {
      "cell_type": "code",
      "source": [
        "k.itemsize # int 32 gives 4 bytes"
      ],
      "metadata": {
        "colab": {
          "base_uri": "https://localhost:8080/"
        },
        "id": "e-fxM_Ij34rF",
        "outputId": "527e6128-66cc-4cb2-df95-86e5e5de23da"
      },
      "execution_count": null,
      "outputs": [
        {
          "output_type": "execute_result",
          "data": {
            "text/plain": [
              "4"
            ]
          },
          "metadata": {},
          "execution_count": 104
        }
      ]
    },
    {
      "cell_type": "markdown",
      "source": [
        "## Dtype"
      ],
      "metadata": {
        "id": "cb3RuYhZ4IiL"
      }
    },
    {
      "cell_type": "code",
      "source": [
        "arr.dtype"
      ],
      "metadata": {
        "colab": {
          "base_uri": "https://localhost:8080/"
        },
        "id": "QkK4opgp39Gh",
        "outputId": "f174bc5c-5d0b-4476-dafe-8a6eede88764"
      },
      "execution_count": null,
      "outputs": [
        {
          "output_type": "execute_result",
          "data": {
            "text/plain": [
              "dtype('int64')"
            ]
          },
          "metadata": {},
          "execution_count": 105
        }
      ]
    },
    {
      "cell_type": "code",
      "source": [
        "np.arange(1,dtype=bool).dtype"
      ],
      "metadata": {
        "colab": {
          "base_uri": "https://localhost:8080/"
        },
        "id": "3-BRldgC4N7_",
        "outputId": "273ed5ce-4840-4fd3-e16f-209b2c6e51eb"
      },
      "execution_count": null,
      "outputs": [
        {
          "output_type": "execute_result",
          "data": {
            "text/plain": [
              "dtype('bool')"
            ]
          },
          "metadata": {},
          "execution_count": 109
        }
      ]
    },
    {
      "cell_type": "code",
      "source": [
        "f=np.arange(5,dtype=float)\n",
        "f"
      ],
      "metadata": {
        "colab": {
          "base_uri": "https://localhost:8080/"
        },
        "id": "mmXHxd4q4WPj",
        "outputId": "f6ffadd9-ce72-4d60-ae40-c8c2ffdcb6e7"
      },
      "execution_count": null,
      "outputs": [
        {
          "output_type": "execute_result",
          "data": {
            "text/plain": [
              "array([0., 1., 2., 3., 4.])"
            ]
          },
          "metadata": {},
          "execution_count": 110
        }
      ]
    },
    {
      "cell_type": "code",
      "source": [
        "f.dtype"
      ],
      "metadata": {
        "colab": {
          "base_uri": "https://localhost:8080/"
        },
        "id": "jNzCxYQ14oqT",
        "outputId": "b622fac8-9574-43eb-9b22-5ee1713d7bad"
      },
      "execution_count": null,
      "outputs": [
        {
          "output_type": "execute_result",
          "data": {
            "text/plain": [
              "dtype('float64')"
            ]
          },
          "metadata": {},
          "execution_count": 111
        }
      ]
    },
    {
      "cell_type": "markdown",
      "source": [
        "## Change Data Type"
      ],
      "metadata": {
        "id": "q_r4hLo846tH"
      }
    },
    {
      "cell_type": "code",
      "source": [
        "f.astype(int)"
      ],
      "metadata": {
        "colab": {
          "base_uri": "https://localhost:8080/"
        },
        "id": "qeHvmxRI4qxw",
        "outputId": "e5cee193-51cb-4b45-cf18-e254ce911da0"
      },
      "execution_count": null,
      "outputs": [
        {
          "output_type": "execute_result",
          "data": {
            "text/plain": [
              "array([0, 1, 2, 3, 4])"
            ]
          },
          "metadata": {},
          "execution_count": 112
        }
      ]
    },
    {
      "cell_type": "code",
      "source": [
        "f.astype(complex)"
      ],
      "metadata": {
        "colab": {
          "base_uri": "https://localhost:8080/"
        },
        "id": "kDfrgG4945Yc",
        "outputId": "c03a8783-a4d1-4306-977c-4d497745225e"
      },
      "execution_count": null,
      "outputs": [
        {
          "output_type": "execute_result",
          "data": {
            "text/plain": [
              "array([0.+0.j, 1.+0.j, 2.+0.j, 3.+0.j, 4.+0.j])"
            ]
          },
          "metadata": {},
          "execution_count": 113
        }
      ]
    },
    {
      "cell_type": "markdown",
      "source": [
        "## Arithemetic Operations"
      ],
      "metadata": {
        "id": "YRQ_ilc65TDP"
      }
    },
    {
      "cell_type": "markdown",
      "source": [
        "Scalar operations on Numpy arrays include performing addition or subtraction, or multiplication on each element of a Numpy array."
      ],
      "metadata": {
        "id": "9pUvQ3PkYwlh"
      }
    },
    {
      "cell_type": "code",
      "source": [
        "arr3 = np.arange(18).reshape(3,2,3)\n",
        "arr3"
      ],
      "metadata": {
        "id": "rlBt6KZ-5EoQ",
        "colab": {
          "base_uri": "https://localhost:8080/"
        },
        "outputId": "0aa23375-e142-49af-a75f-ddea8b1d1b81"
      },
      "execution_count": null,
      "outputs": [
        {
          "output_type": "execute_result",
          "data": {
            "text/plain": [
              "array([[[ 0,  1,  2],\n",
              "        [ 3,  4,  5]],\n",
              "\n",
              "       [[ 6,  7,  8],\n",
              "        [ 9, 10, 11]],\n",
              "\n",
              "       [[12, 13, 14],\n",
              "        [15, 16, 17]]])"
            ]
          },
          "metadata": {},
          "execution_count": 3
        }
      ]
    },
    {
      "cell_type": "code",
      "source": [
        "# addition\n",
        "arr3+5"
      ],
      "metadata": {
        "colab": {
          "base_uri": "https://localhost:8080/"
        },
        "id": "XhFiBw1wZdjv",
        "outputId": "aa020860-281f-45fc-f429-61a7f2d8ee15"
      },
      "execution_count": null,
      "outputs": [
        {
          "output_type": "execute_result",
          "data": {
            "text/plain": [
              "array([[[ 5,  6,  7],\n",
              "        [ 8,  9, 10]],\n",
              "\n",
              "       [[11, 12, 13],\n",
              "        [14, 15, 16]],\n",
              "\n",
              "       [[17, 18, 19],\n",
              "        [20, 21, 22]]])"
            ]
          },
          "metadata": {},
          "execution_count": 4
        }
      ]
    },
    {
      "cell_type": "code",
      "source": [
        "# Substract\n",
        "arr3-2"
      ],
      "metadata": {
        "colab": {
          "base_uri": "https://localhost:8080/"
        },
        "id": "Q1DoGdc4Zuaj",
        "outputId": "a823a597-7fa4-4194-c5db-2aa1c5cf1f94"
      },
      "execution_count": null,
      "outputs": [
        {
          "output_type": "execute_result",
          "data": {
            "text/plain": [
              "array([[[-2, -1,  0],\n",
              "        [ 1,  2,  3]],\n",
              "\n",
              "       [[ 4,  5,  6],\n",
              "        [ 7,  8,  9]],\n",
              "\n",
              "       [[10, 11, 12],\n",
              "        [13, 14, 15]]])"
            ]
          },
          "metadata": {},
          "execution_count": 5
        }
      ]
    },
    {
      "cell_type": "code",
      "source": [
        "# multiplication\n",
        "arr3*5"
      ],
      "metadata": {
        "colab": {
          "base_uri": "https://localhost:8080/"
        },
        "id": "to1UY2vBZ1yh",
        "outputId": "389e8e06-35c7-43af-8bd8-3eb81c808a67"
      },
      "execution_count": null,
      "outputs": [
        {
          "output_type": "execute_result",
          "data": {
            "text/plain": [
              "array([[[ 0,  5, 10],\n",
              "        [15, 20, 25]],\n",
              "\n",
              "       [[30, 35, 40],\n",
              "        [45, 50, 55]],\n",
              "\n",
              "       [[60, 65, 70],\n",
              "        [75, 80, 85]]])"
            ]
          },
          "metadata": {},
          "execution_count": 6
        }
      ]
    },
    {
      "cell_type": "code",
      "source": [
        "# divsion\n",
        "arr3/2"
      ],
      "metadata": {
        "colab": {
          "base_uri": "https://localhost:8080/"
        },
        "id": "JWeZn-X3Z4we",
        "outputId": "20adcc45-728d-495b-9448-968142191147"
      },
      "execution_count": null,
      "outputs": [
        {
          "output_type": "execute_result",
          "data": {
            "text/plain": [
              "array([[[0. , 0.5, 1. ],\n",
              "        [1.5, 2. , 2.5]],\n",
              "\n",
              "       [[3. , 3.5, 4. ],\n",
              "        [4.5, 5. , 5.5]],\n",
              "\n",
              "       [[6. , 6.5, 7. ],\n",
              "        [7.5, 8. , 8.5]]])"
            ]
          },
          "metadata": {},
          "execution_count": 7
        }
      ]
    },
    {
      "cell_type": "code",
      "source": [
        "# poweer\n",
        "arr3**5"
      ],
      "metadata": {
        "colab": {
          "base_uri": "https://localhost:8080/"
        },
        "id": "jRvmPXLEaB-w",
        "outputId": "db858266-428f-4e01-da35-fe3d1e000409"
      },
      "execution_count": null,
      "outputs": [
        {
          "output_type": "execute_result",
          "data": {
            "text/plain": [
              "array([[[      0,       1,      32],\n",
              "        [    243,    1024,    3125]],\n",
              "\n",
              "       [[   7776,   16807,   32768],\n",
              "        [  59049,  100000,  161051]],\n",
              "\n",
              "       [[ 248832,  371293,  537824],\n",
              "        [ 759375, 1048576, 1419857]]])"
            ]
          },
          "metadata": {},
          "execution_count": 8
        }
      ]
    },
    {
      "cell_type": "code",
      "source": [
        "# Modulo\n",
        "arr3%2"
      ],
      "metadata": {
        "colab": {
          "base_uri": "https://localhost:8080/"
        },
        "id": "FgkMGquiaHlC",
        "outputId": "49c9d184-32e5-45f2-8667-0a069a58bb8d"
      },
      "execution_count": null,
      "outputs": [
        {
          "output_type": "execute_result",
          "data": {
            "text/plain": [
              "array([[[0, 1, 0],\n",
              "        [1, 0, 1]],\n",
              "\n",
              "       [[0, 1, 0],\n",
              "        [1, 0, 1]],\n",
              "\n",
              "       [[0, 1, 0],\n",
              "        [1, 0, 1]]])"
            ]
          },
          "metadata": {},
          "execution_count": 10
        }
      ]
    },
    {
      "cell_type": "markdown",
      "source": [
        "## Relational Operators"
      ],
      "metadata": {
        "id": "2WsaiOx5ab-N"
      }
    },
    {
      "cell_type": "markdown",
      "source": [
        "The relational operators are also known as comparison operators, their main function is to return either a true or false based on the value of operands."
      ],
      "metadata": {
        "id": "ixDrELmJakl7"
      }
    },
    {
      "cell_type": "code",
      "source": [
        "arr3"
      ],
      "metadata": {
        "colab": {
          "base_uri": "https://localhost:8080/"
        },
        "id": "l6V51cuzaL9Z",
        "outputId": "2b557f2d-c698-4212-8120-8ca432a7caae"
      },
      "execution_count": null,
      "outputs": [
        {
          "output_type": "execute_result",
          "data": {
            "text/plain": [
              "array([[[ 0,  1,  2],\n",
              "        [ 3,  4,  5]],\n",
              "\n",
              "       [[ 6,  7,  8],\n",
              "        [ 9, 10, 11]],\n",
              "\n",
              "       [[12, 13, 14],\n",
              "        [15, 16, 17]]])"
            ]
          },
          "metadata": {},
          "execution_count": 11
        }
      ]
    },
    {
      "cell_type": "code",
      "source": [
        "arr3>3 # if the value is grater then 3 then gives True"
      ],
      "metadata": {
        "colab": {
          "base_uri": "https://localhost:8080/"
        },
        "id": "Md65XzBAaozs",
        "outputId": "cc4b0640-ffc3-49f4-95a4-cc2ccbd0496a"
      },
      "execution_count": null,
      "outputs": [
        {
          "output_type": "execute_result",
          "data": {
            "text/plain": [
              "array([[[False, False, False],\n",
              "        [False,  True,  True]],\n",
              "\n",
              "       [[ True,  True,  True],\n",
              "        [ True,  True,  True]],\n",
              "\n",
              "       [[ True,  True,  True],\n",
              "        [ True,  True,  True]]])"
            ]
          },
          "metadata": {},
          "execution_count": 13
        }
      ]
    },
    {
      "cell_type": "code",
      "source": [
        "arr3<10"
      ],
      "metadata": {
        "colab": {
          "base_uri": "https://localhost:8080/"
        },
        "id": "OFlWsWkQaqyC",
        "outputId": "98420343-ca29-4f2c-c47a-ecebae10abba"
      },
      "execution_count": null,
      "outputs": [
        {
          "output_type": "execute_result",
          "data": {
            "text/plain": [
              "array([[[ True,  True,  True],\n",
              "        [ True,  True,  True]],\n",
              "\n",
              "       [[ True,  True,  True],\n",
              "        [ True, False, False]],\n",
              "\n",
              "       [[False, False, False],\n",
              "        [False, False, False]]])"
            ]
          },
          "metadata": {},
          "execution_count": 14
        }
      ]
    },
    {
      "cell_type": "code",
      "source": [
        "arr3<5"
      ],
      "metadata": {
        "colab": {
          "base_uri": "https://localhost:8080/"
        },
        "id": "bdLLC7I8a4GU",
        "outputId": "f55b2fbe-bfe6-41fb-d416-996868aeac5e"
      },
      "execution_count": null,
      "outputs": [
        {
          "output_type": "execute_result",
          "data": {
            "text/plain": [
              "array([[[ True,  True,  True],\n",
              "        [ True,  True, False]],\n",
              "\n",
              "       [[False, False, False],\n",
              "        [False, False, False]],\n",
              "\n",
              "       [[False, False, False],\n",
              "        [False, False, False]]])"
            ]
          },
          "metadata": {},
          "execution_count": 16
        }
      ]
    },
    {
      "cell_type": "code",
      "source": [
        "np.where(arr3<5)"
      ],
      "metadata": {
        "colab": {
          "base_uri": "https://localhost:8080/"
        },
        "id": "EuMPowsDbIY5",
        "outputId": "c78edd4d-3bf1-42f7-ae76-898cadd68435"
      },
      "execution_count": null,
      "outputs": [
        {
          "output_type": "execute_result",
          "data": {
            "text/plain": [
              "(array([0, 0, 0, 0, 0]), array([0, 0, 0, 1, 1]), array([0, 1, 2, 0, 1]))"
            ]
          },
          "metadata": {},
          "execution_count": 17
        }
      ]
    },
    {
      "cell_type": "markdown",
      "source": [
        "## Vector Operation"
      ],
      "metadata": {
        "id": "w7H0aRXJbowi"
      }
    },
    {
      "cell_type": "code",
      "source": [
        "arr4 = np.arange(10,28).reshape(3,2,3)\n",
        "arr4"
      ],
      "metadata": {
        "colab": {
          "base_uri": "https://localhost:8080/"
        },
        "id": "3ohVggWXbfAg",
        "outputId": "7ecf0cad-e8ae-4c16-8c10-f8fbe30be5b0"
      },
      "execution_count": null,
      "outputs": [
        {
          "output_type": "execute_result",
          "data": {
            "text/plain": [
              "array([[[10, 11, 12],\n",
              "        [13, 14, 15]],\n",
              "\n",
              "       [[16, 17, 18],\n",
              "        [19, 20, 21]],\n",
              "\n",
              "       [[22, 23, 24],\n",
              "        [25, 26, 27]]])"
            ]
          },
          "metadata": {},
          "execution_count": 21
        }
      ]
    },
    {
      "cell_type": "code",
      "source": [
        "arr3+arr4 # arithmetic"
      ],
      "metadata": {
        "colab": {
          "base_uri": "https://localhost:8080/"
        },
        "id": "ygD5D_Dsb6qv",
        "outputId": "01d1111d-354d-4d77-9e18-82608f37067c"
      },
      "execution_count": null,
      "outputs": [
        {
          "output_type": "execute_result",
          "data": {
            "text/plain": [
              "array([[[10, 12, 14],\n",
              "        [16, 18, 20]],\n",
              "\n",
              "       [[22, 24, 26],\n",
              "        [28, 30, 32]],\n",
              "\n",
              "       [[34, 36, 38],\n",
              "        [40, 42, 44]]])"
            ]
          },
          "metadata": {},
          "execution_count": 22
        }
      ]
    },
    {
      "cell_type": "code",
      "source": [
        "arr4-arr3"
      ],
      "metadata": {
        "colab": {
          "base_uri": "https://localhost:8080/"
        },
        "id": "ASfTnq7ScGcB",
        "outputId": "7ba90a70-2edc-4442-db4c-54d3ecffd622"
      },
      "execution_count": null,
      "outputs": [
        {
          "output_type": "execute_result",
          "data": {
            "text/plain": [
              "array([[[10, 10, 10],\n",
              "        [10, 10, 10]],\n",
              "\n",
              "       [[10, 10, 10],\n",
              "        [10, 10, 10]],\n",
              "\n",
              "       [[10, 10, 10],\n",
              "        [10, 10, 10]]])"
            ]
          },
          "metadata": {},
          "execution_count": 23
        }
      ]
    },
    {
      "cell_type": "code",
      "source": [
        "arr3/arr4"
      ],
      "metadata": {
        "colab": {
          "base_uri": "https://localhost:8080/"
        },
        "id": "kz81eOjRcNEV",
        "outputId": "fb3855cb-42f2-4cd3-ccc4-a5c2fd4b1cdb"
      },
      "execution_count": null,
      "outputs": [
        {
          "output_type": "execute_result",
          "data": {
            "text/plain": [
              "array([[[0.        , 0.09090909, 0.16666667],\n",
              "        [0.23076923, 0.28571429, 0.33333333]],\n",
              "\n",
              "       [[0.375     , 0.41176471, 0.44444444],\n",
              "        [0.47368421, 0.5       , 0.52380952]],\n",
              "\n",
              "       [[0.54545455, 0.56521739, 0.58333333],\n",
              "        [0.6       , 0.61538462, 0.62962963]]])"
            ]
          },
          "metadata": {},
          "execution_count": 24
        }
      ]
    },
    {
      "cell_type": "code",
      "source": [
        "arr3%arr4"
      ],
      "metadata": {
        "colab": {
          "base_uri": "https://localhost:8080/"
        },
        "id": "uX13HDFpcSLO",
        "outputId": "c29ad4f1-6f11-4095-84fe-ef1ff9f1480d"
      },
      "execution_count": null,
      "outputs": [
        {
          "output_type": "execute_result",
          "data": {
            "text/plain": [
              "array([[[ 0,  1,  2],\n",
              "        [ 3,  4,  5]],\n",
              "\n",
              "       [[ 6,  7,  8],\n",
              "        [ 9, 10, 11]],\n",
              "\n",
              "       [[12, 13, 14],\n",
              "        [15, 16, 17]]])"
            ]
          },
          "metadata": {},
          "execution_count": 25
        }
      ]
    },
    {
      "cell_type": "markdown",
      "source": [
        "## Array Function"
      ],
      "metadata": {
        "id": "Ih8kWjSpcaew"
      }
    },
    {
      "cell_type": "code",
      "source": [
        "a1 = np.random.random((3,4)) # random can use (3,4)# matrix\n",
        "a1"
      ],
      "metadata": {
        "colab": {
          "base_uri": "https://localhost:8080/"
        },
        "id": "VmLxcl19cVWy",
        "outputId": "924f92d0-7dcc-45a6-d7b0-2195d3d8777f"
      },
      "execution_count": null,
      "outputs": [
        {
          "output_type": "execute_result",
          "data": {
            "text/plain": [
              "array([[0.46380509, 0.76571238, 0.12995163, 0.66105013],\n",
              "       [0.60726556, 0.96420291, 0.03542332, 0.74769584],\n",
              "       [0.75268628, 0.56478975, 0.79861114, 0.54982002]])"
            ]
          },
          "metadata": {},
          "execution_count": 32
        }
      ]
    },
    {
      "cell_type": "code",
      "source": [
        "# Max\n",
        "np.max(a1)"
      ],
      "metadata": {
        "colab": {
          "base_uri": "https://localhost:8080/"
        },
        "id": "TPKtboInck2m",
        "outputId": "09408bdc-2b4a-452f-dcfc-5e1a5733d54e"
      },
      "execution_count": null,
      "outputs": [
        {
          "output_type": "execute_result",
          "data": {
            "text/plain": [
              "0.9642029100208058"
            ]
          },
          "metadata": {},
          "execution_count": 35
        }
      ]
    },
    {
      "cell_type": "code",
      "source": [
        "# Min\n",
        "np.min(a1)"
      ],
      "metadata": {
        "colab": {
          "base_uri": "https://localhost:8080/"
        },
        "id": "ae1VEnCLc5pe",
        "outputId": "0ed74173-9dc3-4916-b535-04bc904a0dfa"
      },
      "execution_count": null,
      "outputs": [
        {
          "output_type": "execute_result",
          "data": {
            "text/plain": [
              "0.03542331879198679"
            ]
          },
          "metadata": {},
          "execution_count": 36
        }
      ]
    },
    {
      "cell_type": "markdown",
      "source": [],
      "metadata": {
        "id": "CgagDCY_dMvW"
      }
    },
    {
      "cell_type": "code",
      "source": [
        "a1 =np.round(a1*100)\n",
        "a1"
      ],
      "metadata": {
        "colab": {
          "base_uri": "https://localhost:8080/"
        },
        "id": "QGYPKic_dQeu",
        "outputId": "458698c8-a66e-495d-8c0b-2dcebdf50f41"
      },
      "execution_count": null,
      "outputs": [
        {
          "output_type": "execute_result",
          "data": {
            "text/plain": [
              "array([[ 5000.,  8000.,  1000.,  7000.],\n",
              "       [ 6000., 10000.,     0.,  7000.],\n",
              "       [ 8000.,  6000.,  8000.,  5000.]])"
            ]
          },
          "metadata": {},
          "execution_count": 44
        }
      ]
    },
    {
      "cell_type": "code",
      "source": [],
      "metadata": {
        "id": "pln01Qc3dPuT"
      },
      "execution_count": null,
      "outputs": []
    },
    {
      "cell_type": "code",
      "source": [
        "np.sum(np.round(a1*10))"
      ],
      "metadata": {
        "colab": {
          "base_uri": "https://localhost:8080/"
        },
        "id": "3rZSsjKjc-oe",
        "outputId": "ab2f0774-f482-42d2-820a-b6cf5924a3f6"
      },
      "execution_count": null,
      "outputs": [
        {
          "output_type": "execute_result",
          "data": {
            "text/plain": [
              "71.0"
            ]
          },
          "metadata": {},
          "execution_count": 39
        }
      ]
    },
    {
      "cell_type": "code",
      "source": [
        "# Product\n",
        "np.prod(a1) # because one value is zero in the array items"
      ],
      "metadata": {
        "colab": {
          "base_uri": "https://localhost:8080/"
        },
        "id": "3ldq162jdCAD",
        "outputId": "02107976-5af2-40f0-d158-eaad73253f95"
      },
      "execution_count": null,
      "outputs": [
        {
          "output_type": "execute_result",
          "data": {
            "text/plain": [
              "0.0"
            ]
          },
          "metadata": {},
          "execution_count": 46
        }
      ]
    },
    {
      "cell_type": "markdown",
      "source": [
        "## Axis"
      ],
      "metadata": {
        "id": "kaJXaYbOeMuq"
      }
    },
    {
      "cell_type": "markdown",
      "source": [
        "in numpy asis = 0 is column and 1 is row"
      ],
      "metadata": {
        "id": "_TAluKNUeRt7"
      }
    },
    {
      "cell_type": "code",
      "source": [
        "# if we want maximum of every column\n",
        "np.max(a1,axis=0)"
      ],
      "metadata": {
        "colab": {
          "base_uri": "https://localhost:8080/"
        },
        "id": "vLlpMIw3dykJ",
        "outputId": "166bfa67-6c57-42f6-f16e-0343bce77669"
      },
      "execution_count": null,
      "outputs": [
        {
          "output_type": "execute_result",
          "data": {
            "text/plain": [
              "array([ 8000., 10000.,  8000.,  7000.])"
            ]
          },
          "metadata": {},
          "execution_count": 49
        }
      ]
    },
    {
      "cell_type": "code",
      "source": [
        "# if we want maximum of every row\n",
        "np.max(a1,axis=1\n",
        "       )"
      ],
      "metadata": {
        "colab": {
          "base_uri": "https://localhost:8080/"
        },
        "id": "Ws_7MFqte0IO",
        "outputId": "003b84f5-4444-49cc-acf7-c090e3e546f7"
      },
      "execution_count": null,
      "outputs": [
        {
          "output_type": "execute_result",
          "data": {
            "text/plain": [
              "array([ 8000., 10000.,  8000.])"
            ]
          },
          "metadata": {},
          "execution_count": 50
        }
      ]
    },
    {
      "cell_type": "code",
      "source": [
        "# min of every column\n",
        "np.min(a1,axis=0)"
      ],
      "metadata": {
        "colab": {
          "base_uri": "https://localhost:8080/"
        },
        "id": "dgst7uobe749",
        "outputId": "57d7b0f6-43b2-4d4d-f7e0-0ac310d06c97"
      },
      "execution_count": null,
      "outputs": [
        {
          "output_type": "execute_result",
          "data": {
            "text/plain": [
              "array([5000., 6000.,    0., 5000.])"
            ]
          },
          "metadata": {},
          "execution_count": 52
        }
      ]
    },
    {
      "cell_type": "code",
      "source": [
        "# product\n",
        "np.prod(a1,axis=0)"
      ],
      "metadata": {
        "colab": {
          "base_uri": "https://localhost:8080/"
        },
        "id": "8YzfoH5cfN8a",
        "outputId": "244e3473-4798-4712-f9b3-9cd6d457c8ce"
      },
      "execution_count": null,
      "outputs": [
        {
          "output_type": "execute_result",
          "data": {
            "text/plain": [
              "array([2.40e+11, 4.80e+11, 0.00e+00, 2.45e+11])"
            ]
          },
          "metadata": {},
          "execution_count": 53
        }
      ]
    },
    {
      "cell_type": "code",
      "source": [
        "np.prod(a1,axis=1)"
      ],
      "metadata": {
        "colab": {
          "base_uri": "https://localhost:8080/"
        },
        "id": "eon4uoWlfWZw",
        "outputId": "811903d7-89e9-493a-a4fd-0c603624bb69"
      },
      "execution_count": null,
      "outputs": [
        {
          "output_type": "execute_result",
          "data": {
            "text/plain": [
              "array([2.80e+14, 0.00e+00, 1.92e+15])"
            ]
          },
          "metadata": {},
          "execution_count": 54
        }
      ]
    },
    {
      "cell_type": "markdown",
      "source": [
        "## Statistics Functions"
      ],
      "metadata": {
        "id": "pZBm64NTfr39"
      }
    },
    {
      "cell_type": "code",
      "source": [
        "# mean\n",
        "np.mean(a1)"
      ],
      "metadata": {
        "colab": {
          "base_uri": "https://localhost:8080/"
        },
        "id": "YVcESbBffY9k",
        "outputId": "fec6505d-4278-41a9-94b9-ec435a27c6ea"
      },
      "execution_count": null,
      "outputs": [
        {
          "output_type": "execute_result",
          "data": {
            "text/plain": [
              "5916.666666666667"
            ]
          },
          "metadata": {},
          "execution_count": 58
        }
      ]
    },
    {
      "cell_type": "code",
      "source": [
        "a2 = np.linspace(20,50,num=20).reshape(2,2,5)\n",
        "a2"
      ],
      "metadata": {
        "colab": {
          "base_uri": "https://localhost:8080/"
        },
        "id": "kmj_AVGlffHf",
        "outputId": "0747630e-d3e7-4c41-b2d3-9ab0e8505f26"
      },
      "execution_count": null,
      "outputs": [
        {
          "output_type": "execute_result",
          "data": {
            "text/plain": [
              "array([[[20.        , 21.57894737, 23.15789474, 24.73684211,\n",
              "         26.31578947],\n",
              "        [27.89473684, 29.47368421, 31.05263158, 32.63157895,\n",
              "         34.21052632]],\n",
              "\n",
              "       [[35.78947368, 37.36842105, 38.94736842, 40.52631579,\n",
              "         42.10526316],\n",
              "        [43.68421053, 45.26315789, 46.84210526, 48.42105263,\n",
              "         50.        ]]])"
            ]
          },
          "metadata": {},
          "execution_count": 62
        }
      ]
    },
    {
      "cell_type": "code",
      "source": [
        "np.mean(a2)"
      ],
      "metadata": {
        "colab": {
          "base_uri": "https://localhost:8080/"
        },
        "id": "wCl42f1DgP22",
        "outputId": "f7e74b96-6e44-4f7c-f3dd-36be5d098b1a"
      },
      "execution_count": null,
      "outputs": [
        {
          "output_type": "execute_result",
          "data": {
            "text/plain": [
              "35.0"
            ]
          },
          "metadata": {},
          "execution_count": 66
        }
      ]
    },
    {
      "cell_type": "code",
      "source": [
        "np.mean(a2,axis=0) # mean of every coloumn"
      ],
      "metadata": {
        "colab": {
          "base_uri": "https://localhost:8080/"
        },
        "id": "BBAeHyv_gfPh",
        "outputId": "0c0b0810-de84-4bb8-cc0b-cfee318747aa"
      },
      "execution_count": null,
      "outputs": [
        {
          "output_type": "execute_result",
          "data": {
            "text/plain": [
              "array([[27.89473684, 29.47368421, 31.05263158, 32.63157895, 34.21052632],\n",
              "       [35.78947368, 37.36842105, 38.94736842, 40.52631579, 42.10526316]])"
            ]
          },
          "metadata": {},
          "execution_count": 68
        }
      ]
    },
    {
      "cell_type": "code",
      "source": [
        "np.mean(a2,axis=1) # mean of every row"
      ],
      "metadata": {
        "colab": {
          "base_uri": "https://localhost:8080/"
        },
        "id": "xDxaUAVTgwiu",
        "outputId": "626b35b4-d275-452d-9778-3d404711c169"
      },
      "execution_count": null,
      "outputs": [
        {
          "output_type": "execute_result",
          "data": {
            "text/plain": [
              "array([[23.94736842, 25.52631579, 27.10526316, 28.68421053, 30.26315789],\n",
              "       [39.73684211, 41.31578947, 42.89473684, 44.47368421, 46.05263158]])"
            ]
          },
          "metadata": {},
          "execution_count": 70
        }
      ]
    },
    {
      "cell_type": "code",
      "source": [
        "np.median(a2)"
      ],
      "metadata": {
        "colab": {
          "base_uri": "https://localhost:8080/"
        },
        "id": "J8GLvpCkg2qk",
        "outputId": "ffae9caa-fa65-4356-e7c7-d626636bedbf"
      },
      "execution_count": null,
      "outputs": [
        {
          "output_type": "execute_result",
          "data": {
            "text/plain": [
              "35.0"
            ]
          },
          "metadata": {},
          "execution_count": 71
        }
      ]
    },
    {
      "cell_type": "code",
      "source": [
        "np.median(a2,axis=0)# mean of each col"
      ],
      "metadata": {
        "colab": {
          "base_uri": "https://localhost:8080/"
        },
        "id": "00lQYoEQhATO",
        "outputId": "dc7636bf-a587-4680-f788-8373e34c1637"
      },
      "execution_count": null,
      "outputs": [
        {
          "output_type": "execute_result",
          "data": {
            "text/plain": [
              "array([[27.89473684, 29.47368421, 31.05263158, 32.63157895, 34.21052632],\n",
              "       [35.78947368, 37.36842105, 38.94736842, 40.52631579, 42.10526316]])"
            ]
          },
          "metadata": {},
          "execution_count": 72
        }
      ]
    },
    {
      "cell_type": "code",
      "source": [
        " np.median(a2,axis=1) # mean of each roe"
      ],
      "metadata": {
        "colab": {
          "base_uri": "https://localhost:8080/"
        },
        "id": "5PHVldM4hDBu",
        "outputId": "49dc2b38-a189-4c3c-daa7-9d7fc19aca6c"
      },
      "execution_count": null,
      "outputs": [
        {
          "output_type": "execute_result",
          "data": {
            "text/plain": [
              "array([[23.94736842, 25.52631579, 27.10526316, 28.68421053, 30.26315789],\n",
              "       [39.73684211, 41.31578947, 42.89473684, 44.47368421, 46.05263158]])"
            ]
          },
          "metadata": {},
          "execution_count": 73
        }
      ]
    },
    {
      "cell_type": "code",
      "source": [
        "# standerd deviation\n",
        "np.std(a2)"
      ],
      "metadata": {
        "colab": {
          "base_uri": "https://localhost:8080/"
        },
        "id": "8Qd66cUIhUaL",
        "outputId": "8e520002-33a9-4dcf-b97a-ea0eaaef1569"
      },
      "execution_count": null,
      "outputs": [
        {
          "output_type": "execute_result",
          "data": {
            "text/plain": [
              "9.104654680003259"
            ]
          },
          "metadata": {},
          "execution_count": 74
        }
      ]
    },
    {
      "cell_type": "code",
      "source": [
        "np.std(a2,axis=1)"
      ],
      "metadata": {
        "colab": {
          "base_uri": "https://localhost:8080/"
        },
        "id": "g4g6dzE2hfJQ",
        "outputId": "c3350d85-1c9c-4f72-8f24-bccea1392be3"
      },
      "execution_count": null,
      "outputs": [
        {
          "output_type": "execute_result",
          "data": {
            "text/plain": [
              "array([[3.94736842, 3.94736842, 3.94736842, 3.94736842, 3.94736842],\n",
              "       [3.94736842, 3.94736842, 3.94736842, 3.94736842, 3.94736842]])"
            ]
          },
          "metadata": {},
          "execution_count": 76
        }
      ]
    },
    {
      "cell_type": "code",
      "source": [
        "# varience\n",
        "np.var(a2)"
      ],
      "metadata": {
        "colab": {
          "base_uri": "https://localhost:8080/"
        },
        "id": "uEiU7Ezxhirm",
        "outputId": "d6c720a3-9f2c-4f8b-dbe8-0fbe7c9a4e2c"
      },
      "execution_count": null,
      "outputs": [
        {
          "output_type": "execute_result",
          "data": {
            "text/plain": [
              "82.89473684210526"
            ]
          },
          "metadata": {},
          "execution_count": 81
        }
      ]
    },
    {
      "cell_type": "code",
      "source": [
        "np.var(a2,axis=0)"
      ],
      "metadata": {
        "colab": {
          "base_uri": "https://localhost:8080/"
        },
        "id": "DiOe9w7jh8pb",
        "outputId": "91f69c05-b4c9-4f45-a415-0173d4c9c7d7"
      },
      "execution_count": null,
      "outputs": [
        {
          "output_type": "execute_result",
          "data": {
            "text/plain": [
              "array([[62.32686981, 62.32686981, 62.32686981, 62.32686981, 62.32686981],\n",
              "       [62.32686981, 62.32686981, 62.32686981, 62.32686981, 62.32686981]])"
            ]
          },
          "metadata": {},
          "execution_count": 82
        }
      ]
    },
    {
      "cell_type": "markdown",
      "source": [
        "## Trignometry Functions"
      ],
      "metadata": {
        "id": "KOExwcDfiEI9"
      }
    },
    {
      "cell_type": "code",
      "source": [
        "np.sin(a2) #Sin"
      ],
      "metadata": {
        "colab": {
          "base_uri": "https://localhost:8080/"
        },
        "id": "OPFPjm8aiDtE",
        "outputId": "6416b080-b110-4015-e913-92fcda366779"
      },
      "execution_count": null,
      "outputs": [
        {
          "output_type": "execute_result",
          "data": {
            "text/plain": [
              "array([[[ 0.91294525,  0.40062713, -0.91947624, -0.38563792,\n",
              "          0.92576287],\n",
              "        [ 0.37054622, -0.93180348, -0.35535606,  0.93759646,\n",
              "          0.34007145]],\n",
              "\n",
              "       [[-0.94314027, -0.32469647,  0.94843344,  0.3092352 ,\n",
              "         -0.95347456],\n",
              "        [-0.29369175,  0.95826229,  0.27807025, -0.96279537,\n",
              "         -0.26237485]]])"
            ]
          },
          "metadata": {},
          "execution_count": 85
        }
      ]
    },
    {
      "cell_type": "code",
      "source": [
        "np.cos(a2)"
      ],
      "metadata": {
        "colab": {
          "base_uri": "https://localhost:8080/"
        },
        "id": "YkP9XhtIh-ta",
        "outputId": "0e6bf9ef-4ced-4da0-e518-ef7e1bbe110d"
      },
      "execution_count": null,
      "outputs": [
        {
          "output_type": "execute_result",
          "data": {
            "text/plain": [
              "array([[[ 0.40808206, -0.91624118, -0.39314559,  0.9226502 ,\n",
              "          0.37810463],\n",
              "        [-0.92881403, -0.3629632 ,  0.93473102,  0.3477253 ,\n",
              "         -0.9403996 ]],\n",
              "\n",
              "       [[-0.332395  ,  0.94581827,  0.31697636, -0.95098559,\n",
              "         -0.30147349],\n",
              "        [ 0.95590018,  0.2858905 , -0.96056074, -0.27023153,\n",
              "          0.96496603]]])"
            ]
          },
          "metadata": {},
          "execution_count": 86
        }
      ]
    },
    {
      "cell_type": "code",
      "source": [
        "np.tan(a2)"
      ],
      "metadata": {
        "colab": {
          "base_uri": "https://localhost:8080/"
        },
        "id": "z2Ss4kLUjGEu",
        "outputId": "42de1934-489b-47fb-dbff-7418cc2db0ad"
      },
      "execution_count": null,
      "outputs": [
        {
          "output_type": "execute_result",
          "data": {
            "text/plain": [
              "array([[[ 2.23716094, -0.43725074,  2.33876779, -0.41796763,\n",
              "          2.44843037],\n",
              "        [-0.39894555,  2.567212  , -0.38016932,  2.69637109,\n",
              "         -0.36162441]],\n",
              "\n",
              "       [[ 2.8374081 , -0.34329689,  2.99212669, -0.32517338,\n",
              "          3.16271445],\n",
              "        [-0.30724102,  3.35185081, -0.28948742,  3.56285357,\n",
              "         -0.27190061]]])"
            ]
          },
          "metadata": {},
          "execution_count": 87
        }
      ]
    },
    {
      "cell_type": "markdown",
      "source": [
        "## dot product\n",
        "The numpy module of Python provides a function to perform the dot product of two arrays."
      ],
      "metadata": {
        "id": "8L7rgwz2jojA"
      }
    },
    {
      "cell_type": "code",
      "source": [
        "s1 = np.arange(12).reshape(3,2,2)\n",
        "s1"
      ],
      "metadata": {
        "colab": {
          "base_uri": "https://localhost:8080/"
        },
        "id": "xPyZfeGhjOIv",
        "outputId": "528e9ce4-b7c0-4c55-fd8c-23047680cb99"
      },
      "execution_count": null,
      "outputs": [
        {
          "output_type": "execute_result",
          "data": {
            "text/plain": [
              "array([[[ 0,  1],\n",
              "        [ 2,  3]],\n",
              "\n",
              "       [[ 4,  5],\n",
              "        [ 6,  7]],\n",
              "\n",
              "       [[ 8,  9],\n",
              "        [10, 11]]])"
            ]
          },
          "metadata": {},
          "execution_count": 91
        }
      ]
    },
    {
      "cell_type": "code",
      "source": [
        "s2 =np.arange(8).reshape(2,2,2) # we can also do dot product with diffrent dimentions(shapes)\n",
        "s2"
      ],
      "metadata": {
        "colab": {
          "base_uri": "https://localhost:8080/"
        },
        "id": "ChJqqCjWjQgO",
        "outputId": "a3523d25-f640-4fc7-986f-0a75518c9d96"
      },
      "execution_count": null,
      "outputs": [
        {
          "output_type": "execute_result",
          "data": {
            "text/plain": [
              "array([[[0, 1],\n",
              "        [2, 3]],\n",
              "\n",
              "       [[4, 5],\n",
              "        [6, 7]]])"
            ]
          },
          "metadata": {},
          "execution_count": 95
        }
      ]
    },
    {
      "cell_type": "code",
      "source": [
        "np.dot(s1,s2)"
      ],
      "metadata": {
        "colab": {
          "base_uri": "https://localhost:8080/"
        },
        "id": "IkSd_gX3jg4G",
        "outputId": "e93a92e7-da0f-46ed-a981-15a945756b5c"
      },
      "execution_count": null,
      "outputs": [
        {
          "output_type": "execute_result",
          "data": {
            "text/plain": [
              "array([[[[  2,   3],\n",
              "         [  6,   7]],\n",
              "\n",
              "        [[  6,  11],\n",
              "         [ 26,  31]]],\n",
              "\n",
              "\n",
              "       [[[ 10,  19],\n",
              "         [ 46,  55]],\n",
              "\n",
              "        [[ 14,  27],\n",
              "         [ 66,  79]]],\n",
              "\n",
              "\n",
              "       [[[ 18,  35],\n",
              "         [ 86, 103]],\n",
              "\n",
              "        [[ 22,  43],\n",
              "         [106, 127]]]])"
            ]
          },
          "metadata": {},
          "execution_count": 94
        }
      ]
    },
    {
      "cell_type": "code",
      "source": [
        "s1*s2 # not possible because shape"
      ],
      "metadata": {
        "colab": {
          "base_uri": "https://localhost:8080/",
          "height": 141
        },
        "id": "R59ZGHkPkGLZ",
        "outputId": "dd380076-3f2c-44ea-895a-86ca1e246800"
      },
      "execution_count": null,
      "outputs": [
        {
          "output_type": "error",
          "ename": "ValueError",
          "evalue": "operands could not be broadcast together with shapes (3,2,2) (2,2,2) ",
          "traceback": [
            "\u001b[0;31m---------------------------------------------------------------------------\u001b[0m",
            "\u001b[0;31mValueError\u001b[0m                                Traceback (most recent call last)",
            "\u001b[0;32m<ipython-input-96-d53a7f1503a6>\u001b[0m in \u001b[0;36m<cell line: 1>\u001b[0;34m()\u001b[0m\n\u001b[0;32m----> 1\u001b[0;31m \u001b[0ms1\u001b[0m\u001b[0;34m*\u001b[0m\u001b[0ms2\u001b[0m\u001b[0;34m\u001b[0m\u001b[0;34m\u001b[0m\u001b[0m\n\u001b[0m",
            "\u001b[0;31mValueError\u001b[0m: operands could not be broadcast together with shapes (3,2,2) (2,2,2) "
          ]
        }
      ]
    },
    {
      "cell_type": "markdown",
      "source": [
        "## Log and Exponents"
      ],
      "metadata": {
        "id": "eCLz0JahkmH0"
      }
    },
    {
      "cell_type": "code",
      "source": [
        "np.exp(s2)"
      ],
      "metadata": {
        "colab": {
          "base_uri": "https://localhost:8080/"
        },
        "id": "4EeeomhMkWnG",
        "outputId": "ead8a420-b727-47f5-fb15-6948e7f35fc1"
      },
      "execution_count": null,
      "outputs": [
        {
          "output_type": "execute_result",
          "data": {
            "text/plain": [
              "array([[[1.00000000e+00, 2.71828183e+00],\n",
              "        [7.38905610e+00, 2.00855369e+01]],\n",
              "\n",
              "       [[5.45981500e+01, 1.48413159e+02],\n",
              "        [4.03428793e+02, 1.09663316e+03]]])"
            ]
          },
          "metadata": {},
          "execution_count": 99
        }
      ]
    },
    {
      "cell_type": "code",
      "source": [
        "np.exp(s1)"
      ],
      "metadata": {
        "colab": {
          "base_uri": "https://localhost:8080/"
        },
        "id": "GUVDlJVpkze2",
        "outputId": "9c2b24f3-4f7b-4246-f438-64aed881d085"
      },
      "execution_count": null,
      "outputs": [
        {
          "output_type": "execute_result",
          "data": {
            "text/plain": [
              "array([[[1.00000000e+00, 2.71828183e+00],\n",
              "        [7.38905610e+00, 2.00855369e+01]],\n",
              "\n",
              "       [[5.45981500e+01, 1.48413159e+02],\n",
              "        [4.03428793e+02, 1.09663316e+03]],\n",
              "\n",
              "       [[2.98095799e+03, 8.10308393e+03],\n",
              "        [2.20264658e+04, 5.98741417e+04]]])"
            ]
          },
          "metadata": {},
          "execution_count": 105
        }
      ]
    },
    {
      "cell_type": "code",
      "source": [
        "np.log(s2)"
      ],
      "metadata": {
        "colab": {
          "base_uri": "https://localhost:8080/"
        },
        "id": "SMtqq_BakqW7",
        "outputId": "3aaa0c0d-2d64-473a-9998-c25f373022cd"
      },
      "execution_count": null,
      "outputs": [
        {
          "output_type": "stream",
          "name": "stderr",
          "text": [
            "<ipython-input-106-d6841f35307f>:1: RuntimeWarning: divide by zero encountered in log\n",
            "  np.log(s2)\n"
          ]
        },
        {
          "output_type": "execute_result",
          "data": {
            "text/plain": [
              "array([[[      -inf, 0.        ],\n",
              "        [0.69314718, 1.09861229]],\n",
              "\n",
              "       [[1.38629436, 1.60943791],\n",
              "        [1.79175947, 1.94591015]]])"
            ]
          },
          "metadata": {},
          "execution_count": 106
        }
      ]
    },
    {
      "cell_type": "markdown",
      "source": [
        "## Round / Floor /Ceil"
      ],
      "metadata": {
        "id": "p7gj2_GxlHic"
      }
    },
    {
      "cell_type": "markdown",
      "source": [
        "**1. round**\n",
        "\n"
      ],
      "metadata": {
        "id": "-UzODAmKlPEe"
      }
    },
    {
      "cell_type": "markdown",
      "source": [
        "The numpy.round() function rounds the elements of an array to the nearest integer or to the specified number of decimals."
      ],
      "metadata": {
        "id": "jOjuFSG0lThr"
      }
    },
    {
      "cell_type": "code",
      "source": [
        "az = np.array([2.2,5.7,3.6,3.,8.8])\n",
        "az"
      ],
      "metadata": {
        "colab": {
          "base_uri": "https://localhost:8080/"
        },
        "id": "JtxOu_vMkveE",
        "outputId": "d2050ad7-a607-457c-b341-6601a982c055"
      },
      "execution_count": null,
      "outputs": [
        {
          "output_type": "execute_result",
          "data": {
            "text/plain": [
              "array([2.2, 5.7, 3.6, 3. , 8.8])"
            ]
          },
          "metadata": {},
          "execution_count": 108
        }
      ]
    },
    {
      "cell_type": "code",
      "source": [
        "np.round(az) # Round to the nearest integer"
      ],
      "metadata": {
        "colab": {
          "base_uri": "https://localhost:8080/"
        },
        "id": "WIgxRf0Jlg-s",
        "outputId": "ce6859e8-839c-4730-ee8f-c584eeecbf80"
      },
      "execution_count": null,
      "outputs": [
        {
          "output_type": "execute_result",
          "data": {
            "text/plain": [
              "array([2., 6., 4., 3., 9.])"
            ]
          },
          "metadata": {},
          "execution_count": 110
        }
      ]
    },
    {
      "cell_type": "code",
      "source": [
        "az[3] = 23.8876733\n",
        "az"
      ],
      "metadata": {
        "colab": {
          "base_uri": "https://localhost:8080/"
        },
        "id": "dOJvaNBpl-Vd",
        "outputId": "955f7130-2a7b-445f-adb6-e545f83687eb"
      },
      "execution_count": null,
      "outputs": [
        {
          "output_type": "execute_result",
          "data": {
            "text/plain": [
              "array([ 2.2      ,  5.7      ,  3.6      , 23.8876733,  8.8      ])"
            ]
          },
          "metadata": {},
          "execution_count": 114
        }
      ]
    },
    {
      "cell_type": "code",
      "source": [
        "np.round(az,2) # Round to two decimals"
      ],
      "metadata": {
        "colab": {
          "base_uri": "https://localhost:8080/"
        },
        "id": "2H5-BGM0lokg",
        "outputId": "69fea94f-b747-425c-9ddd-f8ee200ee9de"
      },
      "execution_count": null,
      "outputs": [
        {
          "output_type": "execute_result",
          "data": {
            "text/plain": [
              "array([ 2.2 ,  5.7 ,  3.6 , 23.89,  8.8 ])"
            ]
          },
          "metadata": {},
          "execution_count": 115
        }
      ]
    },
    {
      "cell_type": "markdown",
      "source": [
        "**2. floor**"
      ],
      "metadata": {
        "id": "PNUg88KHmW65"
      }
    },
    {
      "cell_type": "markdown",
      "source": [
        "The numpy.floor() function returns the largest integer less than or equal to each element of an array."
      ],
      "metadata": {
        "id": "6_yFzv6smaYD"
      }
    },
    {
      "cell_type": "code",
      "source": [
        "np.floor(az)"
      ],
      "metadata": {
        "colab": {
          "base_uri": "https://localhost:8080/"
        },
        "id": "g0tor6Nulvkh",
        "outputId": "f3a96bdd-b09e-4a68-9dd0-8d9053ef3718"
      },
      "execution_count": null,
      "outputs": [
        {
          "output_type": "execute_result",
          "data": {
            "text/plain": [
              "array([ 2.,  5.,  3., 23.,  8.])"
            ]
          },
          "metadata": {},
          "execution_count": 116
        }
      ]
    },
    {
      "cell_type": "code",
      "source": [
        "aa = np.linspace(10,20,num=20)\n",
        "aa"
      ],
      "metadata": {
        "colab": {
          "base_uri": "https://localhost:8080/"
        },
        "id": "7tzOMzhimkpX",
        "outputId": "918e37db-8825-4ec4-e42d-f6f9d6d1a7d8"
      },
      "execution_count": null,
      "outputs": [
        {
          "output_type": "execute_result",
          "data": {
            "text/plain": [
              "array([10.        , 10.52631579, 11.05263158, 11.57894737, 12.10526316,\n",
              "       12.63157895, 13.15789474, 13.68421053, 14.21052632, 14.73684211,\n",
              "       15.26315789, 15.78947368, 16.31578947, 16.84210526, 17.36842105,\n",
              "       17.89473684, 18.42105263, 18.94736842, 19.47368421, 20.        ])"
            ]
          },
          "metadata": {},
          "execution_count": 119
        }
      ]
    },
    {
      "cell_type": "code",
      "source": [
        "np.floor(aa)"
      ],
      "metadata": {
        "colab": {
          "base_uri": "https://localhost:8080/"
        },
        "id": "LGwV4-yomyak",
        "outputId": "e8c728e4-1059-4f3a-f210-7176316cf7f4"
      },
      "execution_count": null,
      "outputs": [
        {
          "output_type": "execute_result",
          "data": {
            "text/plain": [
              "array([10., 10., 11., 11., 12., 12., 13., 13., 14., 14., 15., 15., 16.,\n",
              "       16., 17., 17., 18., 18., 19., 20.])"
            ]
          },
          "metadata": {},
          "execution_count": 120
        }
      ]
    },
    {
      "cell_type": "markdown",
      "source": [
        "**3. Ceil**\n"
      ],
      "metadata": {
        "id": "dv7QnmHZnCtI"
      }
    },
    {
      "cell_type": "markdown",
      "source": [
        "The numpy.ceil() function returns the smallest integer greater than or equal to each element of an array."
      ],
      "metadata": {
        "id": "EAaBTp07nfXV"
      }
    },
    {
      "cell_type": "code",
      "source": [
        "aa"
      ],
      "metadata": {
        "colab": {
          "base_uri": "https://localhost:8080/"
        },
        "id": "TcE8zntGnpTi",
        "outputId": "7a518a10-a944-41b6-b5d3-0c3ccff3c707"
      },
      "execution_count": null,
      "outputs": [
        {
          "output_type": "execute_result",
          "data": {
            "text/plain": [
              "array([10.        , 10.52631579, 11.05263158, 11.57894737, 12.10526316,\n",
              "       12.63157895, 13.15789474, 13.68421053, 14.21052632, 14.73684211,\n",
              "       15.26315789, 15.78947368, 16.31578947, 16.84210526, 17.36842105,\n",
              "       17.89473684, 18.42105263, 18.94736842, 19.47368421, 20.        ])"
            ]
          },
          "metadata": {},
          "execution_count": 122
        }
      ]
    },
    {
      "cell_type": "code",
      "source": [
        "np.ceil(aa)"
      ],
      "metadata": {
        "colab": {
          "base_uri": "https://localhost:8080/"
        },
        "id": "DsLKuIP8m83o",
        "outputId": "991b4807-ed61-4e8b-b0ba-35fa4e59cfcc"
      },
      "execution_count": null,
      "outputs": [
        {
          "output_type": "execute_result",
          "data": {
            "text/plain": [
              "array([10., 11., 12., 12., 13., 13., 14., 14., 15., 15., 16., 16., 17.,\n",
              "       17., 18., 18., 19., 19., 20., 20.])"
            ]
          },
          "metadata": {},
          "execution_count": 121
        }
      ]
    },
    {
      "cell_type": "markdown",
      "source": [
        "## Indexing and slicing"
      ],
      "metadata": {
        "id": "5jctNbVKnwQj"
      }
    },
    {
      "cell_type": "code",
      "source": [
        "q1= np.arange(10)\n",
        "q2=np.arange(10,22).reshape(3,4)\n",
        "q3 = np.arange(1,13).reshape(3,2,2)"
      ],
      "metadata": {
        "id": "FLxBhg5MnnIX"
      },
      "execution_count": null,
      "outputs": []
    },
    {
      "cell_type": "code",
      "source": [
        "q1"
      ],
      "metadata": {
        "colab": {
          "base_uri": "https://localhost:8080/"
        },
        "id": "9unVfQeEoVTS",
        "outputId": "08b0ed39-76ac-41c2-c12d-588f2f80cc5f"
      },
      "execution_count": null,
      "outputs": [
        {
          "output_type": "execute_result",
          "data": {
            "text/plain": [
              "array([0, 1, 2, 3, 4, 5, 6, 7, 8, 9])"
            ]
          },
          "metadata": {},
          "execution_count": 129
        }
      ]
    },
    {
      "cell_type": "code",
      "source": [
        "q2"
      ],
      "metadata": {
        "colab": {
          "base_uri": "https://localhost:8080/"
        },
        "id": "orL1jL5Joorq",
        "outputId": "cc612d91-5326-4df2-e08c-a574fac42b60"
      },
      "execution_count": null,
      "outputs": [
        {
          "output_type": "execute_result",
          "data": {
            "text/plain": [
              "array([[10, 11, 12, 13],\n",
              "       [14, 15, 16, 17],\n",
              "       [18, 19, 20, 21]])"
            ]
          },
          "metadata": {},
          "execution_count": 130
        }
      ]
    },
    {
      "cell_type": "code",
      "source": [
        "q3"
      ],
      "metadata": {
        "colab": {
          "base_uri": "https://localhost:8080/"
        },
        "id": "qZoWnNpTo3tC",
        "outputId": "006aa298-9ee3-4c44-d611-587f5e43e783"
      },
      "execution_count": null,
      "outputs": [
        {
          "output_type": "execute_result",
          "data": {
            "text/plain": [
              "array([[[ 1,  2],\n",
              "        [ 3,  4]],\n",
              "\n",
              "       [[ 5,  6],\n",
              "        [ 7,  8]],\n",
              "\n",
              "       [[ 9, 10],\n",
              "        [11, 12]]])"
            ]
          },
          "metadata": {},
          "execution_count": 131
        }
      ]
    },
    {
      "cell_type": "markdown",
      "source": [
        "**Indexing on 1D array**"
      ],
      "metadata": {
        "id": "B7kBQC8go_Zi"
      }
    },
    {
      "cell_type": "code",
      "source": [
        "q1"
      ],
      "metadata": {
        "colab": {
          "base_uri": "https://localhost:8080/"
        },
        "id": "RMFD7wm5o4MT",
        "outputId": "f1515154-af40-409c-8057-02732c79a807"
      },
      "execution_count": null,
      "outputs": [
        {
          "output_type": "execute_result",
          "data": {
            "text/plain": [
              "array([0, 1, 2, 3, 4, 5, 6, 7, 8, 9])"
            ]
          },
          "metadata": {},
          "execution_count": 132
        }
      ]
    },
    {
      "cell_type": "code",
      "source": [
        "q1[5] # it gives the sixth item"
      ],
      "metadata": {
        "colab": {
          "base_uri": "https://localhost:8080/"
        },
        "id": "94GaLeCEpBal",
        "outputId": "35c44e6a-3394-4bbc-8b59-399c3bd351d1"
      },
      "execution_count": null,
      "outputs": [
        {
          "output_type": "execute_result",
          "data": {
            "text/plain": [
              "5"
            ]
          },
          "metadata": {},
          "execution_count": 134
        }
      ]
    },
    {
      "cell_type": "code",
      "source": [
        "q1[-1] # last item"
      ],
      "metadata": {
        "colab": {
          "base_uri": "https://localhost:8080/"
        },
        "id": "-fjuhrhopDMZ",
        "outputId": "60384b48-f005-42c2-af11-6bc9110da3cd"
      },
      "execution_count": null,
      "outputs": [
        {
          "output_type": "execute_result",
          "data": {
            "text/plain": [
              "9"
            ]
          },
          "metadata": {},
          "execution_count": 135
        }
      ]
    },
    {
      "cell_type": "code",
      "source": [
        "q1[0] # fist item"
      ],
      "metadata": {
        "colab": {
          "base_uri": "https://localhost:8080/"
        },
        "id": "bi5O83OPpO5P",
        "outputId": "d78d123f-b927-4fc7-8dfd-46af133eeae1"
      },
      "execution_count": null,
      "outputs": [
        {
          "output_type": "execute_result",
          "data": {
            "text/plain": [
              "0"
            ]
          },
          "metadata": {},
          "execution_count": 136
        }
      ]
    },
    {
      "cell_type": "markdown",
      "source": [
        "**indexing on 2D array**"
      ],
      "metadata": {
        "id": "-hO2Vw8upWuG"
      }
    },
    {
      "cell_type": "code",
      "source": [
        "q2"
      ],
      "metadata": {
        "colab": {
          "base_uri": "https://localhost:8080/"
        },
        "id": "9f91XLnFpRaz",
        "outputId": "30c5221e-dfa2-41ad-f663-0ca486f364aa"
      },
      "execution_count": null,
      "outputs": [
        {
          "output_type": "execute_result",
          "data": {
            "text/plain": [
              "array([[10, 11, 12, 13],\n",
              "       [14, 15, 16, 17],\n",
              "       [18, 19, 20, 21]])"
            ]
          },
          "metadata": {},
          "execution_count": 137
        }
      ]
    },
    {
      "cell_type": "code",
      "source": [
        "q2[0] # first row"
      ],
      "metadata": {
        "colab": {
          "base_uri": "https://localhost:8080/"
        },
        "id": "PUBj6wahpaDq",
        "outputId": "e1ee052c-ca93-46e7-e69a-38f96ab6de47"
      },
      "execution_count": null,
      "outputs": [
        {
          "output_type": "execute_result",
          "data": {
            "text/plain": [
              "array([10, 11, 12, 13])"
            ]
          },
          "metadata": {},
          "execution_count": 141
        }
      ]
    },
    {
      "cell_type": "code",
      "source": [
        "# 3rd item\n",
        "q2[0,2] # row = 1, col =3"
      ],
      "metadata": {
        "id": "6E6DiHSZphUU"
      },
      "execution_count": null,
      "outputs": []
    },
    {
      "cell_type": "code",
      "source": [
        "q2[1,3]# row = 1, col =4"
      ],
      "metadata": {
        "colab": {
          "base_uri": "https://localhost:8080/"
        },
        "id": "nPJOWW0qpxF0",
        "outputId": "85a7748c-d840-4ad4-dda3-419f435d6331"
      },
      "execution_count": null,
      "outputs": [
        {
          "output_type": "execute_result",
          "data": {
            "text/plain": [
              "17"
            ]
          },
          "metadata": {},
          "execution_count": 143
        }
      ]
    },
    {
      "cell_type": "code",
      "source": [
        "q2[2,0]# row = 2, col =1"
      ],
      "metadata": {
        "colab": {
          "base_uri": "https://localhost:8080/"
        },
        "id": "NmrQwrYRp4_5",
        "outputId": "63fe4ded-f306-4bfb-9105-770c3e4a302c"
      },
      "execution_count": null,
      "outputs": [
        {
          "output_type": "execute_result",
          "data": {
            "text/plain": [
              "18"
            ]
          },
          "metadata": {},
          "execution_count": 148
        }
      ]
    },
    {
      "cell_type": "markdown",
      "source": [
        "**indexing on 3D and above( Tensors)**"
      ],
      "metadata": {
        "id": "RHcutvh7ss_e"
      }
    },
    {
      "cell_type": "code",
      "source": [
        "q3"
      ],
      "metadata": {
        "colab": {
          "base_uri": "https://localhost:8080/"
        },
        "id": "Ni-6RoI-p9aT",
        "outputId": "740102da-beec-4fdb-f262-ffbf02fe924c"
      },
      "execution_count": null,
      "outputs": [
        {
          "output_type": "execute_result",
          "data": {
            "text/plain": [
              "array([[[ 1,  2],\n",
              "        [ 3,  4]],\n",
              "\n",
              "       [[ 5,  6],\n",
              "        [ 7,  8]],\n",
              "\n",
              "       [[ 9, 10],\n",
              "        [11, 12]]])"
            ]
          },
          "metadata": {},
          "execution_count": 150
        }
      ]
    },
    {
      "cell_type": "code",
      "source": [
        "q3[0] # gives 1st array"
      ],
      "metadata": {
        "colab": {
          "base_uri": "https://localhost:8080/"
        },
        "id": "rjKkbN0esxFB",
        "outputId": "75de285f-b1cf-458c-ea59-2a39805c5545"
      },
      "execution_count": null,
      "outputs": [
        {
          "output_type": "execute_result",
          "data": {
            "text/plain": [
              "array([[1, 2],\n",
              "       [3, 4]])"
            ]
          },
          "metadata": {},
          "execution_count": 152
        }
      ]
    },
    {
      "cell_type": "code",
      "source": [
        "q3[0,1] # give 1st array 2nd row"
      ],
      "metadata": {
        "colab": {
          "base_uri": "https://localhost:8080/"
        },
        "id": "QOaARVLis8v3",
        "outputId": "c6257af9-9f3c-4bca-a737-6311a3d4aa5b"
      },
      "execution_count": null,
      "outputs": [
        {
          "output_type": "execute_result",
          "data": {
            "text/plain": [
              "array([3, 4])"
            ]
          },
          "metadata": {},
          "execution_count": 153
        }
      ]
    },
    {
      "cell_type": "code",
      "source": [
        "q3[0,1,1] # 4th element"
      ],
      "metadata": {
        "colab": {
          "base_uri": "https://localhost:8080/"
        },
        "id": "lFjx6DOTtG6d",
        "outputId": "dc3f8840-0fac-4bfa-b7c2-8fe98ef685fe"
      },
      "execution_count": null,
      "outputs": [
        {
          "output_type": "execute_result",
          "data": {
            "text/plain": [
              "4"
            ]
          },
          "metadata": {},
          "execution_count": 155
        }
      ]
    },
    {
      "cell_type": "code",
      "source": [
        "q3[2,0,1]"
      ],
      "metadata": {
        "colab": {
          "base_uri": "https://localhost:8080/"
        },
        "id": "-QN1GJ3stJ-I",
        "outputId": "e5389415-c9dd-4e25-a43a-c386bc127c8c"
      },
      "execution_count": null,
      "outputs": [
        {
          "output_type": "execute_result",
          "data": {
            "text/plain": [
              "10"
            ]
          },
          "metadata": {},
          "execution_count": 157
        }
      ]
    },
    {
      "cell_type": "code",
      "source": [
        "q3[1,1,1] # 2nd array 2nd row 2nd element"
      ],
      "metadata": {
        "colab": {
          "base_uri": "https://localhost:8080/"
        },
        "id": "uW8d1W4ItQqY",
        "outputId": "61f8e8d4-5024-454e-8247-74d9f598fa5b"
      },
      "execution_count": null,
      "outputs": [
        {
          "output_type": "execute_result",
          "data": {
            "text/plain": [
              "8"
            ]
          },
          "metadata": {},
          "execution_count": 159
        }
      ]
    },
    {
      "cell_type": "code",
      "source": [
        "q3"
      ],
      "metadata": {
        "colab": {
          "base_uri": "https://localhost:8080/"
        },
        "id": "vIAsP_-TtXGZ",
        "outputId": "b8a53d32-014f-4cc0-a7ff-b469425ea940"
      },
      "execution_count": null,
      "outputs": [
        {
          "output_type": "execute_result",
          "data": {
            "text/plain": [
              "array([[[ 1,  2],\n",
              "        [ 3,  4]],\n",
              "\n",
              "       [[ 5,  6],\n",
              "        [ 7,  8]],\n",
              "\n",
              "       [[ 9, 10],\n",
              "        [11, 12]]])"
            ]
          },
          "metadata": {},
          "execution_count": 160
        }
      ]
    },
    {
      "cell_type": "code",
      "source": [
        "# fetching the elemetnt 12\n",
        "q3[2,1,1] # 3nd array 2nd row 2nd element"
      ],
      "metadata": {
        "colab": {
          "base_uri": "https://localhost:8080/"
        },
        "id": "SmX8jMZntmzx",
        "outputId": "95ad822e-e8f7-4f4e-ca9c-7c4990ae3843"
      },
      "execution_count": null,
      "outputs": [
        {
          "output_type": "execute_result",
          "data": {
            "text/plain": [
              "12"
            ]
          },
          "metadata": {},
          "execution_count": 161
        }
      ]
    },
    {
      "cell_type": "code",
      "source": [
        "q3[1,0,0]# 2nd array 1nd row 1nd element"
      ],
      "metadata": {
        "colab": {
          "base_uri": "https://localhost:8080/"
        },
        "id": "1qBni8AgtxRP",
        "outputId": "c5416e16-7faa-44b9-f2cb-ed3d30c52021"
      },
      "execution_count": null,
      "outputs": [
        {
          "output_type": "execute_result",
          "data": {
            "text/plain": [
              "5"
            ]
          },
          "metadata": {},
          "execution_count": 162
        }
      ]
    },
    {
      "cell_type": "markdown",
      "source": [
        "**Slicing**"
      ],
      "metadata": {
        "id": "ChxCBAnMuVI_"
      }
    },
    {
      "cell_type": "markdown",
      "source": [
        "Slicing is the process of extracting a portion of an array.\n",
        "\n"
      ],
      "metadata": {
        "id": "eVN-xnvsuYVp"
      }
    },
    {
      "cell_type": "markdown",
      "source": [
        "Slicing on 1D array"
      ],
      "metadata": {
        "id": "Rp0rbU3Sumt2"
      }
    },
    {
      "cell_type": "code",
      "source": [
        "q1"
      ],
      "metadata": {
        "colab": {
          "base_uri": "https://localhost:8080/"
        },
        "id": "DINn-lsluQk0",
        "outputId": "78180a3b-143e-4e2c-9b3f-38dd2bdfc8c7"
      },
      "execution_count": null,
      "outputs": [
        {
          "output_type": "execute_result",
          "data": {
            "text/plain": [
              "array([0, 1, 2, 3, 4, 5, 6, 7, 8, 9])"
            ]
          },
          "metadata": {},
          "execution_count": 163
        }
      ]
    },
    {
      "cell_type": "code",
      "source": [
        "q1[1:3] # from 2nd eleemnt to 4th element"
      ],
      "metadata": {
        "colab": {
          "base_uri": "https://localhost:8080/"
        },
        "id": "1fQaQgInuCYt",
        "outputId": "1aa95f03-4c28-49ba-fc39-a32736571ce6"
      },
      "execution_count": null,
      "outputs": [
        {
          "output_type": "execute_result",
          "data": {
            "text/plain": [
              "array([1, 2])"
            ]
          },
          "metadata": {},
          "execution_count": 165
        }
      ]
    },
    {
      "cell_type": "code",
      "source": [
        "q1[4:] # from 4th eleemnt to last element"
      ],
      "metadata": {
        "colab": {
          "base_uri": "https://localhost:8080/"
        },
        "id": "9qgTM1qZu4xP",
        "outputId": "0679aed8-1318-491e-e2af-25ffbc381e01"
      },
      "execution_count": null,
      "outputs": [
        {
          "output_type": "execute_result",
          "data": {
            "text/plain": [
              "array([4, 5, 6, 7, 8, 9])"
            ]
          },
          "metadata": {},
          "execution_count": 166
        }
      ]
    },
    {
      "cell_type": "code",
      "source": [
        "q1[:6]# from first eleemnt to 6th element"
      ],
      "metadata": {
        "colab": {
          "base_uri": "https://localhost:8080/"
        },
        "id": "bL9ISzJGvEGs",
        "outputId": "237d9b84-ddda-4de0-8b83-28e6f94794f2"
      },
      "execution_count": null,
      "outputs": [
        {
          "output_type": "execute_result",
          "data": {
            "text/plain": [
              "array([0, 1, 2, 3, 4, 5])"
            ]
          },
          "metadata": {},
          "execution_count": 168
        }
      ]
    },
    {
      "cell_type": "code",
      "source": [
        "q1[:] # total array"
      ],
      "metadata": {
        "colab": {
          "base_uri": "https://localhost:8080/"
        },
        "id": "dRMQgt8fvOQH",
        "outputId": "4769cf06-c615-452a-c500-ab213ad7164e"
      },
      "execution_count": null,
      "outputs": [
        {
          "output_type": "execute_result",
          "data": {
            "text/plain": [
              "array([0, 1, 2, 3, 4, 5, 6, 7, 8, 9])"
            ]
          },
          "metadata": {},
          "execution_count": 170
        }
      ]
    },
    {
      "cell_type": "code",
      "source": [
        "q1[-1] # last element"
      ],
      "metadata": {
        "colab": {
          "base_uri": "https://localhost:8080/"
        },
        "id": "qcRNjrKuvUdj",
        "outputId": "2f1b9d33-5a53-4b2f-a108-dd63793abd1a"
      },
      "execution_count": null,
      "outputs": [
        {
          "output_type": "execute_result",
          "data": {
            "text/plain": [
              "9"
            ]
          },
          "metadata": {},
          "execution_count": 172
        }
      ]
    },
    {
      "cell_type": "code",
      "source": [
        "# negative slicing\n",
        "q1[-5:-1] # from last 5th to end"
      ],
      "metadata": {
        "colab": {
          "base_uri": "https://localhost:8080/"
        },
        "id": "kUqe73w4vX4p",
        "outputId": "66653443-fffc-42c5-b968-9f27ac45e049"
      },
      "execution_count": null,
      "outputs": [
        {
          "output_type": "execute_result",
          "data": {
            "text/plain": [
              "array([5, 6, 7, 8])"
            ]
          },
          "metadata": {},
          "execution_count": 176
        }
      ]
    },
    {
      "cell_type": "code",
      "source": [
        "q1[-3:] #from 3rd last to end"
      ],
      "metadata": {
        "colab": {
          "base_uri": "https://localhost:8080/"
        },
        "id": "6WrWIi9Vvi9u",
        "outputId": "3e31d38b-45c0-42ea-c1b8-0e4f0bf64603"
      },
      "execution_count": null,
      "outputs": [
        {
          "output_type": "execute_result",
          "data": {
            "text/plain": [
              "array([7, 8, 9])"
            ]
          },
          "metadata": {},
          "execution_count": 178
        }
      ]
    },
    {
      "cell_type": "code",
      "source": [
        "q1[:-4] # from first to last 4th"
      ],
      "metadata": {
        "colab": {
          "base_uri": "https://localhost:8080/"
        },
        "id": "fMVlDzFEvzvF",
        "outputId": "7a855123-a9dc-4a8b-d1ef-5646b4956da3"
      },
      "execution_count": null,
      "outputs": [
        {
          "output_type": "execute_result",
          "data": {
            "text/plain": [
              "array([0, 1, 2, 3, 4, 5])"
            ]
          },
          "metadata": {},
          "execution_count": 180
        }
      ]
    },
    {
      "cell_type": "code",
      "source": [
        "# with step\n",
        "q1[1:7:2] # with step 2"
      ],
      "metadata": {
        "colab": {
          "base_uri": "https://localhost:8080/"
        },
        "id": "m6B8zNAXv8vP",
        "outputId": "551d41f3-6f95-4fc1-fb84-f1383470565c"
      },
      "execution_count": null,
      "outputs": [
        {
          "output_type": "execute_result",
          "data": {
            "text/plain": [
              "array([1, 3, 5])"
            ]
          },
          "metadata": {},
          "execution_count": 182
        }
      ]
    },
    {
      "cell_type": "code",
      "source": [
        "q1[::3] #total array with step 3"
      ],
      "metadata": {
        "colab": {
          "base_uri": "https://localhost:8080/"
        },
        "id": "QP3OVVl0wU1n",
        "outputId": "1661bbc1-1654-4fd8-956e-c1ace13fecda"
      },
      "execution_count": null,
      "outputs": [
        {
          "output_type": "execute_result",
          "data": {
            "text/plain": [
              "array([0, 3, 6, 9])"
            ]
          },
          "metadata": {},
          "execution_count": 185
        }
      ]
    },
    {
      "cell_type": "code",
      "source": [
        "q1"
      ],
      "metadata": {
        "colab": {
          "base_uri": "https://localhost:8080/"
        },
        "id": "Eg-YoenCws-Y",
        "outputId": "25569fed-cfce-44c4-d751-536abe29e1bd"
      },
      "execution_count": null,
      "outputs": [
        {
          "output_type": "execute_result",
          "data": {
            "text/plain": [
              "array([0, 1, 2, 3, 4, 5, 6, 7, 8, 9])"
            ]
          },
          "metadata": {},
          "execution_count": 188
        }
      ]
    },
    {
      "cell_type": "code",
      "source": [
        "# negative with step\n",
        "q1[-7:-2:2]"
      ],
      "metadata": {
        "colab": {
          "base_uri": "https://localhost:8080/"
        },
        "id": "Qpk0eTyDwaRf",
        "outputId": "b39358f7-eed8-40b3-9631-ab902dc30f71"
      },
      "execution_count": null,
      "outputs": [
        {
          "output_type": "execute_result",
          "data": {
            "text/plain": [
              "array([3, 5, 7])"
            ]
          },
          "metadata": {},
          "execution_count": 187
        }
      ]
    },
    {
      "cell_type": "markdown",
      "source": [
        "**Slicing on 2Darray**"
      ],
      "metadata": {
        "id": "NnlAe4qWw0rN"
      }
    },
    {
      "cell_type": "code",
      "source": [
        "q2"
      ],
      "metadata": {
        "id": "Gyh117XMwxxF"
      },
      "execution_count": null,
      "outputs": []
    },
    {
      "cell_type": "code",
      "source": [],
      "metadata": {
        "id": "Iwyx-L8Sw7IL"
      },
      "execution_count": null,
      "outputs": []
    }
  ]
}