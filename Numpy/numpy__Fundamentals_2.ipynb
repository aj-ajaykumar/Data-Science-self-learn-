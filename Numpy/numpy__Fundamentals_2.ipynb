{
  "nbformat": 4,
  "nbformat_minor": 0,
  "metadata": {
    "colab": {
      "provenance": []
    },
    "kernelspec": {
      "name": "python3",
      "display_name": "Python 3"
    },
    "language_info": {
      "name": "python"
    }
  },
  "cells": [
    {
      "cell_type": "code",
      "execution_count": null,
      "metadata": {
        "id": "sFYyvodWyKX3"
      },
      "outputs": [],
      "source": [
        "import numpy as np"
      ]
    },
    {
      "cell_type": "markdown",
      "source": [
        "## Indexing and slicing"
      ],
      "metadata": {
        "id": "5jctNbVKnwQj"
      }
    },
    {
      "cell_type": "code",
      "source": [
        "q1= np.arange(10)\n",
        "q2=np.arange(10,22).reshape(3,4)\n",
        "q3 = np.arange(1,13).reshape(3,2,2)"
      ],
      "metadata": {
        "id": "FLxBhg5MnnIX"
      },
      "execution_count": null,
      "outputs": []
    },
    {
      "cell_type": "code",
      "source": [
        "q1"
      ],
      "metadata": {
        "colab": {
          "base_uri": "https://localhost:8080/"
        },
        "id": "9unVfQeEoVTS",
        "outputId": "08b0ed39-76ac-41c2-c12d-588f2f80cc5f"
      },
      "execution_count": null,
      "outputs": [
        {
          "output_type": "execute_result",
          "data": {
            "text/plain": [
              "array([0, 1, 2, 3, 4, 5, 6, 7, 8, 9])"
            ]
          },
          "metadata": {},
          "execution_count": 129
        }
      ]
    },
    {
      "cell_type": "code",
      "source": [
        "q2"
      ],
      "metadata": {
        "colab": {
          "base_uri": "https://localhost:8080/"
        },
        "id": "orL1jL5Joorq",
        "outputId": "cc612d91-5326-4df2-e08c-a574fac42b60"
      },
      "execution_count": null,
      "outputs": [
        {
          "output_type": "execute_result",
          "data": {
            "text/plain": [
              "array([[10, 11, 12, 13],\n",
              "       [14, 15, 16, 17],\n",
              "       [18, 19, 20, 21]])"
            ]
          },
          "metadata": {},
          "execution_count": 130
        }
      ]
    },
    {
      "cell_type": "code",
      "source": [
        "q3"
      ],
      "metadata": {
        "colab": {
          "base_uri": "https://localhost:8080/"
        },
        "id": "qZoWnNpTo3tC",
        "outputId": "006aa298-9ee3-4c44-d611-587f5e43e783"
      },
      "execution_count": null,
      "outputs": [
        {
          "output_type": "execute_result",
          "data": {
            "text/plain": [
              "array([[[ 1,  2],\n",
              "        [ 3,  4]],\n",
              "\n",
              "       [[ 5,  6],\n",
              "        [ 7,  8]],\n",
              "\n",
              "       [[ 9, 10],\n",
              "        [11, 12]]])"
            ]
          },
          "metadata": {},
          "execution_count": 131
        }
      ]
    },
    {
      "cell_type": "markdown",
      "source": [
        "**Indexing on 1D array**"
      ],
      "metadata": {
        "id": "B7kBQC8go_Zi"
      }
    },
    {
      "cell_type": "code",
      "source": [
        "q1"
      ],
      "metadata": {
        "colab": {
          "base_uri": "https://localhost:8080/"
        },
        "id": "RMFD7wm5o4MT",
        "outputId": "f1515154-af40-409c-8057-02732c79a807"
      },
      "execution_count": null,
      "outputs": [
        {
          "output_type": "execute_result",
          "data": {
            "text/plain": [
              "array([0, 1, 2, 3, 4, 5, 6, 7, 8, 9])"
            ]
          },
          "metadata": {},
          "execution_count": 132
        }
      ]
    },
    {
      "cell_type": "code",
      "source": [
        "q1[5] # it gives the sixth item"
      ],
      "metadata": {
        "colab": {
          "base_uri": "https://localhost:8080/"
        },
        "id": "94GaLeCEpBal",
        "outputId": "35c44e6a-3394-4bbc-8b59-399c3bd351d1"
      },
      "execution_count": null,
      "outputs": [
        {
          "output_type": "execute_result",
          "data": {
            "text/plain": [
              "5"
            ]
          },
          "metadata": {},
          "execution_count": 134
        }
      ]
    },
    {
      "cell_type": "code",
      "source": [
        "q1[-1] # last item"
      ],
      "metadata": {
        "colab": {
          "base_uri": "https://localhost:8080/"
        },
        "id": "-fjuhrhopDMZ",
        "outputId": "60384b48-f005-42c2-af11-6bc9110da3cd"
      },
      "execution_count": null,
      "outputs": [
        {
          "output_type": "execute_result",
          "data": {
            "text/plain": [
              "9"
            ]
          },
          "metadata": {},
          "execution_count": 135
        }
      ]
    },
    {
      "cell_type": "code",
      "source": [
        "q1[0] # fist item"
      ],
      "metadata": {
        "colab": {
          "base_uri": "https://localhost:8080/"
        },
        "id": "bi5O83OPpO5P",
        "outputId": "d78d123f-b927-4fc7-8dfd-46af133eeae1"
      },
      "execution_count": null,
      "outputs": [
        {
          "output_type": "execute_result",
          "data": {
            "text/plain": [
              "0"
            ]
          },
          "metadata": {},
          "execution_count": 136
        }
      ]
    },
    {
      "cell_type": "markdown",
      "source": [
        "**indexing on 2D array**"
      ],
      "metadata": {
        "id": "-hO2Vw8upWuG"
      }
    },
    {
      "cell_type": "code",
      "source": [
        "q2"
      ],
      "metadata": {
        "colab": {
          "base_uri": "https://localhost:8080/"
        },
        "id": "9f91XLnFpRaz",
        "outputId": "30c5221e-dfa2-41ad-f663-0ca486f364aa"
      },
      "execution_count": null,
      "outputs": [
        {
          "output_type": "execute_result",
          "data": {
            "text/plain": [
              "array([[10, 11, 12, 13],\n",
              "       [14, 15, 16, 17],\n",
              "       [18, 19, 20, 21]])"
            ]
          },
          "metadata": {},
          "execution_count": 137
        }
      ]
    },
    {
      "cell_type": "code",
      "source": [
        "q2[0] # first row"
      ],
      "metadata": {
        "colab": {
          "base_uri": "https://localhost:8080/"
        },
        "id": "PUBj6wahpaDq",
        "outputId": "e1ee052c-ca93-46e7-e69a-38f96ab6de47"
      },
      "execution_count": null,
      "outputs": [
        {
          "output_type": "execute_result",
          "data": {
            "text/plain": [
              "array([10, 11, 12, 13])"
            ]
          },
          "metadata": {},
          "execution_count": 141
        }
      ]
    },
    {
      "cell_type": "code",
      "source": [
        "# 3rd item\n",
        "q2[0,2] # row = 1, col =3"
      ],
      "metadata": {
        "id": "6E6DiHSZphUU"
      },
      "execution_count": null,
      "outputs": []
    },
    {
      "cell_type": "code",
      "source": [
        "q2[1,3]# row = 1, col =4"
      ],
      "metadata": {
        "colab": {
          "base_uri": "https://localhost:8080/"
        },
        "id": "nPJOWW0qpxF0",
        "outputId": "85a7748c-d840-4ad4-dda3-419f435d6331"
      },
      "execution_count": null,
      "outputs": [
        {
          "output_type": "execute_result",
          "data": {
            "text/plain": [
              "17"
            ]
          },
          "metadata": {},
          "execution_count": 143
        }
      ]
    },
    {
      "cell_type": "code",
      "source": [
        "q2[2,0]# row = 2, col =1"
      ],
      "metadata": {
        "colab": {
          "base_uri": "https://localhost:8080/"
        },
        "id": "NmrQwrYRp4_5",
        "outputId": "63fe4ded-f306-4bfb-9105-770c3e4a302c"
      },
      "execution_count": null,
      "outputs": [
        {
          "output_type": "execute_result",
          "data": {
            "text/plain": [
              "18"
            ]
          },
          "metadata": {},
          "execution_count": 148
        }
      ]
    },
    {
      "cell_type": "markdown",
      "source": [
        "**indexing on 3D and above( Tensors)**"
      ],
      "metadata": {
        "id": "RHcutvh7ss_e"
      }
    },
    {
      "cell_type": "code",
      "source": [
        "q3"
      ],
      "metadata": {
        "colab": {
          "base_uri": "https://localhost:8080/"
        },
        "id": "Ni-6RoI-p9aT",
        "outputId": "740102da-beec-4fdb-f262-ffbf02fe924c"
      },
      "execution_count": null,
      "outputs": [
        {
          "output_type": "execute_result",
          "data": {
            "text/plain": [
              "array([[[ 1,  2],\n",
              "        [ 3,  4]],\n",
              "\n",
              "       [[ 5,  6],\n",
              "        [ 7,  8]],\n",
              "\n",
              "       [[ 9, 10],\n",
              "        [11, 12]]])"
            ]
          },
          "metadata": {},
          "execution_count": 150
        }
      ]
    },
    {
      "cell_type": "code",
      "source": [
        "q3[0] # gives 1st array"
      ],
      "metadata": {
        "colab": {
          "base_uri": "https://localhost:8080/"
        },
        "id": "rjKkbN0esxFB",
        "outputId": "75de285f-b1cf-458c-ea59-2a39805c5545"
      },
      "execution_count": null,
      "outputs": [
        {
          "output_type": "execute_result",
          "data": {
            "text/plain": [
              "array([[1, 2],\n",
              "       [3, 4]])"
            ]
          },
          "metadata": {},
          "execution_count": 152
        }
      ]
    },
    {
      "cell_type": "code",
      "source": [
        "q3[0,1] # give 1st array 2nd row"
      ],
      "metadata": {
        "colab": {
          "base_uri": "https://localhost:8080/"
        },
        "id": "QOaARVLis8v3",
        "outputId": "c6257af9-9f3c-4bca-a737-6311a3d4aa5b"
      },
      "execution_count": null,
      "outputs": [
        {
          "output_type": "execute_result",
          "data": {
            "text/plain": [
              "array([3, 4])"
            ]
          },
          "metadata": {},
          "execution_count": 153
        }
      ]
    },
    {
      "cell_type": "code",
      "source": [
        "q3[0,1,1] # 4th element"
      ],
      "metadata": {
        "colab": {
          "base_uri": "https://localhost:8080/"
        },
        "id": "lFjx6DOTtG6d",
        "outputId": "dc3f8840-0fac-4bfa-b7c2-8fe98ef685fe"
      },
      "execution_count": null,
      "outputs": [
        {
          "output_type": "execute_result",
          "data": {
            "text/plain": [
              "4"
            ]
          },
          "metadata": {},
          "execution_count": 155
        }
      ]
    },
    {
      "cell_type": "code",
      "source": [
        "q3[2,0,1]"
      ],
      "metadata": {
        "colab": {
          "base_uri": "https://localhost:8080/"
        },
        "id": "-QN1GJ3stJ-I",
        "outputId": "e5389415-c9dd-4e25-a43a-c386bc127c8c"
      },
      "execution_count": null,
      "outputs": [
        {
          "output_type": "execute_result",
          "data": {
            "text/plain": [
              "10"
            ]
          },
          "metadata": {},
          "execution_count": 157
        }
      ]
    },
    {
      "cell_type": "code",
      "source": [
        "q3[1,1,1] # 2nd array 2nd row 2nd element"
      ],
      "metadata": {
        "colab": {
          "base_uri": "https://localhost:8080/"
        },
        "id": "uW8d1W4ItQqY",
        "outputId": "61f8e8d4-5024-454e-8247-74d9f598fa5b"
      },
      "execution_count": null,
      "outputs": [
        {
          "output_type": "execute_result",
          "data": {
            "text/plain": [
              "8"
            ]
          },
          "metadata": {},
          "execution_count": 159
        }
      ]
    },
    {
      "cell_type": "code",
      "source": [
        "q3"
      ],
      "metadata": {
        "colab": {
          "base_uri": "https://localhost:8080/"
        },
        "id": "vIAsP_-TtXGZ",
        "outputId": "b8a53d32-014f-4cc0-a7ff-b469425ea940"
      },
      "execution_count": null,
      "outputs": [
        {
          "output_type": "execute_result",
          "data": {
            "text/plain": [
              "array([[[ 1,  2],\n",
              "        [ 3,  4]],\n",
              "\n",
              "       [[ 5,  6],\n",
              "        [ 7,  8]],\n",
              "\n",
              "       [[ 9, 10],\n",
              "        [11, 12]]])"
            ]
          },
          "metadata": {},
          "execution_count": 160
        }
      ]
    },
    {
      "cell_type": "code",
      "source": [
        "# fetching the elemetnt 12\n",
        "q3[2,1,1] # 3nd array 2nd row 2nd element"
      ],
      "metadata": {
        "colab": {
          "base_uri": "https://localhost:8080/"
        },
        "id": "SmX8jMZntmzx",
        "outputId": "95ad822e-e8f7-4f4e-ca9c-7c4990ae3843"
      },
      "execution_count": null,
      "outputs": [
        {
          "output_type": "execute_result",
          "data": {
            "text/plain": [
              "12"
            ]
          },
          "metadata": {},
          "execution_count": 161
        }
      ]
    },
    {
      "cell_type": "code",
      "source": [
        "q3[1,0,0]# 2nd array 1nd row 1nd element"
      ],
      "metadata": {
        "colab": {
          "base_uri": "https://localhost:8080/"
        },
        "id": "1qBni8AgtxRP",
        "outputId": "c5416e16-7faa-44b9-f2cb-ed3d30c52021"
      },
      "execution_count": null,
      "outputs": [
        {
          "output_type": "execute_result",
          "data": {
            "text/plain": [
              "5"
            ]
          },
          "metadata": {},
          "execution_count": 162
        }
      ]
    },
    {
      "cell_type": "markdown",
      "source": [
        "**Slicing**"
      ],
      "metadata": {
        "id": "ChxCBAnMuVI_"
      }
    },
    {
      "cell_type": "markdown",
      "source": [
        "Slicing is the process of extracting a portion of an array.\n",
        "\n"
      ],
      "metadata": {
        "id": "eVN-xnvsuYVp"
      }
    },
    {
      "cell_type": "markdown",
      "source": [
        "Slicing on 1D array"
      ],
      "metadata": {
        "id": "Rp0rbU3Sumt2"
      }
    },
    {
      "cell_type": "code",
      "source": [
        "q1"
      ],
      "metadata": {
        "colab": {
          "base_uri": "https://localhost:8080/"
        },
        "id": "DINn-lsluQk0",
        "outputId": "78180a3b-143e-4e2c-9b3f-38dd2bdfc8c7"
      },
      "execution_count": null,
      "outputs": [
        {
          "output_type": "execute_result",
          "data": {
            "text/plain": [
              "array([0, 1, 2, 3, 4, 5, 6, 7, 8, 9])"
            ]
          },
          "metadata": {},
          "execution_count": 163
        }
      ]
    },
    {
      "cell_type": "code",
      "source": [
        "q1[1:4] # from 2nd eleemnt to 4th element  # slicing takes 1st index but neglects last"
      ],
      "metadata": {
        "colab": {
          "base_uri": "https://localhost:8080/"
        },
        "id": "1fQaQgInuCYt",
        "outputId": "7b6187b4-f234-4947-b5e4-ca618ffa5be4"
      },
      "execution_count": null,
      "outputs": [
        {
          "output_type": "execute_result",
          "data": {
            "text/plain": [
              "array([1, 2, 3])"
            ]
          },
          "metadata": {},
          "execution_count": 10
        }
      ]
    },
    {
      "cell_type": "code",
      "source": [
        "q1[4:] # from 4th eleemnt to last element"
      ],
      "metadata": {
        "colab": {
          "base_uri": "https://localhost:8080/"
        },
        "id": "9qgTM1qZu4xP",
        "outputId": "0679aed8-1318-491e-e2af-25ffbc381e01"
      },
      "execution_count": null,
      "outputs": [
        {
          "output_type": "execute_result",
          "data": {
            "text/plain": [
              "array([4, 5, 6, 7, 8, 9])"
            ]
          },
          "metadata": {},
          "execution_count": 166
        }
      ]
    },
    {
      "cell_type": "code",
      "source": [
        "q1[:6]# from first eleemnt to 6th element"
      ],
      "metadata": {
        "colab": {
          "base_uri": "https://localhost:8080/"
        },
        "id": "bL9ISzJGvEGs",
        "outputId": "237d9b84-ddda-4de0-8b83-28e6f94794f2"
      },
      "execution_count": null,
      "outputs": [
        {
          "output_type": "execute_result",
          "data": {
            "text/plain": [
              "array([0, 1, 2, 3, 4, 5])"
            ]
          },
          "metadata": {},
          "execution_count": 168
        }
      ]
    },
    {
      "cell_type": "code",
      "source": [
        "q1[:] # total array"
      ],
      "metadata": {
        "colab": {
          "base_uri": "https://localhost:8080/"
        },
        "id": "dRMQgt8fvOQH",
        "outputId": "4769cf06-c615-452a-c500-ab213ad7164e"
      },
      "execution_count": null,
      "outputs": [
        {
          "output_type": "execute_result",
          "data": {
            "text/plain": [
              "array([0, 1, 2, 3, 4, 5, 6, 7, 8, 9])"
            ]
          },
          "metadata": {},
          "execution_count": 170
        }
      ]
    },
    {
      "cell_type": "code",
      "source": [
        "q1[-1] # last element"
      ],
      "metadata": {
        "colab": {
          "base_uri": "https://localhost:8080/"
        },
        "id": "qcRNjrKuvUdj",
        "outputId": "2f1b9d33-5a53-4b2f-a108-dd63793abd1a"
      },
      "execution_count": null,
      "outputs": [
        {
          "output_type": "execute_result",
          "data": {
            "text/plain": [
              "9"
            ]
          },
          "metadata": {},
          "execution_count": 172
        }
      ]
    },
    {
      "cell_type": "code",
      "source": [
        "# negative slicing\n",
        "q1[-5:-1] # from last 5th to 2nd last"
      ],
      "metadata": {
        "colab": {
          "base_uri": "https://localhost:8080/"
        },
        "id": "kUqe73w4vX4p",
        "outputId": "66653443-fffc-42c5-b968-9f27ac45e049"
      },
      "execution_count": null,
      "outputs": [
        {
          "output_type": "execute_result",
          "data": {
            "text/plain": [
              "array([5, 6, 7, 8])"
            ]
          },
          "metadata": {},
          "execution_count": 176
        }
      ]
    },
    {
      "cell_type": "code",
      "source": [
        "q1[-3:] #from 3rd last to end"
      ],
      "metadata": {
        "colab": {
          "base_uri": "https://localhost:8080/"
        },
        "id": "6WrWIi9Vvi9u",
        "outputId": "3e31d38b-45c0-42ea-c1b8-0e4f0bf64603"
      },
      "execution_count": null,
      "outputs": [
        {
          "output_type": "execute_result",
          "data": {
            "text/plain": [
              "array([7, 8, 9])"
            ]
          },
          "metadata": {},
          "execution_count": 178
        }
      ]
    },
    {
      "cell_type": "code",
      "source": [
        "q1[:-4] # from first to last 4th"
      ],
      "metadata": {
        "colab": {
          "base_uri": "https://localhost:8080/"
        },
        "id": "fMVlDzFEvzvF",
        "outputId": "7a855123-a9dc-4a8b-d1ef-5646b4956da3"
      },
      "execution_count": null,
      "outputs": [
        {
          "output_type": "execute_result",
          "data": {
            "text/plain": [
              "array([0, 1, 2, 3, 4, 5])"
            ]
          },
          "metadata": {},
          "execution_count": 180
        }
      ]
    },
    {
      "cell_type": "code",
      "source": [
        "# with step\n",
        "q1[1:7:2] # with step 2"
      ],
      "metadata": {
        "colab": {
          "base_uri": "https://localhost:8080/"
        },
        "id": "m6B8zNAXv8vP",
        "outputId": "551d41f3-6f95-4fc1-fb84-f1383470565c"
      },
      "execution_count": null,
      "outputs": [
        {
          "output_type": "execute_result",
          "data": {
            "text/plain": [
              "array([1, 3, 5])"
            ]
          },
          "metadata": {},
          "execution_count": 182
        }
      ]
    },
    {
      "cell_type": "code",
      "source": [
        "q1[::3] #total array with step 3"
      ],
      "metadata": {
        "colab": {
          "base_uri": "https://localhost:8080/"
        },
        "id": "QP3OVVl0wU1n",
        "outputId": "1661bbc1-1654-4fd8-956e-c1ace13fecda"
      },
      "execution_count": null,
      "outputs": [
        {
          "output_type": "execute_result",
          "data": {
            "text/plain": [
              "array([0, 3, 6, 9])"
            ]
          },
          "metadata": {},
          "execution_count": 185
        }
      ]
    },
    {
      "cell_type": "code",
      "source": [
        "q1"
      ],
      "metadata": {
        "colab": {
          "base_uri": "https://localhost:8080/"
        },
        "id": "Eg-YoenCws-Y",
        "outputId": "25569fed-cfce-44c4-d751-536abe29e1bd"
      },
      "execution_count": null,
      "outputs": [
        {
          "output_type": "execute_result",
          "data": {
            "text/plain": [
              "array([0, 1, 2, 3, 4, 5, 6, 7, 8, 9])"
            ]
          },
          "metadata": {},
          "execution_count": 188
        }
      ]
    },
    {
      "cell_type": "code",
      "source": [
        "# negative with step\n",
        "q1[-7:-2:2]"
      ],
      "metadata": {
        "colab": {
          "base_uri": "https://localhost:8080/"
        },
        "id": "Qpk0eTyDwaRf",
        "outputId": "b39358f7-eed8-40b3-9631-ab902dc30f71"
      },
      "execution_count": null,
      "outputs": [
        {
          "output_type": "execute_result",
          "data": {
            "text/plain": [
              "array([3, 5, 7])"
            ]
          },
          "metadata": {},
          "execution_count": 187
        }
      ]
    },
    {
      "cell_type": "markdown",
      "source": [
        "**Slicing on 2Darray**"
      ],
      "metadata": {
        "id": "NnlAe4qWw0rN"
      }
    },
    {
      "cell_type": "code",
      "source": [
        "q2"
      ],
      "metadata": {
        "id": "Gyh117XMwxxF",
        "colab": {
          "base_uri": "https://localhost:8080/"
        },
        "outputId": "8a0e3ad3-7a40-471f-e2de-b1e2af43547c"
      },
      "execution_count": null,
      "outputs": [
        {
          "output_type": "execute_result",
          "data": {
            "text/plain": [
              "array([[10, 11, 12, 13],\n",
              "       [14, 15, 16, 17],\n",
              "       [18, 19, 20, 21]])"
            ]
          },
          "metadata": {},
          "execution_count": 3
        }
      ]
    },
    {
      "cell_type": "code",
      "source": [
        "q2[1,0:3] # 2nd array  1st element to 3rd"
      ],
      "metadata": {
        "id": "Iwyx-L8Sw7IL",
        "colab": {
          "base_uri": "https://localhost:8080/"
        },
        "outputId": "b73d2a1a-456a-4234-f943-fbe6109d02eb"
      },
      "execution_count": null,
      "outputs": [
        {
          "output_type": "execute_result",
          "data": {
            "text/plain": [
              "array([14, 15, 16])"
            ]
          },
          "metadata": {},
          "execution_count": 6
        }
      ]
    },
    {
      "cell_type": "code",
      "source": [
        "q2[2,:] # total 3nd array"
      ],
      "metadata": {
        "colab": {
          "base_uri": "https://localhost:8080/"
        },
        "id": "Zpq-7PBjyyj7",
        "outputId": "7af10d51-25f6-4749-acaf-dea076e44b21"
      },
      "execution_count": null,
      "outputs": [
        {
          "output_type": "execute_result",
          "data": {
            "text/plain": [
              "array([18, 19, 20, 21])"
            ]
          },
          "metadata": {},
          "execution_count": 8
        }
      ]
    },
    {
      "cell_type": "code",
      "source": [
        "q2[1,:-1] #  2nd array  with out last element"
      ],
      "metadata": {
        "colab": {
          "base_uri": "https://localhost:8080/"
        },
        "id": "ni1VHkqRzUtE",
        "outputId": "a1258c2e-20ce-41a8-c76e-ef504eb584fa"
      },
      "execution_count": null,
      "outputs": [
        {
          "output_type": "execute_result",
          "data": {
            "text/plain": [
              "array([14, 15, 16])"
            ]
          },
          "metadata": {},
          "execution_count": 9
        }
      ]
    },
    {
      "cell_type": "code",
      "source": [
        "q2[:,3] # all arrays with 4th element"
      ],
      "metadata": {
        "colab": {
          "base_uri": "https://localhost:8080/"
        },
        "id": "xPHb4nwEzfG_",
        "outputId": "ee37889f-2afe-4449-f465-09334db9b0db"
      },
      "execution_count": null,
      "outputs": [
        {
          "output_type": "execute_result",
          "data": {
            "text/plain": [
              "array([13, 17, 21])"
            ]
          },
          "metadata": {},
          "execution_count": 11
        }
      ]
    },
    {
      "cell_type": "code",
      "source": [
        "q2"
      ],
      "metadata": {
        "colab": {
          "base_uri": "https://localhost:8080/"
        },
        "id": "Dw2q3ZEo0bii",
        "outputId": "054a0e4c-9534-47ee-d6e7-5297ff7827b4"
      },
      "execution_count": null,
      "outputs": [
        {
          "output_type": "execute_result",
          "data": {
            "text/plain": [
              "array([[10, 11, 12, 13],\n",
              "       [14, 15, 16, 17],\n",
              "       [18, 19, 20, 21]])"
            ]
          },
          "metadata": {},
          "execution_count": 15
        }
      ]
    },
    {
      "cell_type": "code",
      "source": [
        "q2[0:2,2:4] # first two arrays with 2nd and 3rd elements"
      ],
      "metadata": {
        "colab": {
          "base_uri": "https://localhost:8080/"
        },
        "id": "v-ViyLMoz_Wy",
        "outputId": "062b0f74-73e7-4428-e44f-4d1ab581b5d8"
      },
      "execution_count": null,
      "outputs": [
        {
          "output_type": "execute_result",
          "data": {
            "text/plain": [
              "array([[12, 13],\n",
              "       [16, 17]])"
            ]
          },
          "metadata": {},
          "execution_count": 14
        }
      ]
    },
    {
      "cell_type": "code",
      "source": [
        "q2[:,2:4]"
      ],
      "metadata": {
        "colab": {
          "base_uri": "https://localhost:8080/"
        },
        "id": "xf-Oi_qN0NcI",
        "outputId": "f9441c0c-98ac-439a-e2e3-59511367c345"
      },
      "execution_count": null,
      "outputs": [
        {
          "output_type": "execute_result",
          "data": {
            "text/plain": [
              "array([[12, 13],\n",
              "       [16, 17],\n",
              "       [20, 21]])"
            ]
          },
          "metadata": {},
          "execution_count": 18
        }
      ]
    },
    {
      "cell_type": "code",
      "source": [
        "q2[:,:] #total array"
      ],
      "metadata": {
        "colab": {
          "base_uri": "https://localhost:8080/"
        },
        "id": "l0LP-eA80rXx",
        "outputId": "a6412f72-7f4a-479b-eca5-6175d1517919"
      },
      "execution_count": null,
      "outputs": [
        {
          "output_type": "execute_result",
          "data": {
            "text/plain": [
              "array([[10, 11, 12, 13],\n",
              "       [14, 15, 16, 17],\n",
              "       [18, 19, 20, 21]])"
            ]
          },
          "metadata": {},
          "execution_count": 20
        }
      ]
    },
    {
      "cell_type": "code",
      "source": [
        "# eleemtn fetching with step\n",
        "q2"
      ],
      "metadata": {
        "colab": {
          "base_uri": "https://localhost:8080/"
        },
        "id": "BOxd_7U-0821",
        "outputId": "25d34c08-cf3c-4262-afad-09d46432e36d"
      },
      "execution_count": null,
      "outputs": [
        {
          "output_type": "execute_result",
          "data": {
            "text/plain": [
              "array([[10, 11, 12, 13],\n",
              "       [14, 15, 16, 17],\n",
              "       [18, 19, 20, 21]])"
            ]
          },
          "metadata": {},
          "execution_count": 22
        }
      ]
    },
    {
      "cell_type": "code",
      "source": [
        "# frtching 11,13 15, 17 and 19,12\n",
        "q2[:,1:4:2]"
      ],
      "metadata": {
        "colab": {
          "base_uri": "https://localhost:8080/"
        },
        "id": "a5WPV0MP1O-M",
        "outputId": "fa91190a-9a76-4242-a9ae-cc65818cb19f"
      },
      "execution_count": null,
      "outputs": [
        {
          "output_type": "execute_result",
          "data": {
            "text/plain": [
              "array([[11, 13],\n",
              "       [15, 17],\n",
              "       [19, 21]])"
            ]
          },
          "metadata": {},
          "execution_count": 25
        }
      ]
    },
    {
      "cell_type": "code",
      "source": [
        "# skipping array\n",
        "# frtching 11,13  and 19,12\n",
        "q2[::2,1:4:2] # skipping 2nd array"
      ],
      "metadata": {
        "colab": {
          "base_uri": "https://localhost:8080/"
        },
        "id": "I-0NiGBc1j16",
        "outputId": "fcd53e88-40a3-428d-b932-e358962dd4db"
      },
      "execution_count": null,
      "outputs": [
        {
          "output_type": "execute_result",
          "data": {
            "text/plain": [
              "array([[11, 13],\n",
              "       [19, 21]])"
            ]
          },
          "metadata": {},
          "execution_count": 27
        }
      ]
    },
    {
      "cell_type": "code",
      "source": [
        "q2"
      ],
      "metadata": {
        "colab": {
          "base_uri": "https://localhost:8080/"
        },
        "id": "8NxN6az52Kmg",
        "outputId": "471506fe-7a66-41ee-bd33-b4c94e992ebf"
      },
      "execution_count": null,
      "outputs": [
        {
          "output_type": "execute_result",
          "data": {
            "text/plain": [
              "array([[10, 11, 12, 13],\n",
              "       [14, 15, 16, 17],\n",
              "       [18, 19, 20, 21]])"
            ]
          },
          "metadata": {},
          "execution_count": 29
        }
      ]
    },
    {
      "cell_type": "code",
      "source": [
        "q2[::2,::3] # skipping 2nd array and 2 values in each array after element"
      ],
      "metadata": {
        "colab": {
          "base_uri": "https://localhost:8080/"
        },
        "id": "nwLDJkbQ15OW",
        "outputId": "482b6786-0636-4e53-9409-43744d0ff219"
      },
      "execution_count": null,
      "outputs": [
        {
          "output_type": "execute_result",
          "data": {
            "text/plain": [
              "array([[10, 13],\n",
              "       [18, 21]])"
            ]
          },
          "metadata": {},
          "execution_count": 28
        }
      ]
    },
    {
      "cell_type": "code",
      "source": [
        "q2[::2] # feching 1 and 3rd arrays"
      ],
      "metadata": {
        "colab": {
          "base_uri": "https://localhost:8080/"
        },
        "id": "MDvEL08a2IwO",
        "outputId": "2c96dd7e-2379-426e-dae5-20328c764a70"
      },
      "execution_count": null,
      "outputs": [
        {
          "output_type": "execute_result",
          "data": {
            "text/plain": [
              "array([[10, 11, 12, 13],\n",
              "       [18, 19, 20, 21]])"
            ]
          },
          "metadata": {},
          "execution_count": 33
        }
      ]
    },
    {
      "cell_type": "code",
      "source": [
        "# fetching 1st and 3rd array without 1st element in each\n",
        "q2[::2,1::1]"
      ],
      "metadata": {
        "colab": {
          "base_uri": "https://localhost:8080/"
        },
        "id": "Xrli7dRv2sb4",
        "outputId": "9ee0a189-65e6-4756-aa90-96e718117026"
      },
      "execution_count": null,
      "outputs": [
        {
          "output_type": "execute_result",
          "data": {
            "text/plain": [
              "array([[11, 12, 13],\n",
              "       [19, 20, 21]])"
            ]
          },
          "metadata": {},
          "execution_count": 37
        }
      ]
    },
    {
      "cell_type": "code",
      "source": [
        "q2"
      ],
      "metadata": {
        "colab": {
          "base_uri": "https://localhost:8080/"
        },
        "id": "kcWj-L-G3p_J",
        "outputId": "824d1dc3-361e-4ade-f694-dc4f83838290"
      },
      "execution_count": null,
      "outputs": [
        {
          "output_type": "execute_result",
          "data": {
            "text/plain": [
              "array([[10, 11, 12, 13],\n",
              "       [14, 15, 16, 17],\n",
              "       [18, 19, 20, 21]])"
            ]
          },
          "metadata": {},
          "execution_count": 38
        }
      ]
    },
    {
      "cell_type": "markdown",
      "source": [
        " if step=2 then 1 element skipped and if step=3  then 2 elements skipped and soon"
      ],
      "metadata": {
        "id": "74wuQj6M4Lsb"
      }
    },
    {
      "cell_type": "code",
      "source": [
        "# fetching 1st and 3rd array without 1st element in each and also skip the 3rd element in each\n",
        "q2[::2,1::2]"
      ],
      "metadata": {
        "colab": {
          "base_uri": "https://localhost:8080/"
        },
        "id": "lGCkOHgb3LHS",
        "outputId": "932fe4de-7635-492c-ae90-b425bfee265c"
      },
      "execution_count": null,
      "outputs": [
        {
          "output_type": "execute_result",
          "data": {
            "text/plain": [
              "array([[11, 13],\n",
              "       [19, 21]])"
            ]
          },
          "metadata": {},
          "execution_count": 36
        }
      ]
    },
    {
      "cell_type": "code",
      "source": [
        "q2\n"
      ],
      "metadata": {
        "colab": {
          "base_uri": "https://localhost:8080/"
        },
        "id": "XWyIuxfq4qEP",
        "outputId": "57afee7d-0469-4081-82e0-05144a3b9853"
      },
      "execution_count": null,
      "outputs": [
        {
          "output_type": "execute_result",
          "data": {
            "text/plain": [
              "array([[10, 11, 12, 13],\n",
              "       [14, 15, 16, 17],\n",
              "       [18, 19, 20, 21]])"
            ]
          },
          "metadata": {},
          "execution_count": 40
        }
      ]
    },
    {
      "cell_type": "code",
      "source": [
        "q2[:2,1::2]"
      ],
      "metadata": {
        "colab": {
          "base_uri": "https://localhost:8080/"
        },
        "id": "nEHOlZQ83dE-",
        "outputId": "c0e4172a-9f88-4bd6-c74b-b19fc34bb04d"
      },
      "execution_count": null,
      "outputs": [
        {
          "output_type": "execute_result",
          "data": {
            "text/plain": [
              "array([[11, 13],\n",
              "       [15, 17]])"
            ]
          },
          "metadata": {},
          "execution_count": 39
        }
      ]
    },
    {
      "cell_type": "markdown",
      "source": [
        "slicing on 3d Array"
      ],
      "metadata": {
        "id": "unkHppvz4wuC"
      }
    },
    {
      "cell_type": "code",
      "source": [
        "q3.ndim"
      ],
      "metadata": {
        "colab": {
          "base_uri": "https://localhost:8080/"
        },
        "id": "zjQy1AFJ4o6l",
        "outputId": "0aaefe4a-dd3d-463f-d6de-d390bc94d6bd"
      },
      "execution_count": null,
      "outputs": [
        {
          "output_type": "execute_result",
          "data": {
            "text/plain": [
              "3"
            ]
          },
          "metadata": {},
          "execution_count": 41
        }
      ]
    },
    {
      "cell_type": "code",
      "source": [
        "q3"
      ],
      "metadata": {
        "colab": {
          "base_uri": "https://localhost:8080/"
        },
        "id": "k-D9w8iS42oj",
        "outputId": "bef5babe-026e-4726-9809-b6e9cf6ad65e"
      },
      "execution_count": null,
      "outputs": [
        {
          "output_type": "execute_result",
          "data": {
            "text/plain": [
              "array([[[ 1,  2],\n",
              "        [ 3,  4]],\n",
              "\n",
              "       [[ 5,  6],\n",
              "        [ 7,  8]],\n",
              "\n",
              "       [[ 9, 10],\n",
              "        [11, 12]]])"
            ]
          },
          "metadata": {},
          "execution_count": 42
        }
      ]
    },
    {
      "cell_type": "code",
      "source": [
        " q4 = np.arange(12,24).reshape(3,2,2)\n",
        " q4"
      ],
      "metadata": {
        "colab": {
          "base_uri": "https://localhost:8080/"
        },
        "id": "1EAWCyVI5IR2",
        "outputId": "a449f003-20e0-4dda-fed5-14e2f67559e1"
      },
      "execution_count": null,
      "outputs": [
        {
          "output_type": "execute_result",
          "data": {
            "text/plain": [
              "array([[[12, 13],\n",
              "        [14, 15]],\n",
              "\n",
              "       [[16, 17],\n",
              "        [18, 19]],\n",
              "\n",
              "       [[20, 21],\n",
              "        [22, 23]]])"
            ]
          },
          "metadata": {},
          "execution_count": 44
        }
      ]
    },
    {
      "cell_type": "code",
      "source": [],
      "metadata": {
        "id": "rb49dbhBXAYT"
      },
      "execution_count": null,
      "outputs": []
    },
    {
      "cell_type": "code",
      "source": [
        "qq = np.append(q3,q4) # failed to append as matrix so we can use matri multi\n",
        "qq"
      ],
      "metadata": {
        "colab": {
          "base_uri": "https://localhost:8080/"
        },
        "id": "tW_r-78N47IC",
        "outputId": "fae26630-5a08-4829-fb80-25d2f05a7862"
      },
      "execution_count": null,
      "outputs": [
        {
          "output_type": "execute_result",
          "data": {
            "text/plain": [
              "array([ 1,  2,  3,  4,  5,  6,  7,  8,  9, 10, 11, 12, 12, 13, 14, 15, 16,\n",
              "       17, 18, 19, 20, 21, 22, 23])"
            ]
          },
          "metadata": {},
          "execution_count": 132
        }
      ]
    },
    {
      "cell_type": "code",
      "source": [
        "qq = qq.reshape(3,2,4)\n",
        "qq"
      ],
      "metadata": {
        "colab": {
          "base_uri": "https://localhost:8080/"
        },
        "id": "K4uhdwYl5VUl",
        "outputId": "57a421f2-9ccb-4645-d54e-61277eb5c2d8"
      },
      "execution_count": null,
      "outputs": [
        {
          "output_type": "execute_result",
          "data": {
            "text/plain": [
              "array([[[ 1,  2,  3,  4],\n",
              "        [ 5,  6,  7,  8]],\n",
              "\n",
              "       [[ 9, 10, 11, 12],\n",
              "        [12, 13, 14, 15]],\n",
              "\n",
              "       [[16, 17, 18, 19],\n",
              "        [20, 21, 22, 23]]])"
            ]
          },
          "metadata": {},
          "execution_count": 133
        }
      ]
    },
    {
      "cell_type": "code",
      "source": [
        "a = np.arange(24,36).reshape(3,4)\n",
        "a\n"
      ],
      "metadata": {
        "colab": {
          "base_uri": "https://localhost:8080/"
        },
        "id": "HWdVIsLc7XZq",
        "outputId": "6567dc3a-a530-4c5b-e213-97fd6f845930"
      },
      "execution_count": null,
      "outputs": [
        {
          "output_type": "execute_result",
          "data": {
            "text/plain": [
              "array([[24, 25, 26, 27],\n",
              "       [28, 29, 30, 31],\n",
              "       [32, 33, 34, 35]])"
            ]
          },
          "metadata": {},
          "execution_count": 134
        }
      ]
    },
    {
      "cell_type": "markdown",
      "source": [
        "we want 3x3x3 matrix so we inset each array of a in each parent array of qq"
      ],
      "metadata": {
        "id": "UTetFJQ9GN1b"
      }
    },
    {
      "cell_type": "code",
      "source": [
        "#  wnat to add above array to QQ for each array in the a to echa parent array in the QQ\n",
        "qq = np.insert(qq,2,a[:],axis=1)  # insert array at index 2 for each parent array\n",
        "qq"
      ],
      "metadata": {
        "colab": {
          "base_uri": "https://localhost:8080/"
        },
        "id": "k4cjWsDxE5Z-",
        "outputId": "cbc39fcd-fad1-42a1-ab70-038c4551eadc"
      },
      "execution_count": null,
      "outputs": [
        {
          "output_type": "execute_result",
          "data": {
            "text/plain": [
              "array([[[ 1,  2,  3,  4],\n",
              "        [ 5,  6,  7,  8],\n",
              "        [24, 25, 26, 27]],\n",
              "\n",
              "       [[ 9, 10, 11, 12],\n",
              "        [12, 13, 14, 15],\n",
              "        [28, 29, 30, 31]],\n",
              "\n",
              "       [[16, 17, 18, 19],\n",
              "        [20, 21, 22, 23],\n",
              "        [32, 33, 34, 35]]])"
            ]
          },
          "metadata": {},
          "execution_count": 136
        }
      ]
    },
    {
      "cell_type": "code",
      "source": [
        "# fetch the second matrix\n",
        "qq[1]"
      ],
      "metadata": {
        "id": "u9MfQWUJIrZC",
        "colab": {
          "base_uri": "https://localhost:8080/"
        },
        "outputId": "7d978067-25f5-4536-f119-6d94bb31c199"
      },
      "execution_count": null,
      "outputs": [
        {
          "output_type": "execute_result",
          "data": {
            "text/plain": [
              "array([[ 9, 10, 11, 12],\n",
              "       [12, 13, 14, 15],\n",
              "       [28, 29, 30, 31]])"
            ]
          },
          "metadata": {},
          "execution_count": 138
        }
      ]
    },
    {
      "cell_type": "code",
      "source": [
        "qq[::2] # first and last matrix"
      ],
      "metadata": {
        "id": "H_vcFe7qIy3b",
        "colab": {
          "base_uri": "https://localhost:8080/"
        },
        "outputId": "973cafbd-82e5-4d1a-fe4b-30dedb982c2d"
      },
      "execution_count": null,
      "outputs": [
        {
          "output_type": "execute_result",
          "data": {
            "text/plain": [
              "array([[[ 1,  2,  3,  4],\n",
              "        [ 5,  6,  7,  8],\n",
              "        [24, 25, 26, 27]],\n",
              "\n",
              "       [[16, 17, 18, 19],\n",
              "        [20, 21, 22, 23],\n",
              "        [32, 33, 34, 35]]])"
            ]
          },
          "metadata": {},
          "execution_count": 140
        }
      ]
    },
    {
      "cell_type": "code",
      "source": [
        "qq"
      ],
      "metadata": {
        "colab": {
          "base_uri": "https://localhost:8080/"
        },
        "id": "agOfXgK2YLjz",
        "outputId": "7e209c9e-f273-4ea9-bb87-cdada304b5cf"
      },
      "execution_count": null,
      "outputs": [
        {
          "output_type": "execute_result",
          "data": {
            "text/plain": [
              "array([[[ 1,  2,  3,  4],\n",
              "        [ 5,  6,  7,  8],\n",
              "        [24, 25, 26, 27]],\n",
              "\n",
              "       [[ 9, 10, 11, 12],\n",
              "        [12, 13, 14, 15],\n",
              "        [28, 29, 30, 31]],\n",
              "\n",
              "       [[16, 17, 18, 19],\n",
              "        [20, 21, 22, 23],\n",
              "        [32, 33, 34, 35]]])"
            ]
          },
          "metadata": {},
          "execution_count": 141
        }
      ]
    },
    {
      "cell_type": "code",
      "source": [
        "# fetch the 1st 2nd array's second row\n",
        "qq[::2,1]"
      ],
      "metadata": {
        "id": "meWaIlCbJRFk",
        "colab": {
          "base_uri": "https://localhost:8080/"
        },
        "outputId": "519a2877-3e5a-4ff9-9bbc-7f1f342eb6a7"
      },
      "execution_count": null,
      "outputs": [
        {
          "output_type": "execute_result",
          "data": {
            "text/plain": [
              "array([[ 5,  6,  7,  8],\n",
              "       [20, 21, 22, 23]])"
            ]
          },
          "metadata": {},
          "execution_count": 144
        }
      ]
    },
    {
      "cell_type": "code",
      "source": [
        "# Fetch 2 numpy array ,middle column ---> 10,13,29\n",
        "qq[1,:]"
      ],
      "metadata": {
        "id": "Js6jU-kmCPWN",
        "colab": {
          "base_uri": "https://localhost:8080/"
        },
        "outputId": "597c5733-ada0-4496-9c7c-0e11ac8d8f6b"
      },
      "execution_count": null,
      "outputs": [
        {
          "output_type": "execute_result",
          "data": {
            "text/plain": [
              "array([[ 9, 10, 11, 12],\n",
              "       [12, 13, 14, 15],\n",
              "       [28, 29, 30, 31]])"
            ]
          },
          "metadata": {},
          "execution_count": 148
        }
      ]
    },
    {
      "cell_type": "code",
      "source": [
        "qq[1,:,1]"
      ],
      "metadata": {
        "colab": {
          "base_uri": "https://localhost:8080/"
        },
        "id": "LrYG-3p1Y42U",
        "outputId": "57684a4e-3d63-4189-aff9-9ed7b8c94177"
      },
      "execution_count": null,
      "outputs": [
        {
          "output_type": "execute_result",
          "data": {
            "text/plain": [
              "array([10, 13, 29])"
            ]
          },
          "metadata": {},
          "execution_count": 149
        }
      ]
    },
    {
      "cell_type": "code",
      "source": [
        "qq"
      ],
      "metadata": {
        "colab": {
          "base_uri": "https://localhost:8080/"
        },
        "id": "xTQUPfrsZbDB",
        "outputId": "2012596c-5b19-473e-c04e-22ba0a1cbbf0"
      },
      "execution_count": null,
      "outputs": [
        {
          "output_type": "execute_result",
          "data": {
            "text/plain": [
              "array([[[ 1,  2,  3,  4],\n",
              "        [ 5,  6,  7,  8],\n",
              "        [24, 25, 26, 27]],\n",
              "\n",
              "       [[ 9, 10, 11, 12],\n",
              "        [12, 13, 14, 15],\n",
              "        [28, 29, 30, 31]],\n",
              "\n",
              "       [[16, 17, 18, 19],\n",
              "        [20, 21, 22, 23],\n",
              "        [32, 33, 34, 35]]])"
            ]
          },
          "metadata": {},
          "execution_count": 150
        }
      ]
    },
    {
      "cell_type": "code",
      "source": [
        "# Fetch 3 array--->22,23,34,35\n",
        "qq[2,1:]"
      ],
      "metadata": {
        "colab": {
          "base_uri": "https://localhost:8080/"
        },
        "id": "EhVBD6LZZVx4",
        "outputId": "32228b98-704a-4c0e-8647-8a350bb8fb6e"
      },
      "execution_count": null,
      "outputs": [
        {
          "output_type": "execute_result",
          "data": {
            "text/plain": [
              "array([[20, 21, 22, 23],\n",
              "       [32, 33, 34, 35]])"
            ]
          },
          "metadata": {},
          "execution_count": 153
        }
      ]
    },
    {
      "cell_type": "code",
      "source": [
        "qq[2,1:,2:]"
      ],
      "metadata": {
        "colab": {
          "base_uri": "https://localhost:8080/"
        },
        "id": "YzKy-55XZssq",
        "outputId": "646de9fe-8797-4693-b690-61e793e31684"
      },
      "execution_count": null,
      "outputs": [
        {
          "output_type": "execute_result",
          "data": {
            "text/plain": [
              "array([[22, 23],\n",
              "       [34, 35]])"
            ]
          },
          "metadata": {},
          "execution_count": 154
        }
      ]
    },
    {
      "cell_type": "code",
      "source": [
        "qq[2] # last matrix"
      ],
      "metadata": {
        "colab": {
          "base_uri": "https://localhost:8080/"
        },
        "id": "b27-WdR_Z3eh",
        "outputId": "2b82696a-db80-42c0-d383-0ace38410219"
      },
      "execution_count": null,
      "outputs": [
        {
          "output_type": "execute_result",
          "data": {
            "text/plain": [
              "array([[16, 17, 18, 19],\n",
              "       [20, 21, 22, 23],\n",
              "       [32, 33, 34, 35]])"
            ]
          },
          "metadata": {},
          "execution_count": 156
        }
      ]
    },
    {
      "cell_type": "code",
      "source": [
        "qq[2,1:] # last two rows"
      ],
      "metadata": {
        "colab": {
          "base_uri": "https://localhost:8080/"
        },
        "id": "zrLXlWq1aAYP",
        "outputId": "a25fa989-35b2-4046-dfc5-7a6ad854805a"
      },
      "execution_count": null,
      "outputs": [
        {
          "output_type": "execute_result",
          "data": {
            "text/plain": [
              "array([[20, 21, 22, 23],\n",
              "       [32, 33, 34, 35]])"
            ]
          },
          "metadata": {},
          "execution_count": 158
        }
      ]
    },
    {
      "cell_type": "code",
      "source": [
        "qq[2,:,2:] # last two columns"
      ],
      "metadata": {
        "colab": {
          "base_uri": "https://localhost:8080/"
        },
        "id": "vnmcWAd2aKhr",
        "outputId": "da4bbc74-5f0f-4279-fa32-aa58f03f00a5"
      },
      "execution_count": null,
      "outputs": [
        {
          "output_type": "execute_result",
          "data": {
            "text/plain": [
              "array([[18, 19],\n",
              "       [22, 23],\n",
              "       [34, 35]])"
            ]
          },
          "metadata": {},
          "execution_count": 160
        }
      ]
    },
    {
      "cell_type": "code",
      "source": [
        "qq[:,:,2:] # last two columns for all arrays"
      ],
      "metadata": {
        "colab": {
          "base_uri": "https://localhost:8080/"
        },
        "id": "K1QxUmwxamWA",
        "outputId": "43e8e2a2-6b7a-4b41-8059-4e76d640df6a"
      },
      "execution_count": null,
      "outputs": [
        {
          "output_type": "execute_result",
          "data": {
            "text/plain": [
              "array([[[ 3,  4],\n",
              "        [ 7,  8],\n",
              "        [26, 27]],\n",
              "\n",
              "       [[11, 12],\n",
              "        [14, 15],\n",
              "        [30, 31]],\n",
              "\n",
              "       [[18, 19],\n",
              "        [22, 23],\n",
              "        [34, 35]]])"
            ]
          },
          "metadata": {},
          "execution_count": 161
        }
      ]
    },
    {
      "cell_type": "code",
      "source": [
        "qq"
      ],
      "metadata": {
        "colab": {
          "base_uri": "https://localhost:8080/"
        },
        "id": "3OAB0zH9bGJy",
        "outputId": "dda47a99-427c-4ffe-fa5f-898c8336dbe1"
      },
      "execution_count": null,
      "outputs": [
        {
          "output_type": "execute_result",
          "data": {
            "text/plain": [
              "array([[[ 1,  2,  3,  4],\n",
              "        [ 5,  6,  7,  8],\n",
              "        [24, 25, 26, 27]],\n",
              "\n",
              "       [[ 9, 10, 11, 12],\n",
              "        [12, 13, 14, 15],\n",
              "        [28, 29, 30, 31]],\n",
              "\n",
              "       [[16, 17, 18, 19],\n",
              "        [20, 21, 22, 23],\n",
              "        [32, 33, 34, 35]]])"
            ]
          },
          "metadata": {},
          "execution_count": 162
        }
      ]
    },
    {
      "cell_type": "code",
      "source": [
        "# fetch  1,3 and 9,11\n",
        "qq[:2,:1]"
      ],
      "metadata": {
        "colab": {
          "base_uri": "https://localhost:8080/"
        },
        "id": "29iBSmVXa5M9",
        "outputId": "3360436e-4d07-4063-b283-8699460afe25"
      },
      "execution_count": null,
      "outputs": [
        {
          "output_type": "execute_result",
          "data": {
            "text/plain": [
              "array([[[ 1,  2,  3,  4]],\n",
              "\n",
              "       [[ 9, 10, 11, 12]]])"
            ]
          },
          "metadata": {},
          "execution_count": 165
        }
      ]
    },
    {
      "cell_type": "code",
      "source": [
        "qq[:2,:1,::2]"
      ],
      "metadata": {
        "colab": {
          "base_uri": "https://localhost:8080/"
        },
        "id": "QNsE8D4CbX74",
        "outputId": "76222dba-813f-4942-83a6-f010e32bd29d"
      },
      "execution_count": null,
      "outputs": [
        {
          "output_type": "execute_result",
          "data": {
            "text/plain": [
              "array([[[ 1,  3]],\n",
              "\n",
              "       [[ 9, 11]]])"
            ]
          },
          "metadata": {},
          "execution_count": 164
        }
      ]
    },
    {
      "cell_type": "code",
      "source": [
        "# fetch 1st and 3rd array\n",
        "qq[::2]"
      ],
      "metadata": {
        "colab": {
          "base_uri": "https://localhost:8080/"
        },
        "id": "VGSOa4_9bbgg",
        "outputId": "2fbbbfbc-668b-4402-eb82-517bb8f1b934"
      },
      "execution_count": null,
      "outputs": [
        {
          "output_type": "execute_result",
          "data": {
            "text/plain": [
              "array([[[ 1,  2,  3,  4],\n",
              "        [ 5,  6,  7,  8],\n",
              "        [24, 25, 26, 27]],\n",
              "\n",
              "       [[16, 17, 18, 19],\n",
              "        [20, 21, 22, 23],\n",
              "        [32, 33, 34, 35]]])"
            ]
          },
          "metadata": {},
          "execution_count": 167
        }
      ]
    },
    {
      "cell_type": "code",
      "source": [
        "qq"
      ],
      "metadata": {
        "colab": {
          "base_uri": "https://localhost:8080/"
        },
        "id": "FuKn9Beab6lp",
        "outputId": "947a6a6b-dc77-420f-fd62-672483f80c33"
      },
      "execution_count": null,
      "outputs": [
        {
          "output_type": "execute_result",
          "data": {
            "text/plain": [
              "array([[[ 1,  2,  3,  4],\n",
              "        [ 5,  6,  7,  8],\n",
              "        [24, 25, 26, 27]],\n",
              "\n",
              "       [[ 9, 10, 11, 12],\n",
              "        [12, 13, 14, 15],\n",
              "        [28, 29, 30, 31]],\n",
              "\n",
              "       [[16, 17, 18, 19],\n",
              "        [20, 21, 22, 23],\n",
              "        [32, 33, 34, 35]]])"
            ]
          },
          "metadata": {},
          "execution_count": 168
        }
      ]
    },
    {
      "cell_type": "code",
      "source": [
        "# fetch 5,7 and 20,22\n",
        "qq[::2,1]"
      ],
      "metadata": {
        "colab": {
          "base_uri": "https://localhost:8080/"
        },
        "id": "Q5UYGhedbtQV",
        "outputId": "fd6f6dc4-7141-465b-b52d-51d41e5544fd"
      },
      "execution_count": null,
      "outputs": [
        {
          "output_type": "execute_result",
          "data": {
            "text/plain": [
              "array([[ 5,  6,  7,  8],\n",
              "       [20, 21, 22, 23]])"
            ]
          },
          "metadata": {},
          "execution_count": 170
        }
      ]
    },
    {
      "cell_type": "code",
      "source": [
        "qq[::2,1,::2]"
      ],
      "metadata": {
        "colab": {
          "base_uri": "https://localhost:8080/"
        },
        "id": "E6Sj_Pd0b982",
        "outputId": "88058013-6158-4a1e-b6d0-9f3cbaad3c53"
      },
      "execution_count": null,
      "outputs": [
        {
          "output_type": "execute_result",
          "data": {
            "text/plain": [
              "array([[ 5,  7],\n",
              "       [20, 22]])"
            ]
          },
          "metadata": {},
          "execution_count": 174
        }
      ]
    },
    {
      "cell_type": "markdown",
      "source": [
        "## Iteration through Array"
      ],
      "metadata": {
        "id": "uU9__zZOcoMF"
      }
    },
    {
      "cell_type": "code",
      "source": [
        "q1"
      ],
      "metadata": {
        "colab": {
          "base_uri": "https://localhost:8080/"
        },
        "id": "pBW7Y1VCcGeN",
        "outputId": "f54e5ac5-ea65-4315-db26-ca0cb0c63964"
      },
      "execution_count": null,
      "outputs": [
        {
          "output_type": "execute_result",
          "data": {
            "text/plain": [
              "array([0, 1, 2, 3, 4, 5, 6, 7, 8, 9])"
            ]
          },
          "metadata": {},
          "execution_count": 176
        }
      ]
    },
    {
      "cell_type": "code",
      "source": [
        "for i in q1:\n",
        "  print(i)"
      ],
      "metadata": {
        "colab": {
          "base_uri": "https://localhost:8080/"
        },
        "id": "lcm_Yf2ncve4",
        "outputId": "519e15f0-d3f5-4117-9bd6-61f96b1df7af"
      },
      "execution_count": null,
      "outputs": [
        {
          "output_type": "stream",
          "name": "stdout",
          "text": [
            "0\n",
            "1\n",
            "2\n",
            "3\n",
            "4\n",
            "5\n",
            "6\n",
            "7\n",
            "8\n",
            "9\n"
          ]
        }
      ]
    },
    {
      "cell_type": "code",
      "source": [
        "q2"
      ],
      "metadata": {
        "colab": {
          "base_uri": "https://localhost:8080/"
        },
        "id": "y4cnPsSVc8rK",
        "outputId": "55a63c71-b9d7-43c2-bca7-869efc275d07"
      },
      "execution_count": null,
      "outputs": [
        {
          "output_type": "execute_result",
          "data": {
            "text/plain": [
              "array([[10, 11, 12, 13],\n",
              "       [14, 15, 16, 17],\n",
              "       [18, 19, 20, 21]])"
            ]
          },
          "metadata": {},
          "execution_count": 181
        }
      ]
    },
    {
      "cell_type": "code",
      "source": [
        "# Looping through 2D array\n",
        "for i in q2:\n",
        "  print(i)"
      ],
      "metadata": {
        "colab": {
          "base_uri": "https://localhost:8080/"
        },
        "id": "_5cohKGocxpk",
        "outputId": "1e0a3fea-5441-466f-da80-1c8120e7e600"
      },
      "execution_count": null,
      "outputs": [
        {
          "output_type": "stream",
          "name": "stdout",
          "text": [
            "[10 11 12 13]\n",
            "[14 15 16 17]\n",
            "[18 19 20 21]\n"
          ]
        }
      ]
    },
    {
      "cell_type": "code",
      "source": [
        "q3"
      ],
      "metadata": {
        "colab": {
          "base_uri": "https://localhost:8080/"
        },
        "id": "GWHf62goc7Qs",
        "outputId": "605ad21e-1237-4f01-a4a5-336eabed6654"
      },
      "execution_count": null,
      "outputs": [
        {
          "output_type": "execute_result",
          "data": {
            "text/plain": [
              "array([[[ 1,  2],\n",
              "        [ 3,  4]],\n",
              "\n",
              "       [[ 5,  6],\n",
              "        [ 7,  8]],\n",
              "\n",
              "       [[ 9, 10],\n",
              "        [11, 12]]])"
            ]
          },
          "metadata": {},
          "execution_count": 182
        }
      ]
    },
    {
      "cell_type": "code",
      "source": [
        "for j in q3:\n",
        "  print(j)"
      ],
      "metadata": {
        "colab": {
          "base_uri": "https://localhost:8080/"
        },
        "id": "vH-mzC-mdTHf",
        "outputId": "0bff44fe-fc59-4e51-ed3a-82a074846b0a"
      },
      "execution_count": null,
      "outputs": [
        {
          "output_type": "stream",
          "name": "stdout",
          "text": [
            "[[1 2]\n",
            " [3 4]]\n",
            "[[5 6]\n",
            " [7 8]]\n",
            "[[ 9 10]\n",
            " [11 12]]\n"
          ]
        }
      ]
    },
    {
      "cell_type": "markdown",
      "source": [
        "print all items in 3D using nditer ----> first convert in to 1D and applying Loop"
      ],
      "metadata": {
        "id": "8n5bJby2dnSl"
      }
    },
    {
      "cell_type": "code",
      "source": [
        "for i in np.nditer(q3):\n",
        "  print(i)"
      ],
      "metadata": {
        "colab": {
          "base_uri": "https://localhost:8080/"
        },
        "id": "qYcglE3MdWpe",
        "outputId": "c4cf73f2-0b74-4c2c-e603-aeaa66adf95f"
      },
      "execution_count": null,
      "outputs": [
        {
          "output_type": "stream",
          "name": "stdout",
          "text": [
            "1\n",
            "2\n",
            "3\n",
            "4\n",
            "5\n",
            "6\n",
            "7\n",
            "8\n",
            "9\n",
            "10\n",
            "11\n",
            "12\n"
          ]
        }
      ]
    },
    {
      "cell_type": "markdown",
      "source": [
        "# Reshaping"
      ],
      "metadata": {
        "id": "UkbIKNhsdxdJ"
      }
    },
    {
      "cell_type": "markdown",
      "source": [
        "## Transpose"
      ],
      "metadata": {
        "id": "DvM6-Jj5dz8u"
      }
    },
    {
      "cell_type": "code",
      "source": [
        "q2"
      ],
      "metadata": {
        "colab": {
          "base_uri": "https://localhost:8080/"
        },
        "id": "MpF8RfLidtY6",
        "outputId": "78b0b78a-54a5-4349-8779-6c29f708622f"
      },
      "execution_count": null,
      "outputs": [
        {
          "output_type": "execute_result",
          "data": {
            "text/plain": [
              "array([[10, 11, 12, 13],\n",
              "       [14, 15, 16, 17],\n",
              "       [18, 19, 20, 21]])"
            ]
          },
          "metadata": {},
          "execution_count": 185
        }
      ]
    },
    {
      "cell_type": "code",
      "source": [
        "np.transpose(q2)"
      ],
      "metadata": {
        "colab": {
          "base_uri": "https://localhost:8080/"
        },
        "id": "-vlpYMaRd9rc",
        "outputId": "26b80b62-6a2e-489a-98e4-dafeb6a9fc09"
      },
      "execution_count": null,
      "outputs": [
        {
          "output_type": "execute_result",
          "data": {
            "text/plain": [
              "array([[10, 14, 18],\n",
              "       [11, 15, 19],\n",
              "       [12, 16, 20],\n",
              "       [13, 17, 21]])"
            ]
          },
          "metadata": {},
          "execution_count": 186
        }
      ]
    },
    {
      "cell_type": "code",
      "source": [
        "# alternate method\n",
        "q2.T"
      ],
      "metadata": {
        "colab": {
          "base_uri": "https://localhost:8080/"
        },
        "id": "BYtakTFIeA8n",
        "outputId": "b7890c92-fe5b-4ad4-fbe4-969eb12d0b0d"
      },
      "execution_count": null,
      "outputs": [
        {
          "output_type": "execute_result",
          "data": {
            "text/plain": [
              "array([[10, 14, 18],\n",
              "       [11, 15, 19],\n",
              "       [12, 16, 20],\n",
              "       [13, 17, 21]])"
            ]
          },
          "metadata": {},
          "execution_count": 187
        }
      ]
    },
    {
      "cell_type": "code",
      "source": [
        "q3"
      ],
      "metadata": {
        "colab": {
          "base_uri": "https://localhost:8080/"
        },
        "id": "RrYxolQseKJX",
        "outputId": "7dcaa506-4df9-4314-88a5-937622985209"
      },
      "execution_count": null,
      "outputs": [
        {
          "output_type": "execute_result",
          "data": {
            "text/plain": [
              "array([[[ 1,  2],\n",
              "        [ 3,  4]],\n",
              "\n",
              "       [[ 5,  6],\n",
              "        [ 7,  8]],\n",
              "\n",
              "       [[ 9, 10],\n",
              "        [11, 12]]])"
            ]
          },
          "metadata": {},
          "execution_count": 188
        }
      ]
    },
    {
      "cell_type": "code",
      "source": [
        "q3.T"
      ],
      "metadata": {
        "colab": {
          "base_uri": "https://localhost:8080/"
        },
        "id": "T8FJq2_oeNcg",
        "outputId": "f78f4ad6-7fc2-4467-9ffe-d1512d42b272"
      },
      "execution_count": null,
      "outputs": [
        {
          "output_type": "execute_result",
          "data": {
            "text/plain": [
              "array([[[ 1,  5,  9],\n",
              "        [ 3,  7, 11]],\n",
              "\n",
              "       [[ 2,  6, 10],\n",
              "        [ 4,  8, 12]]])"
            ]
          },
          "metadata": {},
          "execution_count": 189
        }
      ]
    },
    {
      "cell_type": "markdown",
      "source": [
        "## Ravel\n",
        "Converting any dimensions to 1D"
      ],
      "metadata": {
        "id": "ArEjzn-7efBN"
      }
    },
    {
      "cell_type": "code",
      "source": [
        "q2"
      ],
      "metadata": {
        "colab": {
          "base_uri": "https://localhost:8080/"
        },
        "id": "yOSQg88NfIvP",
        "outputId": "f51abc1a-fc7b-4ab3-c159-73f0c7986785"
      },
      "execution_count": null,
      "outputs": [
        {
          "output_type": "execute_result",
          "data": {
            "text/plain": [
              "array([[10, 11, 12, 13],\n",
              "       [14, 15, 16, 17],\n",
              "       [18, 19, 20, 21]])"
            ]
          },
          "metadata": {},
          "execution_count": 197
        }
      ]
    },
    {
      "cell_type": "code",
      "source": [
        "np.ravel(q2)"
      ],
      "metadata": {
        "colab": {
          "base_uri": "https://localhost:8080/"
        },
        "id": "Bdkx-38-fKKV",
        "outputId": "89700f6c-e494-4f4e-f2ac-e9fc1585e620"
      },
      "execution_count": null,
      "outputs": [
        {
          "output_type": "execute_result",
          "data": {
            "text/plain": [
              "array([10, 11, 12, 13, 14, 15, 16, 17, 18, 19, 20, 21])"
            ]
          },
          "metadata": {},
          "execution_count": 198
        }
      ]
    },
    {
      "cell_type": "code",
      "source": [
        "q3"
      ],
      "metadata": {
        "colab": {
          "base_uri": "https://localhost:8080/"
        },
        "id": "aDyIwXv2eOeA",
        "outputId": "4ca482a4-6cb5-4578-9e18-9a5a44077a19"
      },
      "execution_count": null,
      "outputs": [
        {
          "output_type": "execute_result",
          "data": {
            "text/plain": [
              "array([[[ 1,  2],\n",
              "        [ 3,  4]],\n",
              "\n",
              "       [[ 5,  6],\n",
              "        [ 7,  8]],\n",
              "\n",
              "       [[ 9, 10],\n",
              "        [11, 12]]])"
            ]
          },
          "metadata": {},
          "execution_count": 190
        }
      ]
    },
    {
      "cell_type": "code",
      "source": [
        "np.ravel(q3)"
      ],
      "metadata": {
        "colab": {
          "base_uri": "https://localhost:8080/"
        },
        "id": "MaiN34W8eiKm",
        "outputId": "ca8fe7ac-39eb-4cda-92f8-4de88d01819f"
      },
      "execution_count": null,
      "outputs": [
        {
          "output_type": "execute_result",
          "data": {
            "text/plain": [
              "array([ 1,  2,  3,  4,  5,  6,  7,  8,  9, 10, 11, 12])"
            ]
          },
          "metadata": {},
          "execution_count": 193
        }
      ]
    },
    {
      "cell_type": "code",
      "source": [
        "q3.ravel() # for functions in the numpy we can also directly use ()"
      ],
      "metadata": {
        "colab": {
          "base_uri": "https://localhost:8080/"
        },
        "id": "sOiTgu-gekTn",
        "outputId": "9fc9fe7f-a3fb-427a-de9d-12df373233cd"
      },
      "execution_count": null,
      "outputs": [
        {
          "output_type": "execute_result",
          "data": {
            "text/plain": [
              "array([ 1,  2,  3,  4,  5,  6,  7,  8,  9, 10, 11, 12])"
            ]
          },
          "metadata": {},
          "execution_count": 194
        }
      ]
    },
    {
      "cell_type": "code",
      "source": [
        "qq.mean()"
      ],
      "metadata": {
        "colab": {
          "base_uri": "https://localhost:8080/"
        },
        "id": "9dkrkb9oeuzQ",
        "outputId": "8025661d-3a84-421b-e878-26a06133fb9f"
      },
      "execution_count": null,
      "outputs": [
        {
          "output_type": "execute_result",
          "data": {
            "text/plain": [
              "17.833333333333332"
            ]
          },
          "metadata": {},
          "execution_count": 196
        }
      ]
    },
    {
      "cell_type": "markdown",
      "source": [
        "## Stacking"
      ],
      "metadata": {
        "id": "_6UaSSAzfQIc"
      }
    },
    {
      "cell_type": "code",
      "source": [
        "# Horizontal stacking\n",
        "z1 = np.arange(12).reshape(3,4)\n",
        "z2 = np.arange(12,24).reshape(3,4)\n",
        "z1"
      ],
      "metadata": {
        "colab": {
          "base_uri": "https://localhost:8080/"
        },
        "id": "MznkbIUqey34",
        "outputId": "962dfee1-0450-4249-c726-e41b1897b0fb"
      },
      "execution_count": null,
      "outputs": [
        {
          "output_type": "execute_result",
          "data": {
            "text/plain": [
              "array([[ 0,  1,  2,  3],\n",
              "       [ 4,  5,  6,  7],\n",
              "       [ 8,  9, 10, 11]])"
            ]
          },
          "metadata": {},
          "execution_count": 202
        }
      ]
    },
    {
      "cell_type": "code",
      "source": [
        "z2"
      ],
      "metadata": {
        "colab": {
          "base_uri": "https://localhost:8080/"
        },
        "id": "uxAx-f5bfbXY",
        "outputId": "b116a9d4-a84e-4881-8eb0-de650640b864"
      },
      "execution_count": null,
      "outputs": [
        {
          "output_type": "execute_result",
          "data": {
            "text/plain": [
              "array([[12, 13, 14, 15],\n",
              "       [16, 17, 18, 19],\n",
              "       [20, 21, 22, 23]])"
            ]
          },
          "metadata": {},
          "execution_count": 203
        }
      ]
    },
    {
      "cell_type": "markdown",
      "source": [
        "**hstack**"
      ],
      "metadata": {
        "id": "YLnW0ZzHfUE-"
      }
    },
    {
      "cell_type": "markdown",
      "source": [
        "for Horizantal stacking we use hstack"
      ],
      "metadata": {
        "id": "aSvlHE34fyIH"
      }
    },
    {
      "cell_type": "code",
      "source": [
        "np.hstack((z1,z2))  # for stacking all arrays must have a same shape"
      ],
      "metadata": {
        "colab": {
          "base_uri": "https://localhost:8080/"
        },
        "id": "IlqRQknqfohj",
        "outputId": "673e82eb-71cb-4d98-bc81-ceae97207338"
      },
      "execution_count": null,
      "outputs": [
        {
          "output_type": "execute_result",
          "data": {
            "text/plain": [
              "array([[ 0,  1,  2,  3, 12, 13, 14, 15],\n",
              "       [ 4,  5,  6,  7, 16, 17, 18, 19],\n",
              "       [ 8,  9, 10, 11, 20, 21, 22, 23]])"
            ]
          },
          "metadata": {},
          "execution_count": 205
        }
      ]
    },
    {
      "cell_type": "markdown",
      "source": [
        "**Vstack**"
      ],
      "metadata": {
        "id": "otU6SAPngVMN"
      }
    },
    {
      "cell_type": "markdown",
      "source": [
        "for verticle stack9ng we use vstack"
      ],
      "metadata": {
        "id": "anDwUmgqgbxV"
      }
    },
    {
      "cell_type": "code",
      "source": [
        "z1"
      ],
      "metadata": {
        "colab": {
          "base_uri": "https://localhost:8080/"
        },
        "id": "gcScjZGsgqvp",
        "outputId": "c42c2c35-b096-443f-d9ca-98ce1505a67a"
      },
      "execution_count": null,
      "outputs": [
        {
          "output_type": "execute_result",
          "data": {
            "text/plain": [
              "array([[ 0,  1,  2,  3],\n",
              "       [ 4,  5,  6,  7],\n",
              "       [ 8,  9, 10, 11]])"
            ]
          },
          "metadata": {},
          "execution_count": 209
        }
      ]
    },
    {
      "cell_type": "code",
      "source": [
        "z2"
      ],
      "metadata": {
        "colab": {
          "base_uri": "https://localhost:8080/"
        },
        "id": "sobEQpOdgr76",
        "outputId": "c9407028-de0a-4bf5-93fa-24c9da387414"
      },
      "execution_count": null,
      "outputs": [
        {
          "output_type": "execute_result",
          "data": {
            "text/plain": [
              "array([[12, 13, 14, 15],\n",
              "       [16, 17, 18, 19],\n",
              "       [20, 21, 22, 23]])"
            ]
          },
          "metadata": {},
          "execution_count": 212
        }
      ]
    },
    {
      "cell_type": "code",
      "source": [
        "np.vstack((z1,z2))"
      ],
      "metadata": {
        "colab": {
          "base_uri": "https://localhost:8080/"
        },
        "id": "9OG8-olbf7ti",
        "outputId": "12d031cc-2c69-4470-b7b7-05f1ac543f67"
      },
      "execution_count": null,
      "outputs": [
        {
          "output_type": "execute_result",
          "data": {
            "text/plain": [
              "array([[ 0,  1,  2,  3],\n",
              "       [ 4,  5,  6,  7],\n",
              "       [ 8,  9, 10, 11],\n",
              "       [12, 13, 14, 15],\n",
              "       [16, 17, 18, 19],\n",
              "       [20, 21, 22, 23]])"
            ]
          },
          "metadata": {},
          "execution_count": 208
        }
      ]
    },
    {
      "cell_type": "markdown",
      "source": [
        "## splitting"
      ],
      "metadata": {
        "id": "9l0Q82RPhG3L"
      }
    },
    {
      "cell_type": "markdown",
      "source": [
        "its a reverse operation of stacking"
      ],
      "metadata": {
        "id": "vwcG3xcthgVu"
      }
    },
    {
      "cell_type": "code",
      "source": [
        "z1\n"
      ],
      "metadata": {
        "id": "k6qFTF58gke4",
        "colab": {
          "base_uri": "https://localhost:8080/"
        },
        "outputId": "6b6f6c41-ffa9-41d8-f142-06a4d015dfb2"
      },
      "execution_count": null,
      "outputs": [
        {
          "output_type": "execute_result",
          "data": {
            "text/plain": [
              "array([[ 0,  1,  2,  3],\n",
              "       [ 4,  5,  6,  7],\n",
              "       [ 8,  9, 10, 11]])"
            ]
          },
          "metadata": {},
          "execution_count": 213
        }
      ]
    },
    {
      "cell_type": "code",
      "source": [
        "np.hsplit(z1,4)"
      ],
      "metadata": {
        "id": "4vfAaeJKgyvd",
        "colab": {
          "base_uri": "https://localhost:8080/"
        },
        "outputId": "b2880309-0c7e-41ce-e179-1e505e55c15c"
      },
      "execution_count": null,
      "outputs": [
        {
          "output_type": "execute_result",
          "data": {
            "text/plain": [
              "[array([[0],\n",
              "        [4],\n",
              "        [8]]),\n",
              " array([[1],\n",
              "        [5],\n",
              "        [9]]),\n",
              " array([[ 2],\n",
              "        [ 6],\n",
              "        [10]]),\n",
              " array([[ 3],\n",
              "        [ 7],\n",
              "        [11]])]"
            ]
          },
          "metadata": {},
          "execution_count": 217
        }
      ]
    },
    {
      "cell_type": "code",
      "source": [
        "np.hsplit(z1,2)"
      ],
      "metadata": {
        "colab": {
          "base_uri": "https://localhost:8080/"
        },
        "id": "XtXcip2Ahyv0",
        "outputId": "2e748bcc-2fa5-458f-fbb1-24d8fafa656e"
      },
      "execution_count": null,
      "outputs": [
        {
          "output_type": "execute_result",
          "data": {
            "text/plain": [
              "[array([[0, 1],\n",
              "        [4, 5],\n",
              "        [8, 9]]),\n",
              " array([[ 2,  3],\n",
              "        [ 6,  7],\n",
              "        [10, 11]])]"
            ]
          },
          "metadata": {},
          "execution_count": 218
        }
      ]
    },
    {
      "cell_type": "code",
      "source": [
        "z2"
      ],
      "metadata": {
        "colab": {
          "base_uri": "https://localhost:8080/"
        },
        "id": "HAC1wrWQiVKo",
        "outputId": "b6e5c175-32c5-406f-ac8a-c2ee637a66fd"
      },
      "execution_count": null,
      "outputs": [
        {
          "output_type": "execute_result",
          "data": {
            "text/plain": [
              "array([[12, 13, 14, 15],\n",
              "       [16, 17, 18, 19],\n",
              "       [20, 21, 22, 23]])"
            ]
          },
          "metadata": {},
          "execution_count": 221
        }
      ]
    },
    {
      "cell_type": "code",
      "source": [
        "# verticle splitting\n",
        "np.vsplit(z2,3)"
      ],
      "metadata": {
        "colab": {
          "base_uri": "https://localhost:8080/"
        },
        "id": "UxrIt0e0iEOV",
        "outputId": "5adf1f52-5505-43d7-d6d1-65d2695cdfc9"
      },
      "execution_count": null,
      "outputs": [
        {
          "output_type": "execute_result",
          "data": {
            "text/plain": [
              "[array([[12, 13, 14, 15]]),\n",
              " array([[16, 17, 18, 19]]),\n",
              " array([[20, 21, 22, 23]])]"
            ]
          },
          "metadata": {},
          "execution_count": 222
        }
      ]
    },
    {
      "cell_type": "code",
      "source": [],
      "metadata": {
        "id": "LPh0NWj8iR4r"
      },
      "execution_count": null,
      "outputs": []
    }
  ]
}