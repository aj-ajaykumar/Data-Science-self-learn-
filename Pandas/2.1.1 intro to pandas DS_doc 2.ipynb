{
 "cells": [
  {
   "cell_type": "code",
   "execution_count": 3,
   "id": "bd6e2d20",
   "metadata": {},
   "outputs": [],
   "source": [
    "import numpy as np\n",
    "import pandas as pd"
   ]
  },
  {
   "cell_type": "markdown",
   "id": "a9578410",
   "metadata": {},
   "source": [
    "The fundamental behavior about data types, indexing, axis labeling, and alignment apply across all of the objects. To get started,"
   ]
  },
  {
   "cell_type": "markdown",
   "id": "5a711af1",
   "metadata": {},
   "source": [
    "**Fundamentally, data alignment is intrinsic. The link between labels and data will not be broken unless done so explicitly by you.**"
   ]
  },
  {
   "cell_type": "markdown",
   "id": "6d4ead47",
   "metadata": {},
   "source": [
    "# Series"
   ]
  },
  {
   "cell_type": "markdown",
   "id": "d1c99258",
   "metadata": {},
   "source": [
    "Series is a one-dimensional labeled array capable of holding any data type (integers, strings, floating point numbers, Python objects, etc.). The axis labels are collectively referred to as the index. The basic method to create a Series is to call"
   ]
  },
  {
   "cell_type": "code",
   "execution_count": 19,
   "id": "67bd2af4",
   "metadata": {},
   "outputs": [],
   "source": [
    "#   s = pd.Series(data,index = index)"
   ]
  },
  {
   "cell_type": "markdown",
   "id": "6d3b10d3",
   "metadata": {},
   "source": [
    "**Here, data can be many different things:**\n",
    "\n",
    "* -a Python dict\n",
    "\n",
    "* -an ndarray\n",
    "\n",
    "* -a scalar value (like 5)\n",
    "\n",
    "**The passed index is a list of axis labels. Thus, this separates into a few cases depending on what data is:**"
   ]
  },
  {
   "cell_type": "markdown",
   "id": "0e2f02b1",
   "metadata": {},
   "source": [
    "### From ndarray\n",
    "\n",
    "If data is an ndarray, index must be the same length as data. If no index is passed, one will be created having values [0, ..., len(data) - 1]."
   ]
  },
  {
   "cell_type": "code",
   "execution_count": 20,
   "id": "7aad89b7",
   "metadata": {},
   "outputs": [
    {
     "data": {
      "text/plain": [
       "a    1.891194\n",
       "b   -0.780630\n",
       "c    0.748899\n",
       "d    0.666021\n",
       "e   -0.144603\n",
       "dtype: float64"
      ]
     },
     "execution_count": 20,
     "metadata": {},
     "output_type": "execute_result"
    }
   ],
   "source": [
    "s = pd.Series(np.random.randn(5),index = list('abcde')) # or index = ['a','b'------- soon]\n",
    "s\n",
    "# series S is capital"
   ]
  },
  {
   "cell_type": "code",
   "execution_count": 21,
   "id": "869bd801",
   "metadata": {},
   "outputs": [
    {
     "data": {
      "text/plain": [
       "Index(['a', 'b', 'c', 'd', 'e'], dtype='object')"
      ]
     },
     "execution_count": 21,
     "metadata": {},
     "output_type": "execute_result"
    }
   ],
   "source": [
    "s.index"
   ]
  },
  {
   "cell_type": "code",
   "execution_count": 22,
   "id": "36fa29b4",
   "metadata": {},
   "outputs": [
    {
     "data": {
      "text/plain": [
       "a    1.891194\n",
       "b   -0.780630\n",
       "c    0.748899\n",
       "d    0.666021\n",
       "e   -0.144603\n",
       "dtype: float64"
      ]
     },
     "execution_count": 22,
     "metadata": {},
     "output_type": "execute_result"
    }
   ],
   "source": [
    "s"
   ]
  },
  {
   "cell_type": "code",
   "execution_count": 23,
   "id": "38ff6206",
   "metadata": {},
   "outputs": [
    {
     "data": {
      "text/plain": [
       "0   -1.254809\n",
       "1   -1.887242\n",
       "2   -1.387016\n",
       "3   -0.654258\n",
       "4    0.461110\n",
       "dtype: float64"
      ]
     },
     "execution_count": 23,
     "metadata": {},
     "output_type": "execute_result"
    }
   ],
   "source": [
    "# deafult index 1,2,3,4.....soon\n",
    "pd.Series(np.random.randn(5))"
   ]
  },
  {
   "cell_type": "markdown",
   "id": "da97d374",
   "metadata": {},
   "source": [
    "**NOTE: pandas supports non-unique index values. If an operation that does not support duplicate index values is attempted, an exception will be raised at that time.**"
   ]
  },
  {
   "cell_type": "markdown",
   "id": "9bd93a21",
   "metadata": {},
   "source": [
    "**From dict**\n",
    "\n",
    "Series can be instantiated from dicts:"
   ]
  },
  {
   "cell_type": "code",
   "execution_count": 24,
   "id": "cd1db593",
   "metadata": {},
   "outputs": [
    {
     "data": {
      "text/plain": [
       "b    1\n",
       "a    0\n",
       "c    2\n",
       "dtype: int64"
      ]
     },
     "execution_count": 24,
     "metadata": {},
     "output_type": "execute_result"
    }
   ],
   "source": [
    "d = {\"b\": 1, \"a\": 0, \"c\": 2}\n",
    "\n",
    "pd.Series(d)\n"
   ]
  },
  {
   "cell_type": "markdown",
   "id": "33d63631",
   "metadata": {},
   "source": [
    "**If an index is passed, the values in data corresponding to the labels in the index will be pulled out.**\n",
    "\n"
   ]
  },
  {
   "cell_type": "code",
   "execution_count": 25,
   "id": "77380495",
   "metadata": {},
   "outputs": [
    {
     "data": {
      "text/plain": [
       "d    NaN\n",
       "c    2.0\n",
       "b    1.0\n",
       "a    0.0\n",
       "dtype: float64"
      ]
     },
     "execution_count": 25,
     "metadata": {},
     "output_type": "execute_result"
    }
   ],
   "source": [
    "pd.Series(d,index = list('dcba'))"
   ]
  },
  {
   "cell_type": "markdown",
   "id": "ec0e14a3",
   "metadata": {},
   "source": [
    "**From scalar value**\n",
    "\n",
    "If data is a scalar value, an index must be provided. The value will be repeated to match the length of index."
   ]
  },
  {
   "cell_type": "code",
   "execution_count": 26,
   "id": "c2dcf09a",
   "metadata": {},
   "outputs": [
    {
     "data": {
      "text/plain": [
       "a    5.0\n",
       "b    5.0\n",
       "c    5.0\n",
       "d    5.0\n",
       "e    5.0\n",
       "dtype: float64"
      ]
     },
     "execution_count": 26,
     "metadata": {},
     "output_type": "execute_result"
    }
   ],
   "source": [
    "k = pd.Series(5.0,index=[\"a\",\"b\",\"c\",\"d\",\"e\"])\n",
    "k"
   ]
  },
  {
   "cell_type": "code",
   "execution_count": 27,
   "id": "6915a988",
   "metadata": {},
   "outputs": [
    {
     "data": {
      "text/plain": [
       "5.0"
      ]
     },
     "execution_count": 27,
     "metadata": {},
     "output_type": "execute_result"
    }
   ],
   "source": [
    "k[\"b\"]\n"
   ]
  },
  {
   "cell_type": "markdown",
   "id": "c3a1cb88",
   "metadata": {},
   "source": [
    "### Series is ndarray-like\n",
    "\n",
    "Series acts very similarly to a ndarray and is a valid argument to most NumPy functions. However, operations such as slicing will also slice the index.\n",
    "\n",
    "s.iloc[0]"
   ]
  },
  {
   "cell_type": "code",
   "execution_count": 30,
   "id": "118c68af",
   "metadata": {},
   "outputs": [
    {
     "data": {
      "text/plain": [
       "a    1.891194\n",
       "b   -0.780630\n",
       "c    0.748899\n",
       "d    0.666021\n",
       "e   -0.144603\n",
       "dtype: float64"
      ]
     },
     "execution_count": 30,
     "metadata": {},
     "output_type": "execute_result"
    }
   ],
   "source": [
    "s"
   ]
  },
  {
   "cell_type": "code",
   "execution_count": 29,
   "id": "1a50a4d6",
   "metadata": {},
   "outputs": [
    {
     "data": {
      "text/plain": [
       "1.891194109872641"
      ]
     },
     "execution_count": 29,
     "metadata": {},
     "output_type": "execute_result"
    }
   ],
   "source": [
    "s.iloc[0]"
   ]
  },
  {
   "cell_type": "code",
   "execution_count": 31,
   "id": "d9986abc",
   "metadata": {},
   "outputs": [
    {
     "data": {
      "text/plain": [
       "c    0.748899\n",
       "d    0.666021\n",
       "e   -0.144603\n",
       "dtype: float64"
      ]
     },
     "execution_count": 31,
     "metadata": {},
     "output_type": "execute_result"
    }
   ],
   "source": [
    "s.iloc[2:5]"
   ]
  },
  {
   "cell_type": "code",
   "execution_count": 32,
   "id": "a0ee89fd",
   "metadata": {},
   "outputs": [
    {
     "data": {
      "text/plain": [
       "a    1.891194\n",
       "c    0.748899\n",
       "e   -0.144603\n",
       "dtype: float64"
      ]
     },
     "execution_count": 32,
     "metadata": {},
     "output_type": "execute_result"
    }
   ],
   "source": [
    "s.iloc[0:5:2]"
   ]
  },
  {
   "cell_type": "code",
   "execution_count": 33,
   "id": "b85c4c71",
   "metadata": {},
   "outputs": [
    {
     "data": {
      "text/plain": [
       "a    1.891194\n",
       "b   -0.780630\n",
       "c    0.748899\n",
       "dtype: float64"
      ]
     },
     "execution_count": 33,
     "metadata": {},
     "output_type": "execute_result"
    }
   ],
   "source": [
    "s.iloc[:3]"
   ]
  },
  {
   "cell_type": "code",
   "execution_count": 35,
   "id": "895b2224",
   "metadata": {},
   "outputs": [
    {
     "data": {
      "text/plain": [
       "e   -0.144603\n",
       "d    0.666021\n",
       "b   -0.780630\n",
       "dtype: float64"
      ]
     },
     "execution_count": 35,
     "metadata": {},
     "output_type": "execute_result"
    }
   ],
   "source": [
    "s.iloc[[4,3,1]]"
   ]
  },
  {
   "cell_type": "code",
   "execution_count": 36,
   "id": "fb00e967",
   "metadata": {},
   "outputs": [
    {
     "data": {
      "text/plain": [
       "a    6.627278\n",
       "b    0.458117\n",
       "c    2.114670\n",
       "d    1.946477\n",
       "e    0.865365\n",
       "dtype: float64"
      ]
     },
     "execution_count": 36,
     "metadata": {},
     "output_type": "execute_result"
    }
   ],
   "source": [
    "#imp\n",
    "np.exp(s)"
   ]
  },
  {
   "cell_type": "markdown",
   "id": "8c44a71d",
   "metadata": {},
   "source": [
    "Like a NumPy array, a pandas Series has a single dtype."
   ]
  },
  {
   "cell_type": "code",
   "execution_count": 37,
   "id": "6d270b0a",
   "metadata": {},
   "outputs": [
    {
     "data": {
      "text/plain": [
       "dtype('float64')"
      ]
     },
     "execution_count": 37,
     "metadata": {},
     "output_type": "execute_result"
    }
   ],
   "source": [
    "s.dtype"
   ]
  },
  {
   "cell_type": "markdown",
   "id": "3816c812",
   "metadata": {},
   "source": [
    "This is often a NumPy dtype. However, pandas and 3rd-party libraries extend NumPy’s type system in a few places\n",
    "\n",
    "If you need the actual array backing a Series, use Series.array."
   ]
  },
  {
   "cell_type": "code",
   "execution_count": 38,
   "id": "b40e83d5",
   "metadata": {},
   "outputs": [
    {
     "data": {
      "text/plain": [
       "<PandasArray>\n",
       "[   1.891194109872641,  -0.7806303018789523,   0.7488989535673142,\n",
       "   0.6660209279137403, -0.14460333781892212]\n",
       "Length: 5, dtype: float64"
      ]
     },
     "execution_count": 38,
     "metadata": {},
     "output_type": "execute_result"
    }
   ],
   "source": [
    "s.array"
   ]
  },
  {
   "cell_type": "code",
   "execution_count": null,
   "id": "01625d99",
   "metadata": {},
   "outputs": [],
   "source": []
  }
 ],
 "metadata": {
  "kernelspec": {
   "display_name": "Python 3 (ipykernel)",
   "language": "python",
   "name": "python3"
  },
  "language_info": {
   "codemirror_mode": {
    "name": "ipython",
    "version": 3
   },
   "file_extension": ".py",
   "mimetype": "text/x-python",
   "name": "python",
   "nbconvert_exporter": "python",
   "pygments_lexer": "ipython3",
   "version": "3.7.9"
  }
 },
 "nbformat": 4,
 "nbformat_minor": 5
}
