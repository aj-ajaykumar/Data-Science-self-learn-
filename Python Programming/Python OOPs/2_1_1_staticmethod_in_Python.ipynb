{
  "nbformat": 4,
  "nbformat_minor": 0,
  "metadata": {
    "colab": {
      "provenance": []
    },
    "kernelspec": {
      "name": "python3",
      "display_name": "Python 3"
    },
    "language_info": {
      "name": "python"
    }
  },
  "cells": [
    {
      "cell_type": "code",
      "execution_count": null,
      "metadata": {
        "id": "XkkFrBFB9yNT"
      },
      "outputs": [],
      "source": []
    },
    {
      "cell_type": "markdown",
      "source": [
        "## **Python @staticmethod**\n",
        "\n",
        "There can be some functionality that relates to the class, but does not require any instance(s) to do some work, static methods can be used in such cases. A static method is a method which is bound to the class and not the object of the class. It can’t access or modify class state. It is present in a class because it makes sense for the method to be present in class. A static method does not receive an implicit first argument."
      ],
      "metadata": {
        "id": "hMQOLDeE-7ij"
      }
    },
    {
      "cell_type": "code",
      "source": [],
      "metadata": {
        "id": "JzuMZMMe_AZK"
      },
      "execution_count": null,
      "outputs": []
    },
    {
      "cell_type": "markdown",
      "source": [
        "When function decorated with @staticmethod is called, we don’t pass an instance of the class to it as it is normally done with methods. It means that the function is put inside the class but it cannot access the instance of that class."
      ],
      "metadata": {
        "id": "Fl0y0BYD_Tjn"
      }
    },
    {
      "cell_type": "markdown",
      "source": [
        ">**Problem Statement**\n",
        "\n",
        "\n",
        "Let us assume that in our online shopping app, we want to provide a limited 50% flat off on all mobile phones.\n",
        "\n",
        "\n",
        "\n",
        "How can we write our code so that all mobile objects get a 50% off? One solution is to create a discount attribute and hard code the value as 50% as shown below:"
      ],
      "metadata": {
        "id": "y3Bn-zxe_dcI"
      }
    },
    {
      "cell_type": "code",
      "source": [
        "class Mobile:\n",
        "  def __init__(self,brand,price):\n",
        "    self.brand = brand\n",
        "    self.price = price\n",
        "    self.discount = 50\n",
        "\n",
        "  def purchase(self):\n",
        "    total_price = self.price - self.price * self.discount/100\n",
        "    print(\"Mobile with price\",self.price,\"is available after discount at\",total_price)\n",
        "\n",
        "mob1=Mobile( \"Apple\",20000)\n",
        "mob2=Mobile( \"Apple\",30000)\n",
        "mob3=Mobile( \"Samsung\",5000)\n",
        "\n",
        "mob1.purchase()\n",
        "mob2.purchase()\n"
      ],
      "metadata": {
        "id": "ml-kCV6B_UCb",
        "colab": {
          "base_uri": "https://localhost:8080/"
        },
        "outputId": "91a7a4a8-45af-45a8-9bf7-5028ba515b11"
      },
      "execution_count": null,
      "outputs": [
        {
          "output_type": "stream",
          "name": "stdout",
          "text": [
            "Mobile with price 20000 is available after discount at 10000.0\n",
            "Mobile with price 30000 is available after discount at 15000.0\n"
          ]
        }
      ]
    },
    {
      "cell_type": "markdown",
      "source": [
        "However, the solution of hardcoding the value in the attribute is not a good one. For example, since this is a limited time discount we should be able to programmatically enable and disable the discount using functions like this:"
      ],
      "metadata": {
        "id": "GQ4RszEiCMMz"
      }
    },
    {
      "cell_type": "code",
      "source": [
        "class Mobile:\n",
        "  def __init__(self,brand,price):\n",
        "    self.brand = brand\n",
        "    self.price = price\n",
        "    self.discount = 0\n",
        "\n",
        "  def purchase(self):\n",
        "    total_price = self.price - self.price * self.discount/100\n",
        "    print(\"Mobile with price\",self.price,\"is available after discount at\",total_price)\n",
        "\n",
        "\n",
        "# out side of class\n",
        "def enable_discount():\n",
        "    for mobiles in list_of_mobiles:\n",
        "      mobiles.discount = 50\n",
        "\n",
        "def disable_discount():\n",
        "    for mobiles in list_of_mobiles:\n",
        "      mobiles.discount = 0\n",
        "\n",
        "mob1=Mobile(\"Apple\",20000)\n",
        "mob2=Mobile( \"Apple\",30000)\n",
        "mob3=Mobile( \"Samsung\",5000)\n",
        "mob4=Mobile(\"Samsung\",6000)\n",
        "\n",
        "list_of_mobiles = [mob1,mob2,mob3,mob4]\n",
        "\n",
        "mob1.purchase()\n",
        "enable_discount(list_of_mobiles)\n",
        "mob2.purchase()\n",
        "mob3.purchase()\n",
        "print(\"after disable discount...closed\")\n",
        "disable_discount(list_of_mobiles)\n",
        "mob4.purchase()\n"
      ],
      "metadata": {
        "colab": {
          "base_uri": "https://localhost:8080/"
        },
        "id": "Y7d6ClesBPEm",
        "outputId": "2069ca08-ab80-4a45-ebf5-80186cf873ee"
      },
      "execution_count": null,
      "outputs": [
        {
          "output_type": "stream",
          "name": "stdout",
          "text": [
            "Mobile with price 20000 is available after discount at 20000.0\n",
            "Mobile with price 30000 is available after discount at 15000.0\n",
            "Mobile with price 5000 is available after discount at 2500.0\n",
            "after disable discount...closed\n",
            "Mobile with price 6000 is available after discount at 6000.0\n"
          ]
        }
      ]
    },
    {
      "cell_type": "markdown",
      "source": [
        "However, in our current approach, each object has discount as an attribute. If we change the value for one object, it does not affect the other object. If we have to change, we have to change for all the objects, one by one."
      ],
      "metadata": {
        "id": "qekGvhT5F5m5"
      }
    },
    {
      "cell_type": "markdown",
      "source": [
        "What we need is a way to make an attribute shared across objects. The data is shared by all objects, not owned by each object. Thus, by making a single change, it should reflect in all objects at one go."
      ],
      "metadata": {
        "id": "MCR1q3QlGGsi"
      }
    },
    {
      "cell_type": "markdown",
      "source": [
        "here were static comes into picture"
      ],
      "metadata": {
        "id": "8y6JhMX3GdyL"
      }
    },
    {
      "cell_type": "markdown",
      "source": [
        "![image.png](data:image/png;base64,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)"
      ],
      "metadata": {
        "id": "eEEXX6K9GMVJ"
      }
    },
    {
      "cell_type": "markdown",
      "source": [
        "We can create shared attributes by placing them directly inside the class and not inside the constructor. And since this attribute is not owned by any one object, we don’t need the self to create this attribute. Such variables which are created at a class level are called static variables. Here discount is a static value."
      ],
      "metadata": {
        "id": "rlCuimSIGnc1"
      }
    },
    {
      "cell_type": "code",
      "source": [
        "class Mobile:\n",
        "  discount = 50\n",
        "  def __init__(self,brand,price):\n",
        "    self.brand = brand\n",
        "    self.price = price"
      ],
      "metadata": {
        "id": "8V-XV-SpEoZj"
      },
      "execution_count": null,
      "outputs": []
    },
    {
      "cell_type": "markdown",
      "source": [
        ">**Problem Statement**\n",
        "\n",
        "\n",
        "Now that we have created static variables, we can access them using the Class name itself. Static variable belong to the class and not an object. Hence we don’t need self to access static variables.\n",
        "\n"
      ],
      "metadata": {
        "id": "dFQPrwY1HCvR"
      }
    },
    {
      "cell_type": "code",
      "source": [
        "class Mobile:\n",
        "    discount = 50\n",
        "    def __init__(self, price, brand):\n",
        "        self.price = price\n",
        "        self.brand = brand\n",
        "\n",
        "    def purchase(self):\n",
        "        total = self.price - self.price * Mobile.discount / 100\n",
        "        print (self.brand, \"mobile with price\", self.price, \"is available after discount at\", total)\n",
        "\n",
        "mob1=Mobile(20000, \"Apple\")\n",
        "mob2=Mobile(30000, \"Apple\")\n",
        "mob3=Mobile(5000, \"Samsung\")\n",
        "\n",
        "mob1.purchase()\n",
        "mob2.purchase()\n",
        "mob3.purchase()\n"
      ],
      "metadata": {
        "colab": {
          "base_uri": "https://localhost:8080/"
        },
        "id": "txEhbSiWG_sr",
        "outputId": "1e5ca724-9e99-460e-9979-353391df4d43"
      },
      "execution_count": null,
      "outputs": [
        {
          "output_type": "stream",
          "name": "stdout",
          "text": [
            "Apple mobile with price 20000 is available after discount at 10000.0\n",
            "Apple mobile with price 30000 is available after discount at 15000.0\n",
            "Samsung mobile with price 5000 is available after discount at 2500.0\n"
          ]
        }
      ]
    },
    {
      "cell_type": "markdown",
      "source": [
        ">**note:**  we can update the static values using class name"
      ],
      "metadata": {
        "id": "sT13WlfxHTxw"
      }
    },
    {
      "cell_type": "code",
      "source": [
        "class Mobile:\n",
        "    discount = 0\n",
        "    def __init__(self, price, brand):\n",
        "        self.price = price\n",
        "        self.brand = brand\n",
        "\n",
        "    def purchase(self):\n",
        "        total = self.price - self.price * Mobile.discount / 100\n",
        "        print (self.brand, \"mobile with price\", self.price, \"is available after discount at\", total)\n",
        "\n",
        "\n",
        "def enable_discount():\n",
        "  Mobile.discount=50\n",
        "\n",
        "def disable_discount():\n",
        "  Mobile.discount=0\n",
        "\n",
        "\n",
        "\n",
        "mob1=Mobile(20000, \"Apple\")\n",
        "mob2=Mobile(30000, \"Apple\")\n",
        "mob3=Mobile(5000, \"Samsung\")\n",
        "\n",
        "mob1.purchase()\n",
        "print(\"enabling....discount..\")\n",
        "enable_discount()\n",
        "mob2.purchase()\n",
        "mob1.purchase()\n",
        "print(\"disableing....discount..\")\n",
        "mob3.purchase()"
      ],
      "metadata": {
        "colab": {
          "base_uri": "https://localhost:8080/"
        },
        "id": "QPDuXCgcHLHI",
        "outputId": "0bc7a930-8396-4470-8c4e-eac90221b818"
      },
      "execution_count": null,
      "outputs": [
        {
          "output_type": "stream",
          "name": "stdout",
          "text": [
            "Apple mobile with price 20000 is available after discount at 20000.0\n",
            "enabling....discount..\n",
            "Apple mobile with price 30000 is available after discount at 15000.0\n",
            "Apple mobile with price 20000 is available after discount at 10000.0\n",
            "disableing....discount..\n",
            "Samsung mobile with price 5000 is available after discount at 2500.0\n"
          ]
        }
      ]
    },
    {
      "cell_type": "markdown",
      "source": [
        ">**static vs Reference variable**\n",
        "\n",
        "Static variables belong to the class and hence it is incorrect to access them or update them using the reference variable or self. Doing so may cause unexpected consequences in the code and should be refrained from. If you are interested to understand what happens when static variables are accessed through reference variables, read the appendix as additional learning."
      ],
      "metadata": {
        "id": "9Xc8H_XpIsZ_"
      }
    },
    {
      "cell_type": "markdown",
      "source": [
        ">**Problem Statement**\n",
        "\n",
        "\n",
        "We can make our static variable as a private variable by adding a double underscore in front of it. We can also create getter and setter methods to access or modify it."
      ],
      "metadata": {
        "id": "67H83DwZI73r"
      }
    },
    {
      "cell_type": "code",
      "source": [
        "class Mobile:\n",
        "    __discount = 0\n",
        "\n",
        "    def __init__(self, price, brand):\n",
        "        self.price = price\n",
        "        self.brand = brand\n",
        "    #getters& setters\n",
        "    @property\n",
        "    def discount(self):\n",
        "      return self.__discount\n",
        "    @discount.setter\n",
        "    def discount(self,discount):\n",
        "      self.__discount = discount\n",
        "\n",
        "    def purchase(self):\n",
        "        total = self.price - self.price * self.discount / 100\n",
        "        print (self.brand, \"mobile with price\", self.price, \"is available after discount at\", total)\n",
        "\n",
        "\n",
        "def enable_discount():\n",
        "  Mobile.discount = 50\n",
        "\n",
        "def disable_discount():\n",
        "  Mobile.discount=0\n",
        "\n",
        "\n",
        "\n",
        "mob1=Mobile(20000, \"Apple\")\n",
        "mob2=Mobile(30000, \"Apple\")\n",
        "mob3=Mobile(5000, \"Samsung\")\n",
        "\n",
        "mob1.purchase()\n",
        "print(\"enabling....discount..\")\n",
        "enable_discount()\n",
        "mob2.purchase()\n",
        "mob1.purchase()\n",
        "print(\"disableing....discount..\")\n",
        "mob3.purchase()"
      ],
      "metadata": {
        "colab": {
          "base_uri": "https://localhost:8080/"
        },
        "id": "M5ggmXZbIaMe",
        "outputId": "d7ca53bf-d7a4-419d-92e6-27750f2083ba"
      },
      "execution_count": null,
      "outputs": [
        {
          "output_type": "stream",
          "name": "stdout",
          "text": [
            "Apple mobile with price 20000 is available after discount at 20000.0\n",
            "enabling....discount..\n",
            "Apple mobile with price 30000 is available after discount at 15000.0\n",
            "Apple mobile with price 20000 is available after discount at 10000.0\n",
            "disableing....discount..\n",
            "Samsung mobile with price 5000 is available after discount at 2500.0\n"
          ]
        }
      ]
    },
    {
      "cell_type": "markdown",
      "source": [
        ">**need of statci Method**\n",
        "\n",
        "**Problem Statement**\n",
        "\n",
        "In the below code we are invoking the getter method using a reference variable. But the self is not used inside the method at all."
      ],
      "metadata": {
        "id": "geWGfLt_LHIz"
      }
    },
    {
      "cell_type": "code",
      "source": [
        "class Mobile:\n",
        "    __discount = 50\n",
        "    def __init__(self, price, brand):\n",
        "        self.price = price\n",
        "        self.brand = brand\n",
        "\n",
        "    def purchase(self):\n",
        "        total = self.price - self.price * Mobile.__discount / 100\n",
        "        print (\"Total is \",total)\n",
        "\n",
        "    def get_discount(self): # here we didn't use this self at all.\n",
        "        return Mobile.__discount\n",
        "\n",
        "    def set_discount(self,discount): # here we didn't use this self at all.\n",
        "        Mobile.__discount = discount\n",
        "\n",
        "mob1=Mobile(20000, \"Apple\")\n",
        "mob2=Mobile(30000, \"Apple\")\n",
        "mob3=Mobile(5000, \"Samsung\")\n",
        "\n",
        "print(mob1.get_discount())\n"
      ],
      "metadata": {
        "colab": {
          "base_uri": "https://localhost:8080/"
        },
        "id": "ovpEw9skKlAH",
        "outputId": "12e48d44-87c6-4966-e266-4c99d92bb235"
      },
      "execution_count": null,
      "outputs": [
        {
          "output_type": "stream",
          "name": "stdout",
          "text": [
            "50\n"
          ]
        }
      ]
    },
    {
      "cell_type": "markdown",
      "source": [
        ">**Static Method Intro**\n",
        "\n",
        "Since static variable is object independent, we need a way to access the getter setter methods without an object. This is possible by creating static methods. Static methods are those methods which can be accessed without an object. They are accessed using the class name.\n",
        "\n",
        "There are two rules in creating such static methods:\n",
        "* The methods should not have self\n",
        "* @staticmethod must be written on top of it"
      ],
      "metadata": {
        "id": "yK8oPaTGLtbV"
      }
    },
    {
      "cell_type": "code",
      "source": [
        "@staticmethod\n",
        "def get_discount():\n",
        "    return Mobile.__discount\n",
        "@staticmethod\n",
        "def set_discount(discount):\n",
        "    Mobile.__discount=discount\n"
      ],
      "metadata": {
        "id": "dW5hz1pELgau"
      },
      "execution_count": null,
      "outputs": []
    },
    {
      "cell_type": "markdown",
      "source": [
        ">**Accessing static Methods**"
      ],
      "metadata": {
        "id": "TlMp7lhVMYvE"
      }
    },
    {
      "cell_type": "code",
      "source": [
        "class Mobile:\n",
        "    __discount = 0\n",
        "\n",
        "    def __init__(self, price, brand):\n",
        "        self.price = price\n",
        "        self.brand = brand\n",
        "    #getters& setters\n",
        "    @property\n",
        "    def discount(self):\n",
        "      return self.__discount\n",
        "    @discount.setter\n",
        "    def discount(self,discount):\n",
        "      self.__discount = discount\n",
        "\n",
        "    # methods\n",
        "\n",
        "    @staticmethod\n",
        "    def enable_discount():\n",
        "      Mobile.discount = 50\n",
        "    @staticmethod\n",
        "    def disable_discount():\n",
        "      Mobile.discount=0\n",
        "\n",
        "    def purchase(self):\n",
        "        total = self.price - self.price * self.discount / 100\n",
        "        print (self.brand, \"mobile with price\", self.price, \"is available after discount at\", total)\n",
        "\n",
        "\n",
        "\n",
        "\n",
        "mob1=Mobile(20000, \"Apple\")\n",
        "mob2=Mobile(30000, \"Apple\")\n",
        "mob3=Mobile(5000, \"Samsung\")\n",
        "# access the ststics methods without even creating objects\n",
        "mob1.purchase()\n",
        "print(\"enabling....discount..\")\n",
        "\n",
        "Mobile.enable_discount() # access of static methods with class name\n",
        "mob2.purchase()\n",
        "mob1.purchase()\n",
        "Mobile.disable_discount() # access of static methods with class name\n",
        "print(\"disableing....discount..\")\n",
        "mob3.purchase()"
      ],
      "metadata": {
        "id": "JGLSyVDwMAVg",
        "colab": {
          "base_uri": "https://localhost:8080/"
        },
        "outputId": "4dcc1f01-456e-4bff-a613-2f979f544415"
      },
      "execution_count": null,
      "outputs": [
        {
          "output_type": "stream",
          "name": "stdout",
          "text": [
            "Apple mobile with price 20000 is available after discount at 20000.0\n",
            "enabling....discount..\n",
            "Apple mobile with price 30000 is available after discount at 15000.0\n",
            "Apple mobile with price 20000 is available after discount at 10000.0\n",
            "disableing....discount..\n",
            "Samsung mobile with price 5000 is available after discount at 5000.0\n"
          ]
        }
      ]
    },
    {
      "cell_type": "markdown",
      "source": [
        "we can acess the atatic method by using class name\n"
      ],
      "metadata": {
        "id": "TZrAeqWRyyxY"
      }
    },
    {
      "cell_type": "markdown",
      "source": [
        "Mega sale problem compleate solution"
      ],
      "metadata": {
        "id": "sOMQiR7jzWQ9"
      }
    },
    {
      "cell_type": "code",
      "source": [
        "class Mobile:\n",
        "    __discount = 0\n",
        "\n",
        "    def __init__(self, price, brand):\n",
        "        self.price = price\n",
        "        self.brand = brand\n",
        "    #getters& setters\n",
        "    @property\n",
        "    def discount(self):\n",
        "      return self.__discount\n",
        "    @discount.setter\n",
        "    def discount(self,discount):\n",
        "      self.__discount = discount\n",
        "\n",
        "    # methods\n",
        "\n",
        "    @staticmethod\n",
        "    def enable_discount():\n",
        "      Mobile.discount = 50\n",
        "    @staticmethod\n",
        "    def disable_discount():\n",
        "      Mobile.discount = 0\n",
        "\n",
        "    def purchase(self):\n",
        "        total = self.price - self.price * self.discount / 100\n",
        "        print (self.brand, \"mobile with price\", self.price, \"is available after discount at\", total)\n",
        "\n",
        "\n",
        "\n",
        "mob1=Mobile(20000, \"Apple\")\n",
        "mob2=Mobile(30000, \"Apple\")\n",
        "mob3=Mobile(5000, \"Samsung\")\n",
        "# access the ststics methods without even creating objects\n",
        "mob1.purchase()\n",
        "print(\"enabling....discount..\")\n",
        "\n",
        "Mobile.enable_discount() # access of static methods with class name\n",
        "mob2.purchase()\n",
        "mob1.purchase()\n",
        "Mobile.disable_discount() # access of static methods with class name\n",
        "print(\"disableing....discount..\")\n",
        "mob3.purchase()"
      ],
      "metadata": {
        "colab": {
          "base_uri": "https://localhost:8080/"
        },
        "id": "VH7Fiy1k1OcH",
        "outputId": "1a06e54f-5512-4101-cb6f-583de68e1a2c"
      },
      "execution_count": null,
      "outputs": [
        {
          "output_type": "stream",
          "name": "stdout",
          "text": [
            "Apple mobile with price 20000 is available after discount at 20000.0\n",
            "enabling....discount..\n",
            "Apple mobile with price 30000 is available after discount at 15000.0\n",
            "Apple mobile with price 20000 is available after discount at 10000.0\n",
            "disableing....discount..\n",
            "Samsung mobile with price 5000 is available after discount at 5000.0\n"
          ]
        }
      ]
    },
    {
      "cell_type": "markdown",
      "source": [
        ">**Static Counter**"
      ],
      "metadata": {
        "id": "NSkQD_kIxPb4"
      }
    },
    {
      "cell_type": "markdown",
      "source": [
        "**Problem Statement**\n",
        "\n",
        "Let us say we want to assign a unique number to each mobile object. The first object should be given a number 1000 and subsequent objects should have that value increased by 1. We can accomplish this by using a combination of static and instance variables as shown below:"
      ],
      "metadata": {
        "id": "CpCDJkhC68p2"
      }
    },
    {
      "cell_type": "code",
      "source": [
        "class Mobile:\n",
        "    counter = 1000\n",
        "    def __init__(self, price, brand):\n",
        "        self.price = price\n",
        "        self.brand = brand\n",
        "        self.mobile_id = Mobile.counter\n",
        "        Mobile.counter += 1\n",
        "\n",
        "mob1=Mobile(20000, \"Apple\")\n",
        "mob2=Mobile(30000, \"Apple\")\n",
        "mob3=Mobile(5000, \"Samsung\")\n",
        "\n",
        "print(\"mobile_id for mob1 is\", mob1.mobile_id)\n",
        "print(\"mobile_id for mob2 is\", mob2.mobile_id)\n",
        "print(\"mobile_id for mob3 is\", mob3.mobile_id)\n",
        "\n",
        "print(\"Current value of counter is\", Mobile.counter)\n"
      ],
      "metadata": {
        "colab": {
          "base_uri": "https://localhost:8080/"
        },
        "id": "d4-iIzDm6hIm",
        "outputId": "e285576e-faad-4bf2-a52c-758ad0963a64"
      },
      "execution_count": null,
      "outputs": [
        {
          "output_type": "stream",
          "name": "stdout",
          "text": [
            "mobile_id for mob1 is 1000\n",
            "mobile_id for mob2 is 1001\n",
            "mobile_id for mob3 is 1002\n",
            "Current value of counter is 1003\n"
          ]
        }
      ]
    },
    {
      "cell_type": "markdown",
      "source": [
        ">**Summary:**\n",
        "\n",
        "* Static attributes are created at class level.\n",
        "* Static attributes are accessed using ClassName.\n",
        "* Static attributes are object independent. We can access them without creating instance (object) of the class in which they are defined.\n",
        "* The value stored in static attribute is shared between all instances(objects) of the class in which the static attribute is defined."
      ],
      "metadata": {
        "id": "k830e-Cz9ZUK"
      }
    },
    {
      "cell_type": "code",
      "source": [],
      "metadata": {
        "id": "iZ6D6i8A6_AO"
      },
      "execution_count": null,
      "outputs": []
    }
  ]
}