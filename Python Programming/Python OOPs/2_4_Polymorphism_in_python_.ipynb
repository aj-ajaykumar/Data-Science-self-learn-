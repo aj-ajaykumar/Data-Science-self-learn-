{
  "nbformat": 4,
  "nbformat_minor": 0,
  "metadata": {
    "colab": {
      "provenance": []
    },
    "kernelspec": {
      "name": "python3",
      "display_name": "Python 3"
    },
    "language_info": {
      "name": "python"
    }
  },
  "cells": [
    {
      "cell_type": "markdown",
      "source": [
        "# **Polymorphism in Python**\n",
        "\n",
        "**What is Polymorphism:** The word polymorphism means having many forms. In programming, polymorphism means the same function name (but different signatures) being used for different types. The key difference is the data types and number of arguments used in function."
      ],
      "metadata": {
        "id": "T39DU4RN7AnZ"
      }
    },
    {
      "cell_type": "code",
      "execution_count": null,
      "metadata": {
        "id": "uWRlrfmyn-V4",
        "colab": {
          "base_uri": "https://localhost:8080/"
        },
        "outputId": "aa5d11ab-0c87-405d-ab7f-f357cacc1203"
      },
      "outputs": [
        {
          "output_type": "stream",
          "name": "stdout",
          "text": [
            "buying....smart phone.\n",
            "buying...feature Phone.\n",
            "returning...phone\n",
            "returning...phone\n"
          ]
        }
      ],
      "source": [
        "class mobile:\n",
        "  def buy(self):\n",
        "    print(\"buying....Mobile Phone..\")\n",
        "\n",
        "  def return_phone(self):\n",
        "    print(\"returning...phone\")\n",
        "\n",
        "class featurePhone(mobile):\n",
        "  # here we created buy method in paretn and we overriding that it is a one form of parent buy method\n",
        "  def buy(self):\n",
        "    print(\"buying...feature Phone.\")\n",
        "\n",
        "class smartPhone(mobile):\n",
        "  def buy(self): # same thing\n",
        "    print(\"buying....smart phone.\")\n",
        "\n",
        "smart = smartPhone()\n",
        "smart.buy()\n",
        "keypad = featurePhone()\n",
        "keypad.buy()\n",
        "\n",
        "smart.return_phone()\n",
        "keypad.return_phone()\n",
        "# here we created return_phone in parent class but wew are using this in both chil classes there are many forms of buy method\n"
      ]
    },
    {
      "cell_type": "markdown",
      "source": [
        "now discuss a simple example"
      ],
      "metadata": {
        "id": "6rG9qzxxRWwi"
      }
    },
    {
      "cell_type": "code",
      "source": [
        "a,b,c,d= 2,5,\"Ram\",\"Sitha\"\n",
        "\n",
        "print(a+b)\n",
        "print(c+d)"
      ],
      "metadata": {
        "id": "PWXVPKiB71Gm",
        "colab": {
          "base_uri": "https://localhost:8080/"
        },
        "outputId": "b9854c11-4587-43e5-9bb3-281c1dc95abf"
      },
      "execution_count": null,
      "outputs": [
        {
          "output_type": "stream",
          "name": "stdout",
          "text": [
            "7\n",
            "RamSitha\n"
          ]
        }
      ]
    },
    {
      "cell_type": "markdown",
      "source": [
        "in the above code we saw from the result the **+** works diffrent forms\n",
        "mean for intigers it wotks as addition operator and for string it works as concatination how it posibble\n",
        " because of pholymorphisam\n",
        "\n",
        "already there is a inbult function for that in python thet uses polymorphisam concept.\n",
        "\n",
        "this is the one of the exapmle\n",
        "\n",
        "\n",
        "there is some fuction in python sam like this for addong with add() function.. called DUNDER functions we will discuss it later.\n"
      ],
      "metadata": {
        "id": "tEN8kBTqRvY5"
      }
    },
    {
      "cell_type": "markdown",
      "source": [
        "## **Method overriding**\n",
        "\n",
        "Method overriding is an ability of any object-oriented programming language that allows a subclass or child class to provide a specific implementation of a method that is already provided by one of its super-classes or parent classes. When a method in a subclass has the same name, the same parameters or signature, and same return type(or sub-type) as a method in its super-class, then the method in the subclass is said to override the method in the super-class."
      ],
      "metadata": {
        "id": "PelfFCu7UAoB"
      }
    },
    {
      "cell_type": "markdown",
      "source": [
        ">**What is Method Overriding in Python?**\n",
        "\n",
        "\n",
        "Method overriding occurs in Python when a method in a subclass has the same name, parameters, and signature as a method in its parent class. By overriding a method, the subclass can provide a specific implementation of the method that is different from the one in its parent class."
      ],
      "metadata": {
        "id": "BtXiyqOmUNBg"
      }
    },
    {
      "cell_type": "markdown",
      "source": [
        "avbe example is one of the example of method overriding.."
      ],
      "metadata": {
        "id": "ynJByipkUabX"
      }
    },
    {
      "cell_type": "code",
      "source": [
        "class mobile:\n",
        "  def buy(self):# method Overriding....\n",
        "    print(\"buying....Mobile Phone..\")\n",
        "\n",
        "\n",
        "\n",
        "class featurePhone(mobile):\n",
        "\n",
        "  def buy(self): # method Overriding....\n",
        "    print(\"buying...feature Phone.\")\n",
        "\n",
        "\n",
        "class smartPhone(mobile):\n",
        "  def buy(self): # method Overriding....\n",
        "    print(\"buying....smart phone.\")\n",
        "\n",
        "\n",
        "\n",
        "smart = smartPhone()\n",
        "keypad = featurePhone()\n",
        "\n",
        "\n",
        "mobile().buy() # from parent\n",
        "\n",
        "smart.buy() # from child 1 (overriden method)\n",
        "keypad.buy() # from child 1 (overriden method)\n",
        "\n"
      ],
      "metadata": {
        "colab": {
          "base_uri": "https://localhost:8080/"
        },
        "id": "-yrsdPOfRuOW",
        "outputId": "9bbee1ae-542c-4316-e5f3-fa611e057536"
      },
      "execution_count": null,
      "outputs": [
        {
          "output_type": "stream",
          "name": "stdout",
          "text": [
            "buying....Mobile Phone..\n",
            "buying....smart phone.\n",
            "buying...feature Phone.\n"
          ]
        }
      ]
    },
    {
      "cell_type": "markdown",
      "source": [
        "## **Method Overloading in python**\n",
        "\n",
        ">**Method Overloading:**\n",
        "\n",
        "Two or more methods have the same name but different numbers of parameters or different types of parameters, or both. These methods are called overloaded methods and this is called method overloading.\n",
        "\n",
        "Like other languages (for example, method overloading in C++) do, python does not support method overloading by default. But there are different ways to achieve method overloading in Python.\n",
        "\n",
        "The problem with method overloading in Python is that we may overload the methods but can only use the latest defined method."
      ],
      "metadata": {
        "id": "j83fs0iFXVT3"
      }
    },
    {
      "cell_type": "code",
      "source": [
        "# First product method.\n",
        "# Takes two argument and print their\n",
        "# product\n",
        "\n",
        "\n",
        "def product(a, b):\n",
        "    p = a * b\n",
        "    print(p)\n",
        "\n",
        "# Second product method\n",
        "# Takes three argument and print their\n",
        "# product\n",
        "\n",
        "\n",
        "def product(a, b, c):\n",
        "    p = a * b*c\n",
        "    print(p)\n",
        "\n",
        "# Uncommenting the below line shows an error\n",
        "# product(4, 5)\n",
        "\n",
        "\n",
        "# This line will call the second product method\n",
        "product(4, 5, 5)"
      ],
      "metadata": {
        "colab": {
          "base_uri": "https://localhost:8080/"
        },
        "id": "rbnSKpqBVPql",
        "outputId": "b1b0f6d4-9534-42cc-bdb7-5e017d3b565b"
      },
      "execution_count": null,
      "outputs": [
        {
          "output_type": "stream",
          "name": "stdout",
          "text": [
            "100\n"
          ]
        }
      ]
    },
    {
      "cell_type": "code",
      "source": [
        "product(2,5)\n",
        "# it not works because mehod are overloaded with 3 perameters."
      ],
      "metadata": {
        "colab": {
          "base_uri": "https://localhost:8080/",
          "height": 141
        },
        "id": "4fxe0RKNXuin",
        "outputId": "a7999f9e-8a7e-4652-91bf-40635c49af43"
      },
      "execution_count": null,
      "outputs": [
        {
          "output_type": "error",
          "ename": "TypeError",
          "evalue": "product() missing 1 required positional argument: 'c'",
          "traceback": [
            "\u001b[0;31m---------------------------------------------------------------------------\u001b[0m",
            "\u001b[0;31mTypeError\u001b[0m                                 Traceback (most recent call last)",
            "\u001b[0;32m<ipython-input-7-69c564d32319>\u001b[0m in \u001b[0;36m<cell line: 1>\u001b[0;34m()\u001b[0m\n\u001b[0;32m----> 1\u001b[0;31m \u001b[0mproduct\u001b[0m\u001b[0;34m(\u001b[0m\u001b[0;36m2\u001b[0m\u001b[0;34m,\u001b[0m\u001b[0;36m5\u001b[0m\u001b[0;34m)\u001b[0m\u001b[0;34m\u001b[0m\u001b[0;34m\u001b[0m\u001b[0m\n\u001b[0m",
            "\u001b[0;31mTypeError\u001b[0m: product() missing 1 required positional argument: 'c'"
          ]
        }
      ]
    },
    {
      "cell_type": "markdown",
      "source": [
        "it not works because mehod are overloaded with 3 perameters.\n",
        "\n",
        "The problem with method overloading in Python we may overload the methods but can only use the latest defined method."
      ],
      "metadata": {
        "id": "hLaY4k31YBnc"
      }
    },
    {
      "cell_type": "markdown",
      "source": [
        "**Thus,** to overcome the above problem we can use different ways to achieve the method overloading.\n",
        "\n",
        ">**Method 1 (Not The Most Efficient Method):**\n",
        "\n",
        "We can use the arguments to make the same function work differently i.e. as per the arguments."
      ],
      "metadata": {
        "id": "D1bJN2gVYcYX"
      }
    },
    {
      "cell_type": "code",
      "source": [
        "def add(datatype,*args):\n",
        "  if datatype == int:\n",
        "    answer = 0\n",
        "\n",
        "  if datatype == str:\n",
        "    answer = ''\n",
        "\n",
        "  # Traverse through the arguments\n",
        "  for x in args:\n",
        "    answer = answer+x\n",
        "  print(answer)\n",
        "\n",
        "add(int,2,3)\n",
        "add(int,2,4,5,7)\n",
        "add(str,\"hi..\",\"i am\",\"ajay\")\n"
      ],
      "metadata": {
        "colab": {
          "base_uri": "https://localhost:8080/"
        },
        "id": "GFq0T71mXzI0",
        "outputId": "c2b9d065-4bf7-483d-bec3-f1a450b50428"
      },
      "execution_count": null,
      "outputs": [
        {
          "output_type": "stream",
          "name": "stdout",
          "text": [
            "5\n",
            "18\n",
            "hi..i amajay\n"
          ]
        }
      ]
    },
    {
      "cell_type": "markdown",
      "source": [
        ">**Method 2 (Not the efficient one):**\n",
        "\n",
        "We can achieve method overloading in python by user defined function using “None” keyword as default parameter."
      ],
      "metadata": {
        "id": "YU8ezYxebK3Z"
      }
    },
    {
      "cell_type": "code",
      "source": [
        "def add(a=None,b=None):\n",
        "  if a!= None and b == None:\n",
        "    print(a)\n",
        "  else:\n",
        "    print(a+b)\n",
        "\n",
        "add(2,3)\n",
        "add(7)"
      ],
      "metadata": {
        "colab": {
          "base_uri": "https://localhost:8080/"
        },
        "id": "PBHdb65aZ6Zy",
        "outputId": "6a917f07-362d-4d36-ce60-8305308cc5b9"
      },
      "execution_count": null,
      "outputs": [
        {
          "output_type": "stream",
          "name": "stdout",
          "text": [
            "5\n",
            "7\n"
          ]
        }
      ]
    },
    {
      "cell_type": "markdown",
      "source": [
        "The problem with above methods is that, it makes code more complex with multiple if/else statement and is not the desired way to achieve the method overloading."
      ],
      "metadata": {
        "id": "s0kvwy2CcSNT"
      }
    },
    {
      "cell_type": "markdown",
      "source": [
        ">**Method 3 (Efficient One):**\n",
        "\n",
        "By Using Multiple Dispatch Decorator\n",
        "\n",
        "Multiple Dispatch Decorator not in pyton defaulty you have to install it\n"
      ],
      "metadata": {
        "id": "Rv5d5Xa_cWj6"
      }
    },
    {
      "cell_type": "code",
      "source": [
        "!pip install multipledispatch"
      ],
      "metadata": {
        "id": "uV4jIgkBcHZn",
        "colab": {
          "base_uri": "https://localhost:8080/"
        },
        "outputId": "e79d7b98-6338-43db-f1c7-14ab147a5b1c"
      },
      "execution_count": null,
      "outputs": [
        {
          "output_type": "stream",
          "name": "stdout",
          "text": [
            "Requirement already satisfied: multipledispatch in /usr/local/lib/python3.10/dist-packages (1.0.0)\n"
          ]
        }
      ]
    },
    {
      "cell_type": "code",
      "source": [
        "from multipledispatch import dispatch\n",
        "\n",
        "@dispatch(int,int)\n",
        "def product(first,second):\n",
        "  result = first*second\n",
        "  print(result)\n",
        "\n",
        "@dispatch(int,int,int)\n",
        "def product(first,second,third):\n",
        "  result = first*second*third\n",
        "  print(result)\n",
        "\n",
        "@dispatch(float,float,float)\n",
        "def product(first,second,third):\n",
        "  result = first*second*third\n",
        "  print(result)\n",
        "\n",
        "\n",
        "\n",
        "\n",
        "# calling product method with 2 arguments\n",
        "product(2,5)\n",
        "\n",
        "# calling product method with 3 arguments but all int\n",
        "product(2,5,9)\n",
        "\n",
        "# calling product method with 3 arguments but all float\n",
        "product(2.2, 3.4, 2.3)"
      ],
      "metadata": {
        "colab": {
          "base_uri": "https://localhost:8080/"
        },
        "id": "sSfZ0KwOc7z0",
        "outputId": "bdbdafa1-27b7-4cab-d209-81d3aac1d734"
      },
      "execution_count": null,
      "outputs": [
        {
          "output_type": "stream",
          "name": "stdout",
          "text": [
            "10\n",
            "90\n",
            "17.204\n"
          ]
        }
      ]
    },
    {
      "cell_type": "code",
      "source": [],
      "metadata": {
        "id": "TtPnUBOieMg-"
      },
      "execution_count": null,
      "outputs": []
    },
    {
      "cell_type": "markdown",
      "source": [
        ">**some Questions:**\n",
        "\n",
        "**What is Overloading in Python?**\n",
        "\n",
        "In Python, overloading usually refers to the ability to define a method in multiple ways so that it can be called with different numbers of parameters or types. Python doesn’t support method overloading in the same way as languages like Java or C++, where you can define multiple methods with the same name but different parameters within the same class. However, Python does allow operator overloading, which means you can change the meaning of an operator depending on the operands used.\n"
      ],
      "metadata": {
        "id": "LsnLjLVSenom"
      }
    },
    {
      "cell_type": "markdown",
      "source": [
        "**What is Overriding and Overloading in Python?**\n",
        "\n",
        "* **Overriding** refers to the ability of a subclass to provide a specific implementation of a method that is already defined in its superclass. This is a common feature in object-oriented programming and is fully supported in Python. This allows a method to behave differently depending on the subclass that implements it.\n",
        "* **Overloading** in Python is not supported in the traditional sense where multiple methods can have the same name but different parameters. However, Python supports operator overloading and allows methods to handle arguments of different types, effectively overloading by type checking inside methods."
      ],
      "metadata": {
        "id": "fulFFVoSexEc"
      }
    },
    {
      "cell_type": "markdown",
      "source": [
        "**Does Python Allow Operator Overloading?**\n",
        "\n",
        "Yes, Python allows operator overloading. You can define your own behavior for built-in operators when they are applied to objects of classes you define. This is done by redefining special methods in your class, such as __add__ for +, __mul__ for *, etc.  these are called Dunder functons\n",
        "\n",
        "we will discuss about dunder functions later.."
      ],
      "metadata": {
        "id": "AON2JsAVfARQ"
      }
    },
    {
      "cell_type": "code",
      "source": [],
      "metadata": {
        "id": "uTk8fiCHetPP"
      },
      "execution_count": null,
      "outputs": []
    }
  ]
}