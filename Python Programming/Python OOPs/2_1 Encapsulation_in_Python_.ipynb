{
  "nbformat": 4,
  "nbformat_minor": 0,
  "metadata": {
    "colab": {
      "provenance": []
    },
    "kernelspec": {
      "name": "python3",
      "display_name": "Python 3"
    },
    "language_info": {
      "name": "python"
    }
  },
  "cells": [
    {
      "cell_type": "code",
      "execution_count": null,
      "metadata": {
        "id": "1IVqKeOeCvoi"
      },
      "outputs": [],
      "source": []
    },
    {
      "cell_type": "markdown",
      "source": [
        "## **Encapsulation**\n",
        "\n",
        "Encapsulation is one of the fundamental concepts in object-oriented programming (OOP). It describes the idea of wrapping data and the methods that work on data within one unit. This puts restrictions on accessing variables and methods directly and can prevent the accidental modification of data. To prevent accidental change, an object’s variable can only be changed by an object’s method. Those types of variables are known as private variables."
      ],
      "metadata": {
        "id": "W0FY0YEHFEnR"
      }
    },
    {
      "cell_type": "markdown",
      "source": [
        ">**Access modifiers**\n",
        "\n",
        "A Class in Python has three types of access modifiers:\n",
        "\n",
        "* **Public Access Modifier:** Theoretically, public methods and fields can be accessed directly by any class.\n",
        "* **Protected Access Modifier:** Theoretically, protected methods and fields can be accessed within the same class it is declared and its subclass.\n",
        "* P**rivate Access Modifier:** Theoretically, private methods and fields can be only accessed within the same class it is declared."
      ],
      "metadata": {
        "id": "zoYK3_VnIMLb"
      }
    },
    {
      "cell_type": "markdown",
      "source": [
        "We are mentioning “Theoretically” because python doesn’t follow the textbook definition of such specifications. Instead, it depends on the programmer/organization as well as a unique feature of python called as name mangling using which we can mimic the actual security provided by access modifiers."
      ],
      "metadata": {
        "id": "12g5X-SrJNuw"
      }
    },
    {
      "cell_type": "markdown",
      "source": [
        ">**Public Access Modifier:**\n",
        "\n",
        "The members of a class that are declared public are easily accessible from any part of the program. All data members and member functions of a class are public by default."
      ],
      "metadata": {
        "id": "clgWRAegJxJq"
      }
    },
    {
      "cell_type": "markdown",
      "source": [
        "**Problem Statement**\n",
        "\n",
        "Consider the below code where the customer has a wallet_balance and there are methods which allow us to access and update that balance based on some logic.\n",
        "Just the way a lock prevents others from accessing your property, we can restrict other parts of the code from directly accessing sensitive data."
      ],
      "metadata": {
        "id": "qMknJU_oFcoa"
      }
    },
    {
      "cell_type": "code",
      "source": [
        "class customer:\n",
        "  def __init__(self,cust_Id,name,age,wallet_Balnce):\n",
        "    self.cust_Id = cust_Id\n",
        "    self.name = name\n",
        "    self.age = age\n",
        "    self.wallet_Balnce = wallet_Balnce\n",
        "\n",
        "  def update_balnce(self,amount):\n",
        "    if amount<1000 and amount>0:\n",
        "      self.wallet_Balnce +=amount\n",
        "  def Show_balence(self):\n",
        "    print(\"balence of your wallet is \"+str(self.wallet_Balnce))\n",
        "\n",
        "\n",
        "# object creation\n",
        "cust1 = customer(1001,\"Ajay\",25,1200)\n",
        "\n",
        "# Method calling\n",
        "cust1.update_balnce(800)\n",
        "\n",
        "cust1.Show_balence()\n"
      ],
      "metadata": {
        "colab": {
          "base_uri": "https://localhost:8080/"
        },
        "id": "-wyThyxEFJG1",
        "outputId": "5399a17b-8b26-4737-af16-c15728316954"
      },
      "execution_count": null,
      "outputs": [
        {
          "output_type": "stream",
          "name": "stdout",
          "text": [
            "balence of your wallet is 2000\n"
          ]
        }
      ]
    },
    {
      "cell_type": "markdown",
      "source": [
        "But with the way currently it is coded, the data can be accidentally changed by directly assigning a incorrect value to it as shown below:"
      ],
      "metadata": {
        "id": "S5og62v8Hy29"
      }
    },
    {
      "cell_type": "code",
      "source": [
        "cust1.wallet_Balnce = 1000000000\n",
        "\n",
        "cust1.Show_balence() # here the data was changed easily"
      ],
      "metadata": {
        "colab": {
          "base_uri": "https://localhost:8080/"
        },
        "id": "Cvgw7JxEHlC5",
        "outputId": "9cafc07b-4e13-4ff8-c01d-dcbd42a0a3d6"
      },
      "execution_count": null,
      "outputs": [
        {
          "output_type": "stream",
          "name": "stdout",
          "text": [
            "balence of your wallet is 1000000000\n"
          ]
        }
      ]
    },
    {
      "cell_type": "markdown",
      "source": [
        "to over come this we use Private"
      ],
      "metadata": {
        "id": "fQnO3Kw2KGPo"
      }
    },
    {
      "cell_type": "markdown",
      "source": [
        ">**Private Access Modifier:**\n",
        "\n",
        "\n",
        "The members of a class that are declared private are accessible within the class only, private access modifier is the most secure access modifier. Data members of a class are declared private by adding a double underscore ‘__’ symbol before the data member of that class."
      ],
      "metadata": {
        "id": "DXvD64dEKSab"
      }
    },
    {
      "cell_type": "markdown",
      "source": [
        "**Problem Statement**\n",
        "\n",
        "When we put a double underscore in front of the attribute name, python will internally change its name to _Classname__attribute.\n",
        "\n",
        "This is why we get an error when we try to access a private attribute."
      ],
      "metadata": {
        "id": "qs5zz7QPKO0S"
      }
    },
    {
      "cell_type": "code",
      "source": [
        "class customer:\n",
        "  def __init__(self,cust_Id,name,age,wallet_Balnce):\n",
        "    self.cust_Id = cust_Id\n",
        "    self.name = name\n",
        "    self.age = age\n",
        "    self.__wallet_Balnce = wallet_Balnce\n",
        "\n",
        "  def update_balnce(self,amount):\n",
        "    if amount<1000 and amount>0:\n",
        "      self.__wallet_Balnce +=amount\n",
        "  def Show_balence(self):\n",
        "    print(\"balence of your wallet is \"+str(self.__wallet_Balnce))\n",
        "\n",
        "\n",
        "# object creation\n",
        "cust2 = customer(1001,\"Ajay\",25,1200)\n",
        "\n",
        "# Method calling\n",
        "cust2.update_balnce(800)\n",
        "\n",
        "cust2.Show_balence()"
      ],
      "metadata": {
        "colab": {
          "base_uri": "https://localhost:8080/"
        },
        "id": "mp18M88_H-IO",
        "outputId": "6f7b7381-ec70-4210-afab-2a37f6357ffc"
      },
      "execution_count": null,
      "outputs": [
        {
          "output_type": "stream",
          "name": "stdout",
          "text": [
            "balence of your wallet is 2000\n"
          ]
        }
      ]
    },
    {
      "cell_type": "markdown",
      "source": [
        "When we put a double underscore in front of the attribute name, python will internally change its name to _Classname__attribute.\n",
        "\n",
        "This is why we get an error when we try to access a private attribute"
      ],
      "metadata": {
        "id": "yn2TnU32NSZs"
      }
    },
    {
      "cell_type": "code",
      "source": [
        "cust2.__wallet_Balnce # # we can't direcly change the private Attributes\n"
      ],
      "metadata": {
        "colab": {
          "base_uri": "https://localhost:8080/",
          "height": 141
        },
        "id": "tDuLC-qxMWSX",
        "outputId": "45d7a0da-730c-4788-b37c-3a6b53119de3"
      },
      "execution_count": null,
      "outputs": [
        {
          "output_type": "error",
          "ename": "AttributeError",
          "evalue": "'customer' object has no attribute '__wallet_Balnce'",
          "traceback": [
            "\u001b[0;31m---------------------------------------------------------------------------\u001b[0m",
            "\u001b[0;31mAttributeError\u001b[0m                            Traceback (most recent call last)",
            "\u001b[0;32m<ipython-input-9-5ab72fe978ce>\u001b[0m in \u001b[0;36m<cell line: 1>\u001b[0;34m()\u001b[0m\n\u001b[0;32m----> 1\u001b[0;31m \u001b[0mcust2\u001b[0m\u001b[0;34m.\u001b[0m\u001b[0m__wallet_Balnce\u001b[0m\u001b[0;34m\u001b[0m\u001b[0;34m\u001b[0m\u001b[0m\n\u001b[0m",
            "\u001b[0;31mAttributeError\u001b[0m: 'customer' object has no attribute '__wallet_Balnce'"
          ]
        }
      ]
    },
    {
      "cell_type": "markdown",
      "source": [
        "**Updation of private Data  -- Caution !**"
      ],
      "metadata": {
        "id": "xexJZvxyONaq"
      }
    },
    {
      "cell_type": "markdown",
      "source": [
        "If we try to assign a value to a private variable, we end up creating a new attribute in python. Thus this code does not give an error, but it is logically flawed and does not produce the intended result."
      ],
      "metadata": {
        "id": "U_Vmv5wpOnVU"
      }
    },
    {
      "cell_type": "code",
      "source": [
        "# try to access private Attributes\n",
        "cust1.__wallet_Balnce = 10000000\n",
        "\n",
        "cust1.Show_balence() # we can't direcly change the private Attributes\n"
      ],
      "metadata": {
        "colab": {
          "base_uri": "https://localhost:8080/"
        },
        "id": "1Ap2HsGcLwmY",
        "outputId": "3bf40bd1-2531-493c-b243-e65b35e20fb6"
      },
      "execution_count": null,
      "outputs": [
        {
          "output_type": "stream",
          "name": "stdout",
          "text": [
            "balence of your wallet is 2000\n"
          ]
        }
      ]
    },
    {
      "cell_type": "markdown",
      "source": [
        "**Access Private VAriables**"
      ],
      "metadata": {
        "id": "WizJQ2_xOqzm"
      }
    },
    {
      "cell_type": "markdown",
      "source": [
        "**Problem Statement**\n",
        "Since we know that the name of the variable changes when we make it private, we can access it using its modified name as shown in below code.\n",
        "\n",
        "So, if private variable can be accessed outside the class and can be modified, then what is the advantage of making it private?\n",
        "\n",
        "Note: Languages like Java, C#, etc do not allow access of private variable outside the class"
      ],
      "metadata": {
        "id": "KPt8Y5tEO8-6"
      }
    },
    {
      "cell_type": "markdown",
      "source": [
        "When we put a double underscore in front of the attribute name, python will internally change its name to _Classname__attribute."
      ],
      "metadata": {
        "id": "BaHxw2AtPJYR"
      }
    },
    {
      "cell_type": "code",
      "source": [
        "# accessing privaate Attributes\n",
        "cust2._customer__wallet_Balnce # Access Granted"
      ],
      "metadata": {
        "colab": {
          "base_uri": "https://localhost:8080/"
        },
        "id": "Zlc9eXVeMJSP",
        "outputId": "25f74bef-f00e-44f3-f590-23462c3e8a86"
      },
      "execution_count": null,
      "outputs": [
        {
          "output_type": "execute_result",
          "data": {
            "text/plain": [
              "2000"
            ]
          },
          "metadata": {},
          "execution_count": 11
        }
      ]
    },
    {
      "cell_type": "code",
      "source": [
        "cust2._customer__wallet_Balnce = 200000\n",
        "cust2._customer__wallet_Balnce    # its not possible in java C++ etc"
      ],
      "metadata": {
        "colab": {
          "base_uri": "https://localhost:8080/"
        },
        "id": "oEMJBFDjPZMH",
        "outputId": "2442d721-2e21-410d-9bd3-899c71ee6d3c"
      },
      "execution_count": null,
      "outputs": [
        {
          "output_type": "execute_result",
          "data": {
            "text/plain": [
              "200000"
            ]
          },
          "metadata": {},
          "execution_count": 12
        }
      ]
    },
    {
      "cell_type": "markdown",
      "source": [
        "Any lock can be broken by a determined thief. Similarly, just because you make your code private, does not mean it is not accessible to other developers. When a developer sees a private variable, it’s a gentleman's agreement not to access it directly. It is used to only prevent accidental access.\n",
        "\n",
        "Thus in python encapsulation is more like a caution sign than a lock. A caution sign is there so that you don’t accidentally break a rule. But if you still want to break it you can, with consequence ;)"
      ],
      "metadata": {
        "id": "14p_v_AJQLhb"
      }
    },
    {
      "cell_type": "markdown",
      "source": [
        "![image.png](data:image/png;base64,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)"
      ],
      "metadata": {
        "id": "ep0o-CLTQjNP"
      }
    },
    {
      "cell_type": "markdown",
      "source": [
        "### **Getters & Setters**\n",
        "\n",
        "\n",
        "To have a error free way of accessing and updating private variables, we create specific methods for this.\n",
        "\n",
        "The methods which are meant to set a value to a private variable are called setter methods\n",
        "The methods meant to access private variable values are called getter methods\n",
        "The below code is an example of getter and setter methods:"
      ],
      "metadata": {
        "id": "jgcePo2iRk91"
      }
    },
    {
      "cell_type": "code",
      "source": [
        "class customer:\n",
        "  def __init__(self,cust_Id,name,age,wallet_Balnce):\n",
        "    self.cust_Id = cust_Id\n",
        "    self.name = name\n",
        "    self.age = age\n",
        "    self.__wallet_Balnce = wallet_Balnce\n",
        "\n",
        "  # getters & setters\n",
        "  # getter\n",
        "  def get_wallet_Balnce(self):\n",
        "    return self.__wallet_Balnce\n",
        "\n",
        "  #setter\n",
        "  def set_wallet_Balnce(self,amount):\n",
        "    if amount<1000 and amount>0:\n",
        "      self.__wallet_Balnce += amount\n",
        "\n",
        "\n",
        "  def Show_balence(self):\n",
        "    print(\"balence of your wallet is \"+str(self.__wallet_Balnce))\n",
        "\n",
        "\n",
        "cust3 = customer(1021,\"Ajay\",25,1593)\n",
        "print(cust3.get_wallet_Balnce())\n",
        "cust3.set_wallet_Balnce(800)\n",
        "print(\"After Adding\")\n",
        "print(cust3.get_wallet_Balnce())"
      ],
      "metadata": {
        "colab": {
          "base_uri": "https://localhost:8080/"
        },
        "id": "xmz03G4GPlAL",
        "outputId": "10b5867e-a10a-4703-8505-33ca0ca750bd"
      },
      "execution_count": null,
      "outputs": [
        {
          "output_type": "stream",
          "name": "stdout",
          "text": [
            "1593\n",
            "After Adding\n",
            "2393\n"
          ]
        }
      ]
    },
    {
      "cell_type": "markdown",
      "source": [
        "**The correct way to code ----- Getters & setters**"
      ],
      "metadata": {
        "id": "N4Ih2C0xV2W9"
      }
    },
    {
      "cell_type": "code",
      "source": [
        "class customer:\n",
        "  def __init__(self,cust_Id,name,age,wallet_Balnce):\n",
        "    self.cust_Id = cust_Id\n",
        "    self.name = name\n",
        "    self.age = age\n",
        "    self.__wallet_Balnce = wallet_Balnce\n",
        "\n",
        "  # getters\n",
        "  def get_wallet_Balnce(self):\n",
        "      return self.__wallet_Balnce\n",
        "\n",
        "  #Setters\n",
        "  def set_wallet_Balnce(self,amount):\n",
        "        self.__wallet_Balnce = amount\n",
        "\n",
        "  # Methods\n",
        "  def update_balnce(self,amount):\n",
        "      if amount<1000 and amount>0:\n",
        "        Total_amount = self.get_wallet_Balnce()+ amount\n",
        "        self.set_wallet_Balnce(Total_amount)\n",
        "\n",
        "\n",
        "  def Show_balence(self):\n",
        "\n",
        "      print(\"balence of your wallet is \",self.get_wallet_Balnce())\n",
        "\n",
        "\n",
        "cust4 = customer(1021,\"Gnani\",25,1364)\n",
        "cust4.Show_balence()\n",
        "cust4.update_balnce(735)\n",
        "print(\"After Adding balence\")\n",
        "cust4.Show_balence()"
      ],
      "metadata": {
        "colab": {
          "base_uri": "https://localhost:8080/"
        },
        "id": "AZRdV-QCVzoa",
        "outputId": "c1c266fb-cf61-4752-bbee-eb0d505c7f3b"
      },
      "execution_count": null,
      "outputs": [
        {
          "output_type": "stream",
          "name": "stdout",
          "text": [
            "balence of your wallet is  1364\n",
            "After Adding balence\n",
            "balence of your wallet is  2099\n"
          ]
        }
      ]
    },
    {
      "cell_type": "markdown",
      "source": [
        "note: indentation was importent all method follow the same indentation of init\n"
      ],
      "metadata": {
        "id": "Ex-rUCPMJCG3"
      }
    },
    {
      "cell_type": "markdown",
      "source": [
        "We can Also use @proprety for getter and @value.setter for setter"
      ],
      "metadata": {
        "id": "DFGdgKpWP1nn"
      }
    },
    {
      "cell_type": "code",
      "source": [
        "class customer:\n",
        "  def __init__(self,cust_Id,name,age,wallet_Balnce):\n",
        "    self.cust_Id = cust_Id\n",
        "    self.name = name\n",
        "    self.age = age\n",
        "    self.__wallet_Balnce = wallet_Balnce\n",
        "\n",
        "  # getters\n",
        "  @property\n",
        "  def wallet_Balnce(self):\n",
        "      return self.__wallet_Balnce\n",
        "\n",
        "  #Setters\n",
        "  @wallet_Balnce.setter\n",
        "  def wallet_Balnce(self,amount):\n",
        "        self.__wallet_Balnce = amount\n",
        "\n",
        "  # Methods\n",
        "  def update_balnce(self,amount):\n",
        "      if amount<1000 and amount>0:\n",
        "        Total_amount = self.wallet_Balnce + amount\n",
        "        self.wallet_Balnce = Total_amount\n",
        "\n",
        "\n",
        "  def Show_balance(self):\n",
        "\n",
        "      print(\"balence of your wallet is \",self.wallet_Balnce)\n",
        "\n",
        "\n",
        "cust4 = customer(1021,\"Gnani\",25,1364)\n",
        "cust4.Show_balance()\n",
        "cust4.update_balnce(735)\n",
        "print(\"After Adding balence\")\n",
        "cust4.Show_balance()"
      ],
      "metadata": {
        "colab": {
          "base_uri": "https://localhost:8080/"
        },
        "id": "REJpb7hXP2E2",
        "outputId": "505720f9-d7b9-4392-f874-97151aab2219"
      },
      "execution_count": null,
      "outputs": [
        {
          "output_type": "stream",
          "name": "stdout",
          "text": [
            "balence of your wallet is  1364\n",
            "After Adding balence\n",
            "balence of your wallet is  2099\n"
          ]
        }
      ]
    },
    {
      "cell_type": "markdown",
      "source": [
        "Note: when ever we use gettere and setters as a decorator like @property we don't use () when call  those properties"
      ],
      "metadata": {
        "id": "XKfZZ8GhTkSP"
      }
    },
    {
      "cell_type": "markdown",
      "source": [
        ">**Class Diagram**"
      ],
      "metadata": {
        "id": "dnqjsvfuLlNT"
      }
    },
    {
      "cell_type": "markdown",
      "source": [
        "Unlike the complex engineering diagrams, a class diagram is quite simple. It has four parts: the name of the class, the list of attributes, the list of methods and access specifiers.\n",
        "\n",
        "![image.png](data:image/png;base64,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)"
      ],
      "metadata": {
        "id": "Rc9wvucOLpM8"
      }
    },
    {
      "cell_type": "markdown",
      "source": [
        "In a class diagram, a – sign indicates private access and + indicates public access.\n",
        "\n",
        "Note: We can create private methods by adding a double underscore in front of it, just like private variables. Also, if a method has both leading and trailing double underscores ( like __init__, __str__, etc) it indicates that it is a special built-in method. As per coding convention, we are not supposed to create our own methods with both leading and trailing underscores."
      ],
      "metadata": {
        "id": "1zusR6tqL12n"
      }
    },
    {
      "cell_type": "markdown",
      "source": [
        "**Private methods**\n"
      ],
      "metadata": {
        "id": "Xs4BL8zEMZce"
      }
    },
    {
      "cell_type": "code",
      "source": [
        "class Student:\n",
        "  def __init__(self,name,age,roll,branch):\n",
        "    self.__name = name\n",
        "    self.__age = age\n",
        "    self.__roll = roll\n",
        "    self.__branch = branch\n",
        "\n",
        "  # Private Method\n",
        "  def __student_details(self):\n",
        "    print(self.__name)\n",
        "    print(self.__age)\n",
        "    print(self.__roll)\n",
        "    print(self.__branch)\n",
        "\n",
        "  # public method\n",
        "  def display_details(self):\n",
        "    self.__student_details()\n",
        "\n",
        "# creating an object\n",
        "stu1 = Student(\"Ajay\",25,\"2024A1256347\",\"Computer Science\")\n",
        "stu1.display_details() # accesing the provate method by using public method\n",
        "\n",
        "\n",
        "\n"
      ],
      "metadata": {
        "id": "_3g7bRpRXt7X",
        "colab": {
          "base_uri": "https://localhost:8080/"
        },
        "outputId": "f0f5ad67-12bb-41d6-c79a-c723856cae56"
      },
      "execution_count": null,
      "outputs": [
        {
          "output_type": "stream",
          "name": "stdout",
          "text": [
            "Ajay\n",
            "25\n",
            "2024A1256347\n",
            "Computer Science\n"
          ]
        }
      ]
    },
    {
      "cell_type": "markdown",
      "source": [
        "Code with getters and setters"
      ],
      "metadata": {
        "id": "vKcNCM9mPkTQ"
      }
    },
    {
      "cell_type": "code",
      "source": [
        "class Student:\n",
        "  def __init__(self,name,age,roll,branch):\n",
        "    self.__name = name\n",
        "    self.__age = age\n",
        "    self.__roll = roll\n",
        "    self.__branch = branch\n",
        "\n",
        "  # getters\n",
        "  @property\n",
        "  def name(self):\n",
        "    return self.__name\n",
        "  @property\n",
        "  def age(self):\n",
        "    return self.__age\n",
        "  @property\n",
        "  def roll(self):\n",
        "    return self.__roll\n",
        "  @property\n",
        "  def branch(self):\n",
        "    return self.__branch\n",
        "\n",
        "  # setters\n",
        "  @name.setter\n",
        "  def name(self,name):\n",
        "    self.__name = name\n",
        "  @age.setter\n",
        "  def age(self,age):\n",
        "    self.__age = age\n",
        "  @roll.setter\n",
        "  def roll(self,roll):\n",
        "    self.__roll = roll\n",
        "  @branch.setter\n",
        "  def branch(self,branch):\n",
        "    self.__branch = branch\n",
        "\n",
        "\n",
        "\n",
        "\n",
        "  # Private Method\n",
        "  def __student_details(self):\n",
        "    print(\"Student Name : \",self.name)\n",
        "    print(\"Age : \",self.age)\n",
        "    print(\"Roll NUmber : \",self.roll)\n",
        "    print(\"Branch Name : \",self.branch)\n",
        "\n",
        "  # public method\n",
        "  def display_details(self):\n",
        "    self.__student_details()\n",
        "\n",
        "# creating an object\n",
        "stu1 = Student(\"Ajay\",25,\"2024A1256347\",\"Computer Science\")\n",
        "stu1.display_details() # accesing the provate method by using public method\n",
        "\n",
        "\n",
        "\n"
      ],
      "metadata": {
        "colab": {
          "base_uri": "https://localhost:8080/"
        },
        "id": "pFMuIC9ZPXAd",
        "outputId": "a0f42bb1-e556-47e7-f373-0f61240e188c"
      },
      "execution_count": null,
      "outputs": [
        {
          "output_type": "stream",
          "name": "stdout",
          "text": [
            "Student Name :  Ajay\n",
            "Age :  25\n",
            "Roll NUmber :  2024A1256347\n",
            "Branch Name :  Computer Science\n"
          ]
        }
      ]
    },
    {
      "cell_type": "markdown",
      "source": [
        ">**Protected Access Modifier:**\n",
        "\n",
        "\n",
        "The members of a class that are declared protected are only accessible within the class where it is declared and its subclass. To implement protected field or method, the developer follows a specific convention mostly by adding prefix to the variable or function name.\n",
        "\n",
        " Popularly, a single underscore “_” is used to describe a protected data member or method of the class.\n",
        "\n",
        " Note that the python interpreter does not treat it as protected data like other languages, it is only denoted for the programmers since they would be trying to access it using plain name instead of calling it using the respective prefix. For example,"
      ],
      "metadata": {
        "id": "qPwpBHOpY13t"
      }
    },
    {
      "cell_type": "code",
      "source": [
        "class Student:\n",
        "  def __init__(self,name,age,roll,branch):\n",
        "    self._name = name\n",
        "    self._age = age\n",
        "    self._roll = roll\n",
        "    self._branch = branch\n",
        "\n",
        "  # Private Method\n",
        "  def _student_details(self):\n",
        "    print(self._name)\n",
        "    print(self._age)\n",
        "    print(self._roll)\n",
        "    print(self._branch)\n",
        "\n",
        "  # public method\n",
        "  def display_details(self):\n",
        "    self._student_details()\n",
        "\n",
        "# creating an object\n",
        "stu1 = Student(\"Ajay\",25,\"2024A1256347\",\"Computer Science\")\n",
        "stu1.display_details() # accesing the provate method by using public method\n"
      ],
      "metadata": {
        "colab": {
          "base_uri": "https://localhost:8080/"
        },
        "id": "Vzfd35ebWKmh",
        "outputId": "628e1941-0340-446c-f084-06a44be627f9"
      },
      "execution_count": null,
      "outputs": [
        {
          "output_type": "stream",
          "name": "stdout",
          "text": [
            "Ajay\n",
            "25\n",
            "2024A1256347\n",
            "Computer Science\n"
          ]
        }
      ]
    },
    {
      "cell_type": "markdown",
      "source": [
        "We can also add getters and setters like above code if we want"
      ],
      "metadata": {
        "id": "NiwXhBGCZaBd"
      }
    },
    {
      "cell_type": "code",
      "source": [
        "class Student:\n",
        "  def __init__(self,name,age,roll,branch):\n",
        "    self._name = name\n",
        "    self._age = age\n",
        "    self._roll = roll\n",
        "    self._branch = branch\n",
        "\n",
        "  # getters\n",
        "  @property\n",
        "  def name(self):\n",
        "    return self._name\n",
        "  @property\n",
        "  def age(self):\n",
        "    return self._age\n",
        "  @property\n",
        "  def roll(self):\n",
        "    return self._roll\n",
        "  @property\n",
        "  def branch(self):\n",
        "    return self._branch\n",
        "\n",
        "  # setters\n",
        "  @name.setter\n",
        "  def name(self,name):\n",
        "    self._name = name\n",
        "  @age.setter\n",
        "  def age(self,age):\n",
        "    self._age = age\n",
        "  @roll.setter\n",
        "  def roll(self,roll):\n",
        "    self._roll = roll\n",
        "  @branch.setter\n",
        "  def branch(self,branch):\n",
        "    self._branch = branch\n",
        "\n",
        "\n",
        "\n",
        "\n",
        "  # Private Method\n",
        "  def _student_details(self):\n",
        "    print(\"Student Name : \",self.name)\n",
        "    print(\"Age : \",self.age)\n",
        "    print(\"Roll NUmber : \",self.roll)\n",
        "    print(\"Branch Name : \",self.branch)\n",
        "\n",
        "  # public method\n",
        "  def display_details(self):\n",
        "    self._student_details()\n",
        "\n",
        "# creating an object\n",
        "stu1 = Student(\"Ajay\",25,\"2024A1256347\",\"Computer Science\")\n",
        "stu1.display_details() # accesing the provate method by using public method\n"
      ],
      "metadata": {
        "colab": {
          "base_uri": "https://localhost:8080/"
        },
        "id": "ImESjyFoZU64",
        "outputId": "aecf2d42-b56d-40c0-f782-e61c9d4a2061"
      },
      "execution_count": null,
      "outputs": [
        {
          "output_type": "stream",
          "name": "stdout",
          "text": [
            "Student Name :  Ajay\n",
            "Age :  25\n",
            "Roll NUmber :  2024A1256347\n",
            "Branch Name :  Computer Science\n"
          ]
        }
      ]
    },
    {
      "cell_type": "markdown",
      "source": [
        ">**Summary**\n",
        "\n",
        "* Encapsulation is preventing access to a data outside the class\n",
        "\n",
        "* Adding a __ in front of a attribute makes it private\n",
        "\n",
        "* In python, adding a __ changes the name of the attribute to _Classname__attribute"
      ],
      "metadata": {
        "id": "k8sy82pqaJlg"
      }
    },
    {
      "cell_type": "markdown",
      "source": [
        "#  Pass by Reference"
      ],
      "metadata": {
        "id": "H4665Mlxacef"
      }
    },
    {
      "cell_type": "markdown",
      "source": [
        ">**Problem Statement**\n",
        "\n",
        "What happens when we pass an object as a parameter to a function? In the below code, what will be the output?"
      ],
      "metadata": {
        "id": "fYIsancgarn7"
      }
    },
    {
      "cell_type": "code",
      "source": [
        "class Mobile:\n",
        "    def __init__(self, price, brand):\n",
        "        self.price = price\n",
        "        self.brand = brand\n",
        "\n",
        "def change_price(mobile_obj):\n",
        "    mobile_obj.price = 3000\n",
        "\n",
        "mob1=Mobile(1000, \"Apple\")\n",
        "change_price(mob1)\n",
        "print (mob1.price)\n"
      ],
      "metadata": {
        "colab": {
          "base_uri": "https://localhost:8080/"
        },
        "id": "CMADyz4vZ7fT",
        "outputId": "764d7753-c877-4ce2-8fff-66edc68a81f6"
      },
      "execution_count": null,
      "outputs": [
        {
          "output_type": "stream",
          "name": "stdout",
          "text": [
            "3000\n"
          ]
        }
      ]
    },
    {
      "cell_type": "markdown",
      "source": [
        "Problem Statement\n",
        "When we pass an object to a parameter, the parameter name becomes a reference variable.\n",
        "\n",
        "Recollecting the balloon example, it is like creating one more ribbon to the same balloon. Thus there is one object with two reference variable, one the formal parameter and the actual parameter. Thus any change made through one reference variable will affect the other as well.\n",
        "\n",
        "![image.png](data:image/png;base64,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)"
      ],
      "metadata": {
        "id": "dPrnWmxCbXCi"
      }
    },
    {
      "cell_type": "code",
      "source": [
        "class Mobile:\n",
        "    def __init__(self, price, brand):\n",
        "        self.price = price\n",
        "        self.brand = brand\n",
        "\n",
        "    def change_price(mobile_obj):\n",
        "        print (\"Id of object inside function\", id(mobile_obj))\n",
        "        mobile_obj.price = 3000\n",
        "\n",
        "mob1=Mobile(1000, \"Apple\")\n",
        "print (\"Id of object in driver code\", id(mob1))\n",
        "\n",
        "mob1.change_price()\n",
        "print (\"Price of mob1 \", mob1.price)"
      ],
      "metadata": {
        "colab": {
          "base_uri": "https://localhost:8080/"
        },
        "id": "oPcA3hdUbH9f",
        "outputId": "6ae776ca-70ff-47be-c506-116aa26612c6"
      },
      "execution_count": null,
      "outputs": [
        {
          "output_type": "stream",
          "name": "stdout",
          "text": [
            "Id of object in driver code 134774238277408\n",
            "Id of object inside function 134774238277408\n",
            "Price of mob1  3000\n"
          ]
        }
      ]
    },
    {
      "cell_type": "code",
      "source": [],
      "metadata": {
        "id": "wpvD5bv5bd9l"
      },
      "execution_count": null,
      "outputs": []
    }
  ]
}