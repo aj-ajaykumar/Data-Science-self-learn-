{
  "nbformat": 4,
  "nbformat_minor": 0,
  "metadata": {
    "colab": {
      "provenance": []
    },
    "kernelspec": {
      "name": "python3",
      "display_name": "Python 3"
    },
    "language_info": {
      "name": "python"
    }
  },
  "cells": [
    {
      "cell_type": "code",
      "execution_count": null,
      "metadata": {
        "id": "_YbgiHcdRsQc"
      },
      "outputs": [],
      "source": []
    },
    {
      "cell_type": "markdown",
      "source": [
        ">**Problem Statement**\n",
        "\n",
        "\n",
        "Consider the below code which allows you to purchase different products. All products have discount of 10%.\n",
        "\n"
      ],
      "metadata": {
        "id": "Zgwp0qfkR-xP"
      }
    },
    {
      "cell_type": "code",
      "source": [
        "# function\n",
        "def purchase_product(product_name,amount):\n",
        "  discount = 10\n",
        "  amount -= amount*discount/100\n",
        "  print(\"Total price of \"+product_name+\" is \"+str(amount))\n",
        "\n",
        "# call\n",
        "purchase_product(\"mobile\",1000)\n",
        "purchase_product(\"cloths\",2500)"
      ],
      "metadata": {
        "colab": {
          "base_uri": "https://localhost:8080/"
        },
        "id": "F-PSnB0XSDg6",
        "outputId": "57e70efd-5d8c-4004-cd22-4fab1e66519b"
      },
      "execution_count": null,
      "outputs": [
        {
          "output_type": "stream",
          "name": "stdout",
          "text": [
            "Total price of mobile is 900.0\n",
            "Total price of cloths is 2250.0\n"
          ]
        }
      ]
    },
    {
      "cell_type": "markdown",
      "source": [
        ">**Problem Statement**\n",
        "\n",
        "Let us say that we want to update our code such that:\n",
        "\n",
        "if the mobile brand is Apple then the discount is 10% else the discount is 5%\n",
        "all cloths have 2% tax and no discount\n",
        "We can accomplish this by adding additional parameters to the function and updating the logic.\n"
      ],
      "metadata": {
        "id": "rz2JbmnQTcm3"
      }
    },
    {
      "cell_type": "code",
      "source": [
        "# function\n",
        "def purchase_product(product_name,amount,mobile_brand = None): #here we provided on defult argument to overcome the error in when purchasing clothe\n",
        "  if product_name == \"Mobile\":                                 # if it is not given we get posisional argument error\n",
        "    if mobile_brand == \"Apple\":\n",
        "      discount = 10\n",
        "    else:\n",
        "      discount = 5\n",
        "    amount -= amount*discount/100\n",
        "  else:\n",
        "    amount += amount*2/100\n",
        "\n",
        "  print(\"Total price of the \"+product_name+\" is \"+str(amount))\n",
        "\n",
        "purchase_product(\"Mobile\",50000,\"Apple\") # discount = 10%\n",
        "purchase_product(\"Mobile\",50000,\"Samsung\") # discount = 5%\n",
        "purchase_product(\"cloths\",3000) # tax 2%\n"
      ],
      "metadata": {
        "colab": {
          "base_uri": "https://localhost:8080/"
        },
        "id": "ae9IFPPSTIOl",
        "outputId": "767b3964-d5ec-4151-b754-9daf8f7fdd55"
      },
      "execution_count": null,
      "outputs": [
        {
          "output_type": "stream",
          "name": "stdout",
          "text": [
            "Total price of the Mobile is 45000.0\n",
            "Total price of the Mobile is 47500.0\n",
            "Total price of the cloths is 3060.0\n"
          ]
        }
      ]
    },
    {
      "cell_type": "markdown",
      "source": [
        ">**Problem Statement**\n",
        "\n",
        "The solution we came up with has a key problem. Data for mobiles and Cloths are mixed up in the same code. If we have to make changes to the logic for purchasing Cloths, we have to modify method that has logic for both Cloths and mobiles. For example, if we have to add 'material' to the Cloths and have a 5% tax on 'leather' Cloths(jackets), then we have to go through code related to mobile as well, as shown below:"
      ],
      "metadata": {
        "id": "rWJStohuXVp9"
      }
    },
    {
      "cell_type": "code",
      "source": [
        "# function\n",
        "def purchase_product(product_name,amount,mobile_brand = None,material = None):\n",
        "  if product_name == \"Mobile\":\n",
        "    if mobile_brand == \"Apple\":\n",
        "      discount = 10\n",
        "    else:\n",
        "      discount = 5\n",
        "    amount -= amount*discount/100\n",
        "  else:\n",
        "    if material == \"leather\":\n",
        "      tax = 5\n",
        "    else:\n",
        "      tax = 2\n",
        "    amount += amount*tax/100\n",
        "\n",
        "  print(\"Total price of the \"+product_name+\" is \"+str(amount))\n",
        "\n",
        "purchase_product(\"Mobile\",50000,\"Apple\") # discount = 10%\n",
        "purchase_product(\"Mobile\",50000,\"Samsung\") # discount = 5%\n",
        "purchase_product(\"cloths\",3000,material=\"leather\")# tax = 5%\n",
        "purchase_product(\"cloths\",3000,None,\"leather\") # another way of calling\n",
        "purchase_product(\"cloths\",3000) # tax 2%\n"
      ],
      "metadata": {
        "colab": {
          "base_uri": "https://localhost:8080/"
        },
        "id": "Tf8iGYjrV7WI",
        "outputId": "960031ed-9166-4688-91e6-a4c3f70ff394"
      },
      "execution_count": null,
      "outputs": [
        {
          "output_type": "stream",
          "name": "stdout",
          "text": [
            "Total price of the Mobile is 45000.0\n",
            "Total price of the Mobile is 47500.0\n",
            "Total price of the cloths is 3150.0\n",
            "Total price of the cloths is 3150.0\n",
            "Total price of the cloths is 3060.0\n"
          ]
        }
      ]
    },
    {
      "cell_type": "markdown",
      "source": [
        ">**Problem Statement**\n",
        "\n",
        "A better solution would be to modularize the code and separate the logic for Mobiles and Shoes.\n",
        "\n",
        "Modify the code in the below code pane as per the following guidelines:\n",
        "\n",
        "* Create two functions: purchase_mobile and purchase_shoe\n",
        "* purchase_mobile() takes two parameters: price and brand\n",
        "* purchase_shoe() takes two parameters: price and material\n",
        "* If the mobile brand is “Apple”, discount is 10%, else discount is 5%\n",
        "* If the shoe material is “leather”, tax is 5%, else tax is 2%"
      ],
      "metadata": {
        "id": "J86eLvZUZQC5"
      }
    },
    {
      "cell_type": "code",
      "source": [
        " # function\n",
        "def purchase_mobile(brand,amount):\n",
        "  if brand == \"Apple\":\n",
        "    discount = 10\n",
        "  else:\n",
        "    discount = 5\n",
        "  total_amount = amount - amount*discount/100\n",
        "  print(\"Total price of the mobile of \"+brand+\" is \"+str(total_amount))\n",
        "# function Cloths\n",
        "def purchase_cloths(material,amount):\n",
        "  if material == \"leather\":\n",
        "    tax = 5\n",
        "  else:\n",
        "    tax = 2\n",
        "  amount += amount*tax/100\n",
        "  print(\"Total price of the cloths with a material of  \"+material+\" is \"+str(amount))\n",
        "\n",
        "purchase_mobile(\"Apple\",50000)\n",
        "purchase_mobile(\"Samuntg\",50000)\n",
        "purchase_cloths('leather',3500)\n",
        "purchase_cloths('Cotten',3500)\n",
        "#purchase_cloths(None,3500) # it is not possible because none type is used in print() # uncomment and try"
      ],
      "metadata": {
        "colab": {
          "base_uri": "https://localhost:8080/"
        },
        "id": "B6Hp6NG1Y4Vm",
        "outputId": "77708cf3-7944-4841-9d4f-1c226ad424fb"
      },
      "execution_count": null,
      "outputs": [
        {
          "output_type": "stream",
          "name": "stdout",
          "text": [
            "Total price of the mobile of Apple is 45000.0\n",
            "Total price of the mobile of Samuntg is 47500.0\n",
            "Total price of the cloths with a material of  leather is 3675.0\n",
            "Total price of the cloths with a material of  Cotten is 3570.0\n"
          ]
        }
      ]
    },
    {
      "cell_type": "markdown",
      "source": [
        "**Increasing the requirement**"
      ],
      "metadata": {
        "id": "jMwObi9Peu-2"
      }
    },
    {
      "cell_type": "markdown",
      "source": [
        ">**Problem Statement**\n",
        "\n",
        "How do we go about displaying the refund amount? One way is to recalculate the price as shown below. Here, price calculation logic is repeated in purchase as well as in return functions. This obviously is a bad idea."
      ],
      "metadata": {
        "id": "emFYElCcfIE4"
      }
    },
    {
      "cell_type": "code",
      "source": [
        " # function\n",
        "def return_mobile(brand,amount):\n",
        "  if brand == \"Apple\":\n",
        "    discount = 10\n",
        "  else:\n",
        "    discount = 5\n",
        "  total_amount = amount - amount*discount/100\n",
        "  print(\"Your refund for mobile of \"+brand+\" is \"+str(total_amount))\n",
        "# function Cloths\n",
        "def return_cloths(material,amount):\n",
        "  if material == \"leather\":\n",
        "    tax = 5\n",
        "  else:\n",
        "    tax = 2\n",
        "  amount += amount*tax/100\n",
        "  print(\"your refund for  the cloths with a material of  \"+material+\" is \"+str(amount))\n",
        "\n",
        "return_mobile('samsung',5000)\n"
      ],
      "metadata": {
        "colab": {
          "base_uri": "https://localhost:8080/"
        },
        "id": "2VADvswJbf2A",
        "outputId": "a904dc9e-e33d-49e9-ee0e-a0acdc7eda30"
      },
      "execution_count": null,
      "outputs": [
        {
          "output_type": "stream",
          "name": "stdout",
          "text": [
            "Your refund for mobile of samsung is 4750.0\n"
          ]
        }
      ]
    },
    {
      "cell_type": "markdown",
      "source": [
        ">**Problem Statement**\n",
        "\n",
        "Alternatively we can use global variables. We calculate the price during purchase and store it in a global variable. Later during return we access the calculated price from the global variable. But this brings more complications than it tries to solve."
      ],
      "metadata": {
        "id": "eZ56YBIGgU_H"
      }
    },
    {
      "cell_type": "code",
      "source": [
        "# function\n",
        "Total_price_mobile = 0\n",
        "Total_price_cloths = 0\n",
        "def purchase_mobile(brand,amount):\n",
        "  global Total_price_mobile\n",
        "  if brand == \"Apple\":\n",
        "    discount = 10\n",
        "  else:\n",
        "    discount = 5\n",
        "  Total_price_mobile = amount - amount*discount/100\n",
        "  print(\"Total price of the mobile of \"+brand+\" is \"+str(Total_price_mobile))\n",
        "# function Cloths\n",
        "def purchase_cloths(material,amount):\n",
        "  global Total_price_cloths\n",
        "  if material == \"leather\":\n",
        "    tax = 5\n",
        "  else:\n",
        "    tax = 2\n",
        "  Total_price_cloths =  amount - amount*tax/100\n",
        "  print(\"Total price of the cloths with a material of  \"+material+\" is \"+str(Total_price_cloths))\n",
        "\n",
        "# refund func of mon=bile\n",
        "def mobile_refund():\n",
        "  print(\"Your refund for mobile is\" + str(Total_price_mobile))\n",
        "\n",
        "# refund func for cloths\n",
        "def cloths_refund():\n",
        "  print(\"Your refund for the  cloths is\" + str(Total_price_cloths))\n",
        "\n",
        "\n",
        "purchase_mobile(\"Apple\",50000)\n",
        "purchase_cloths('leather',3500)\n"
      ],
      "metadata": {
        "colab": {
          "base_uri": "https://localhost:8080/"
        },
        "id": "2YNjqVnYgAJv",
        "outputId": "05b159bc-ae03-46bd-a7d9-05511985688c"
      },
      "execution_count": null,
      "outputs": [
        {
          "output_type": "stream",
          "name": "stdout",
          "text": [
            "Total price of the mobile of Apple is 45000.0\n",
            "Total price of the cloths with a material of  leather is 3325.0\n"
          ]
        }
      ]
    },
    {
      "cell_type": "code",
      "source": [
        "mobile_refund()\n",
        "cloths_refund()"
      ],
      "metadata": {
        "colab": {
          "base_uri": "https://localhost:8080/"
        },
        "id": "k297NUPwh_Bt",
        "outputId": "2f136205-28cc-413a-d647-a65fb853e933"
      },
      "execution_count": null,
      "outputs": [
        {
          "output_type": "stream",
          "name": "stdout",
          "text": [
            "Your refund for mobile is45000.0\n",
            "Your refund for the  cloths is3325.0\n"
          ]
        }
      ]
    },
    {
      "cell_type": "markdown",
      "source": [
        "> **Problem Statement**\n",
        "\n",
        "What if we want to purchase two mobiles and return one of them? Which will be returned? Also, can we be sure that purchase_shoe() won't accidentally modify the global value for mobile?"
      ],
      "metadata": {
        "id": "1-SyGT5ejb5Q"
      }
    },
    {
      "cell_type": "code",
      "source": [
        "# function\n",
        "Total_price_mobile = 0\n",
        "Total_price_cloths = 0\n",
        "def purchase_mobile(brand,amount):\n",
        "  global Total_price_mobile\n",
        "  if brand == \"Apple\":\n",
        "    discount = 10\n",
        "  else:\n",
        "    discount = 5\n",
        "  Total_price_mobile = amount - amount*discount/100\n",
        "  print(\"Total price of the mobile of \"+brand+\" is \"+str(Total_price_mobile))\n",
        "# function Cloths\n",
        "def purchase_cloths(material,amount):\n",
        "  global Total_price_cloths\n",
        "  if material == \"leather\":\n",
        "    tax = 5\n",
        "  else:\n",
        "    tax = 2\n",
        "  Total_price_cloths =  amount - amount*tax/100\n",
        "  print(\"Total price of the cloths with a material of  \"+material+\" is \"+str(Total_price_cloths))\n",
        "\n",
        "# refund func of mon=bile\n",
        "def mobile_refund():\n",
        "  print(\"Your refund for mobile is\" + str(Total_price_mobile))\n",
        "\n",
        "# refund func for cloths\n",
        "def cloths_refund():\n",
        "  print(\"Your refund for the  cloths is\" + str(Total_price_cloths))\n",
        "\n",
        "\n",
        "purchase_mobile(\"Apple\",50000)\n",
        "purchase_cloths('leather',3500)\n",
        "purchase_mobile('Samsung',35000)\n",
        "mobile_refund() # last mobile amount was refunded\n",
        "# but we want to choose which mobile we wnat to refund we will work on later\n"
      ],
      "metadata": {
        "colab": {
          "base_uri": "https://localhost:8080/"
        },
        "outputId": "b1ddfe1d-8e84-4b03-ceaa-1c19d3bcf404",
        "id": "8T90tDCnjjtN"
      },
      "execution_count": null,
      "outputs": [
        {
          "output_type": "stream",
          "name": "stdout",
          "text": [
            "Total price of the mobile of Apple is 45000.0\n",
            "Total price of the cloths with a material of  leather is 3325.0\n",
            "Total price of the mobile of Samsung is 33250.0\n",
            "Your refund for mobile is33250.0\n"
          ]
        }
      ]
    },
    {
      "cell_type": "markdown",
      "source": [
        "We can see that with our current style of programming, we quickly run into complications trying to simulate real world scenarios, like purchasing and returning a product.\n",
        "\n",
        "The problem arises due to the fact that in real life everything has some data/characteristic associated with it and some behavior associated with it and we are not able to replicate this in a code. For example:\n",
        "\n",
        "All mobiles have price and brand as its data and purchase and return as its behavior.\n",
        "\n",
        "All shoes have price and material as its data and purchase and return as its behavior.\n",
        "\n",
        "We need a way of programming which allows to club together the data and behavior so that it becomes easier to code real world scenarios."
      ],
      "metadata": {
        "id": "KyxjxcZYk5rh"
      }
    },
    {
      "cell_type": "markdown",
      "source": [
        ">**So lets learn OPPS**"
      ],
      "metadata": {
        "id": "PaO7XfpNlCKR"
      }
    },
    {
      "cell_type": "code",
      "source": [],
      "metadata": {
        "id": "LCnsLpjikTyD"
      },
      "execution_count": null,
      "outputs": []
    }
  ]
}