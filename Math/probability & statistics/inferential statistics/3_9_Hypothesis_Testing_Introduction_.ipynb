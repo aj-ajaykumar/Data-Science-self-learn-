{
  "nbformat": 4,
  "nbformat_minor": 0,
  "metadata": {
    "colab": {
      "provenance": []
    },
    "kernelspec": {
      "name": "python3",
      "display_name": "Python 3"
    },
    "language_info": {
      "name": "python"
    }
  },
  "cells": [
    {
      "cell_type": "markdown",
      "source": [
        "## **Why hypothesis testing ?**"
      ],
      "metadata": {
        "id": "beEvTeq1UivJ"
      }
    },
    {
      "cell_type": "markdown",
      "source": [
        "> **Challenge 4: Validating Estimations**"
      ],
      "metadata": {
        "id": "aPDYvin6Uenq"
      }
    },
    {
      "cell_type": "markdown",
      "source": [
        "The surveying agency has successfully estimated the population mean, population variance and standard deviation using various point estimation techniques.\n",
        "\n",
        "According to the surveying agency the confidence interval of population mean is (408 to 417). The government wants to verify this claim.\n",
        "\n",
        "Therefore, the government randomly chooses 100 students from the country and conducts the surprise test (consisting of the same questions) for them. The mean marks scored by those 100 students are found to be 403, which does not lie in the range specified by the agency.\n",
        "\n",
        "Now the question arises, whether this observation is sufficient for the government to conclude that the estimation by the agency is not valid.\n",
        "\n",
        "In inferential statistics, Hypothesis Test is conducted to find answers to such questions."
      ],
      "metadata": {
        "id": "2J-TeJb9UpZM"
      }
    },
    {
      "cell_type": "markdown",
      "source": [
        "## **Steps Involved in Hypothesis Testing**"
      ],
      "metadata": {
        "id": "kRpvFNTjUx2a"
      }
    },
    {
      "cell_type": "markdown",
      "source": [
        "> **Hypothesis Testing**"
      ],
      "metadata": {
        "id": "e49ggzzlU3zC"
      }
    },
    {
      "cell_type": "markdown",
      "source": [
        "In statistics, hypothesis is a statement about the population which is represented by some numerical values.\n",
        "\n",
        "Hypothesis testing deals with collecting enough evidence about the hypothesis. Then, based on the evidence collected, the test either accepts or rejects the hypothesis about the population.\n",
        "\n",
        "For example, post conducting surprise test for 100 students and calculating the mean marks, the government proposes a statement/ hypothesis that the estimation of surveying agency may not be accurate.\n",
        "\n",
        "Hypothesis testing needs to be performed to find evidence in support of this hypothesis. Based on the evidence found, this hypothesis can be accepted or rejected.\n",
        "\n",
        "Let us understand a few terminologies and concepts used in hypothesis testing."
      ],
      "metadata": {
        "id": "UXgti_TBU-RW"
      }
    },
    {
      "cell_type": "markdown",
      "source": [
        "> **Null Hypothesis and Alternate Hypothesis**"
      ],
      "metadata": {
        "id": "G4N9QGDBVBpa"
      }
    },
    {
      "cell_type": "markdown",
      "source": [
        "Each hypothesis test usually includes two competing hypotheses about the population. They are Null Hypothesis and Alternate Hypothesis.\n",
        "\n",
        "<u>**Null Hypothesis (H0):**</u> It is a statement/hypothesis that disapproves/rejects the observation based on which the hypothesis is made. You can start the hypothesis testing considering the null hypothesis to be true. It cannot be rejected until there is an evidence which suggests otherwise.\n",
        "\n",
        "<u>**Alternate Hypothesis (Ha):**</u> It is a statement/hypothesis which is contradictory to the null hypothesis. If you find enough evidence to reject the null hypothesis, then the alternate hypothesis is accepted."
      ],
      "metadata": {
        "id": "pz0EAgkkVDzw"
      }
    },
    {
      "cell_type": "markdown",
      "source": [
        "> **Rejecting/Accepting the Null Hypothesis**"
      ],
      "metadata": {
        "id": "zKDX1QR_VT_q"
      }
    },
    {
      "cell_type": "markdown",
      "source": [
        "In hypothesis testing, assume the null hypothesis (which disapproves the observed data) to be true and find the probability of finding the observed data. Based on the probability of finding the observed data, accept/reject the null hypothesis. The condition is given in the table below.\n",
        "\n",
        "<center>\n",
        "\n",
        "![image.png](data:image/png;base64,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)\n",
        "\n",
        "</center>\n",
        "\n",
        "\n",
        "\n",
        "The distinction between the probability being significantly high or low is determined by Level Of Significance represented by the symbol 'α'.\n",
        "\n",
        " Usually, the level of significance is set as 0.05. Assume that the null hypothesis is true. A level of significance (of 0.05) implies that:\n",
        "\n",
        "* you can reject the null hypothesis if the probability of occurrence of the given data is less than the level of significance (0.05 in this case)\n",
        "* you fail to reject the null hypothesis if the probability of occurrence of the given data is greater than or equal to the level of significance (0.05 in this case)\n",
        "\n",
        "\n",
        "With this, let us see how the surveying agency performs hypothesis test to validate its estimations.\n",
        "\n"
      ],
      "metadata": {
        "id": "2gPHenhRVXjV"
      }
    },
    {
      "cell_type": "markdown",
      "source": [
        "> **Steps Involved in Hypothesis Testing**"
      ],
      "metadata": {
        "id": "0u4igxy_VqcP"
      }
    },
    {
      "cell_type": "markdown",
      "source": [
        "**Step 1:** Define the null hypothesis, alternate hypothesis and the level of significance.\n",
        "\n",
        "**Step 2:** Calculate the probability of getting the observed data (P value) assuming the null hypothesis to be true. This involves two intermediate steps as given below.\n",
        "\n",
        "**Step 2.1:** Calculate the Z statistic.\n",
        "\n",
        "**Step 2.2:** Calculate the P value.\n",
        "\n",
        "**Step 3:** Conclude whether to reject the null hypothesis or not based on the P value i.e.\n",
        "\n",
        "* If P value < significance level, then reject the null hypothesis\n",
        "\n",
        "* If P value >= significance level, the null hypothesis cannot be rejected\n",
        "\n",
        "**Step 4:** State the conclusion."
      ],
      "metadata": {
        "id": "idc4Km_uVsnD"
      }
    },
    {
      "cell_type": "code",
      "execution_count": null,
      "metadata": {
        "id": "8s3XN0kLUXPU"
      },
      "outputs": [],
      "source": []
    }
  ]
}