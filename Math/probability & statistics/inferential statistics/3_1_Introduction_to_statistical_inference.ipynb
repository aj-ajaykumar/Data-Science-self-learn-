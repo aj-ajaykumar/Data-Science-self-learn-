{
  "nbformat": 4,
  "nbformat_minor": 0,
  "metadata": {
    "colab": {
      "provenance": []
    },
    "kernelspec": {
      "name": "python3",
      "display_name": "Python 3"
    },
    "language_info": {
      "name": "python"
    }
  },
  "cells": [
    {
      "cell_type": "markdown",
      "source": [
        "## **Case Study**"
      ],
      "metadata": {
        "id": "ydvwbFdMRSrk"
      }
    },
    {
      "cell_type": "markdown",
      "source": [
        "Federal government ensures the quality of education across the country every year through a surveying agency. The agency conducts surprise tests for primary school students to identify the quality of education.\n",
        "\n",
        "The agency provides two options for conducting this exercise:\n",
        "\n",
        "**Option 1:**\n",
        "\n",
        "Conduct surprise test for every student throughout the country, analyse their performances and then conclude on the quality of primary school education.\n",
        "\n",
        "**Option 2:**\n",
        "\n",
        "Conduct surprise test for a selected group of students across various schools in the country. Analyse the marks obtained by the selected students and draw inferences on the quality of primary school education.\n",
        "\n",
        "Option 1 collects all the required data and conducts statistical operations to arrive at conclusions. This type of statistical analysis falls under Descriptive Statistics.\n",
        "\n",
        "Option 2 collects a subset of data, known as Sample in statistical terminology, from the entire data known as Population. The sample is analysed and conclusions are drawn about the population. This type of analysis falls under Statistical Inference (also known as Inferential Statistics).\n",
        "\n",
        "To conduct descriptive statistics, one must analyse the entire population. However, it may not be feasible to collect all the data because of the complexity and cost involved in data collection. For example, it is not feasible to conduct surprise test for every student across all the schools in the country.\n",
        "\n",
        "The surveying agency prefers Option 2.\n",
        "\n",
        "The surveying agency uses various statistical inference techniques to draw conclusions about the population, by analysing the sample. You will learn such techniques throughout this course."
      ],
      "metadata": {
        "id": "vUkXeRtTRgvN"
      }
    },
    {
      "cell_type": "markdown",
      "source": [
        "> **What is Statistical Inference?**"
      ],
      "metadata": {
        "id": "3wLen5ogRyxL"
      }
    },
    {
      "cell_type": "markdown",
      "source": [
        "\n",
        "\n",
        "\n",
        "In statistical inference various sample statistics are analysed to determine the population parameters.\n",
        "\n",
        "Recall the following Probability and Descriptive Statistics terminologies:\n",
        "\n",
        "<center>\n",
        "\n",
        "![image.png](data:image/png;base64,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)\n",
        "\n",
        "</center>\n",
        "\n",
        "\n",
        "In the given scenario, the surveying agency:\n",
        "\n",
        "* Identifies the sample (set of students to appear for the surprise test) and conducts the surprise test\n",
        "\n",
        "* Calculates various sample statistics\n",
        "\n",
        "* Draws inferences about the population parameters"
      ],
      "metadata": {
        "id": "osIRu7ZURtWK"
      }
    },
    {
      "cell_type": "markdown",
      "source": [
        "> **Challenges Faced in Estimating the Quality of Education**"
      ],
      "metadata": {
        "id": "gehg9_L2SFrS"
      }
    },
    {
      "cell_type": "markdown",
      "source": [
        "Some of the challenges that the surveying agency must resolve are listed below. This course is all about finding solutions to these challenges.\n",
        "\n",
        "1. Deciding the number of students to appear for the surprise test\n",
        "\n",
        "2. Deciding how to select students\n",
        "\n",
        "3. Estimating the performance of all the students in the country by analysing the performance of the selected students in the surprise test\n",
        "\n",
        " * Estimating the mean score from the sample\n",
        "\n",
        " * Estimating the variance among the marks from the sample\n",
        "\n",
        "4. Validating the estimations\n",
        "\n",
        "5. Estimating the difference between the performances of two different schools\n",
        "\n",
        "6. Determining the effect of various factors on the performance of students\n",
        "\n",
        " * Effect of factors like school, teacher, extra efforts put by an individual student etc\n",
        "\n",
        " * Effect of combined factors like gender and teacher, school and teacher, teacher and extra efforts put by an individual student etc"
      ],
      "metadata": {
        "id": "hRjb03AQSLbM"
      }
    },
    {
      "cell_type": "code",
      "execution_count": null,
      "metadata": {
        "id": "cZTI_KEJRIBt"
      },
      "outputs": [],
      "source": []
    }
  ]
}