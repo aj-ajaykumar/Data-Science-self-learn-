{
  "nbformat": 4,
  "nbformat_minor": 0,
  "metadata": {
    "colab": {
      "provenance": []
    },
    "kernelspec": {
      "name": "python3",
      "display_name": "Python 3"
    },
    "language_info": {
      "name": "python"
    }
  },
  "cells": [
    {
      "cell_type": "markdown",
      "source": [
        "The confidence interval of population variance is calculated using the formula given below:\n",
        "\n",
        "<center>\n",
        "\n",
        "![image.png](data:image/png;base64,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)\n",
        "\n",
        "</center>\n",
        "\n",
        "\n",
        "\n",
        "Where,\n",
        "\n",
        "n = sample size\n",
        "\n",
        "S2 = sample variance\n",
        "\n",
        "You need to understand what does $X^{2}$higher and $X^{2}$lower mean.\n",
        "\n",
        "<center>\n",
        "\n",
        "![image.png](data:image/png;base64,iVBORw0KGgoAAAANSUhEUgAAAHoAAABICAIAAAC2iXYVAAAFOUlEQVR4Ae2bL3eDMBDATyKRlUhk5V5V5SSysqqvH6GucpK5yn2EulZWVk5WTCArkZXZCykkgYTmCKWhL1PJcbk/P46DEgbE/w1IAAb05V0Rj3vQIvC4Pe5BCQzqzFe3xz0ogUGd+eoeFe7z+TxovHbOTqfT7Xazs2G1unt17/f76XQaRdFrE0Blv1gsJpNJmqaWMf99z6D6Wx3MY+iIe7lchmGYpqm5p4E1CyIKEsfjMY7j6XSa53m3kA4rgMownfDZQ4NdcG82GwA4Ho8Prb9GgddeRUUK5Hq9RlE0n88ta7wwSnnPvv8kB/oJGvdutwOA7Xart/nCI5x0ca2rcRNCzudzEASLxcI61ifjjuM4DMM+6sI607oByroEXFzk1ayuSefL5RIArter6qCpjLo0r22CfGdyPB4BYLlcmobzMr3HuFkum82mc4xY1gSLO0kSbddmCdJrWK4wUdI5M/TCx7hvt1sYhpPJRHOl8nzKZxC5jA8rVF2zDHC9O4oi5QVYXcZ0UPCmwRbYmaQ6BWhuHRc8xk0Imc/nAJBlWd0JC5rjrc+JxPqwKgusbqcxx+Fm57lhhAuKLGcz3kMJjUyoeK763JGRV3axnk6nWixV0XC5yJceFgAfVuKML1GNELizLAOAKIpUdpiMxcnbCZUaJa432fGIkdf1eg0APz8/NSf3NASkgkKZY9liUMWEwH0+nx/hViSpEAmx34dMSUxAO+ZXeNOMIDFyu91uAeDr60tYyIZlQIbeGut1AgTuy+XyADc78VJRMFHfUeuy4XIj3Ky6d7sdX8dHJXHMrxi+WjNC4M7znNWcxhRRoFWIdKv7lRvhbnvQYuGUzPuqFwRuQkgYhgCge9ugSFEh6herzpqR44+PDwD4/f3VWaHyXisGhzuOY318igwVorbMejxm5FlVPeIjSBHPC3Gnaap9YaIKS0iaHpa6eo9sm6aYY/kRqaZ1Op0AIEkSSc6yEAIVUpAUu01w1X29XoMgiONY4UwZF4uetvy+up/CMxeVlBvPNQrv7D653+/5cjpqmlCslZcgZjjc1ZudcW3iNHnkeT6ZTFp/QzQX9SBB487zPI7jKIp0N8wegnq+iSRJgiB4cJN8Qhho3ISQLMuiKPr8/Bwp8c1mEwTBS7ZHuuAmhFwulyRJHN8/a1ZntXPWfE/SVH6GpCNuFsrlclmv15oXmM+I1tbmdrtt3BttbaLWW+FGefLK6O0Fj8ySgK9uS4C45R43jpeltsdtCRC33OPG8bLUNsXdeAvhBRIBw9NgitvQnFdrJ+Bxt/Pp+ajH3TPQdnMedzufno963D0DbTf3Drj5ltELPtdqx1s/OnrcdLOr2losdr6qWT1XB+ajxy0zpLz73FuUrdvPPG57hggLb4WbNnGXaxv7OT3iPA6u6j5r57cXqo8+pNtfKRWFjY+fBj/dRg7dbSa0WgugtceNO2wta8T/EhgR6lXJXdw8TQq4bMkMdjmjOtVpYQsw/0vAXQw1GgNuCrQo9GIgPGZX36dK70L5Y/hQEM39jAF38d3e6sBgi4VtnqYrmqPBTf+/Si5sVxBi4hgF7nsTGXdhF2dlDLjZ7VF8FMEUlFO6zuO+V/b4+8gYqrso7Nn3oXwGd6pUOwTjcnWzwqZNhI7eoHO7/M5E7NgF+Hdo3o5WN2Nd/WApcL9DebuImzURqXvce/hf0VdGzN053HfWEmzxx/qIWTv/ArbDvd/tJc5Vt9u4bKPzuG0JotZ73Chctsoety1B1HqPG4XLVtnjtiWIWu9xo3DZKv8D7mmV4LHdWwIAAAAASUVORK5CYII=)\n",
        "\n",
        "</center>\n",
        "\n",
        "follows chi-square distribution having n-1 degrees of freedom. Therefore, X2higher and X2lower are two such points on the chi-square distribution curve, which enclose a certain amount of area, specified by the confidence level, under the 'sampling distribution of sample variance' curve.\n",
        "\n",
        "\n",
        "The surveying agency has the following data:\n",
        "\n",
        "* The sample size n = 1120\n",
        "\n",
        "* The sample variance (S2) = 5956.749 and needs to find the critical chi-square values\n",
        "\n",
        "The 'sampling distribution of sample variance' is a chi-square distribution having n-1 degrees of freedom. So, in our case, the 'sampling distribution of sample variance' is a chi-square distribution with 1119 degrees of freedom.\n",
        "\n",
        "As you are finding the confidence interval for 95% confidence level, you need to find the critical chi-square values (X20.025 and X20.975) for the chi-square distribution with 1119 degrees of freedom.\n",
        "\n",
        "You can use the Python function chi2.ppf() to find the critical chi-square values."
      ],
      "metadata": {
        "id": "LA6bNd1oOtqa"
      }
    },
    {
      "cell_type": "code",
      "execution_count": null,
      "metadata": {
        "colab": {
          "base_uri": "https://localhost:8080/"
        },
        "id": "3TvIP8iUOpVG",
        "outputId": "9e2de8e0-337f-43e2-a4be-04a83ae0c2a5"
      },
      "outputs": [
        {
          "output_type": "stream",
          "name": "stdout",
          "text": [
            "Lower Chi Square value =  1028.1875916168472\n",
            "Higher Chi Square value =  1213.6005329722962\n"
          ]
        }
      ],
      "source": [
        "#Importing chi2 function from the scipy.stats module\n",
        "from scipy.stats import chi2\n",
        "#Calculating critical chi square values for 1119 degree of freedom\n",
        "print(\"Lower Chi Square value = \",chi2.ppf(0.025,1119))\n",
        "print(\"Higher Chi Square value = \",chi2.ppf(0.975,1119))\n"
      ]
    },
    {
      "cell_type": "markdown",
      "source": [
        "Therefore, $X^{2}$higher = 1213.601 and $X^{2}$lower = 1028.188.\n",
        "\n",
        "Using these values we can find the confidence interval of population variance as follows:\n",
        "\n",
        "<center>\n",
        "\n",
        "![image.png](data:image/png;base64,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)\n",
        "\n",
        "</center>\n",
        "\n",
        "\n",
        "The surveying agency has successfully found the confidence interval of population variance to be:\n",
        "\n",
        "<center>\n",
        "\n",
        "![image.png](data:image/png;base64,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)\n",
        "\n",
        "</center>"
      ],
      "metadata": {
        "id": "OaiaiUDEQAF3"
      }
    },
    {
      "cell_type": "code",
      "source": [],
      "metadata": {
        "id": "8Cndb2HoP24m"
      },
      "execution_count": null,
      "outputs": []
    },
    {
      "cell_type": "markdown",
      "source": [
        "> **Confidence Interval of Population Standard Deviation**"
      ],
      "metadata": {
        "id": "7OtQ82iwQuGl"
      }
    },
    {
      "cell_type": "markdown",
      "source": [
        "Since standard deviation is the square root of variance, the confidence interval for population standard deviation (σ) can be found by taking the square root of variance.\n",
        "\n",
        "Thus, the confidence interval for population standard deviation (σ) is:\n",
        "\n",
        "<center>\n",
        "\n",
        "![image.png](data:image/png;base64,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)\n",
        "\n",
        "</center>\n",
        "\n",
        "\n",
        "\n",
        "<u>**Solution to challenge 3.2 (Estimating the variance among the marks from the sample):**</u>\n",
        "\n",
        "The agency has successfully estimated the population variance and standard deviation.\n",
        "\n",
        "* The point estimate of population variance and standard deviation is found to be 5956.749 and 77.1799 respectively.\n",
        "\n",
        "* The confidence interval of population variance is found to be (5492.416, 6482.863).\n",
        "\n",
        "* The confidence interval of population standard deviation is found to be (74.11, 80.51).\n",
        "\n",
        "Based on the estimation of surveying agency, the mean performance of primary school students in the country is estimated to be somewhere between 68% to 69.5% with a deviation of 12.3% to 13.3%."
      ],
      "metadata": {
        "id": "MQNezsZ4QrxX"
      }
    },
    {
      "cell_type": "markdown",
      "source": [
        "##  **Sampling Distribution of Variance - Exercise**"
      ],
      "metadata": {
        "id": "msj8UeraROhX"
      }
    },
    {
      "cell_type": "markdown",
      "source": [
        "> **Problem Statement:**\n",
        "\n",
        "Suppose 10 thermostats are purchased from a shop and kept in a room at 68oF. The readings are as follows:\n",
        "\n",
        "```\n",
        "temp = [67.4,67.8,68.2,69.3,69.5,67.0,68.1,68.6,67.9,67.2]\n",
        "\n",
        "```\n",
        "Develop a 95% confidence interval estimate of the population variance."
      ],
      "metadata": {
        "id": "xvwRcm0PRekC"
      }
    },
    {
      "cell_type": "code",
      "source": [],
      "metadata": {
        "id": "WgB6PIqKQ5-l"
      },
      "execution_count": null,
      "outputs": []
    }
  ]
}