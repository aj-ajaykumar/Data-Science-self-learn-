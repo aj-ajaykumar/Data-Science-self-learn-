{
  "nbformat": 4,
  "nbformat_minor": 0,
  "metadata": {
    "colab": {
      "provenance": []
    },
    "kernelspec": {
      "name": "python3",
      "display_name": "Python 3"
    },
    "language_info": {
      "name": "python"
    }
  },
  "cells": [
    {
      "cell_type": "markdown",
      "source": [
        "## **Sampling Distribution of Sample Mean - Exercise 1**"
      ],
      "metadata": {
        "id": "8sVVaLW7GOnX"
      }
    },
    {
      "cell_type": "markdown",
      "source": [
        "> **Problem Statement:**\n",
        "\n",
        "A manufacturer produces plastic bottles that can carry 475ml of water. 10000 bottles from the manufacturer were taken into consideration and the carrying capacity of the bottles was observed to have a normal distribution with mean as 473ml and standard deviation as 3ml.\n",
        "\n",
        "If 500 samples of 8 bottles were picked up and 'sampling distribution of means' is plotted, what is the:\n",
        "\n",
        "* Value of the mean and the standard error of the distribution.\n",
        "\n",
        "* Likelihood that the value of mean of 8 bottles is less than 470.\n",
        "\n",
        "* Likelihood that the mean of 8 bottles is more than 475."
      ],
      "metadata": {
        "id": "5_E6kwTWGXKr"
      }
    },
    {
      "cell_type": "markdown",
      "source": [
        "> **Confidence Interval of Population Mean - Exercise**"
      ],
      "metadata": {
        "id": "SsOg6jctGhh4"
      }
    },
    {
      "cell_type": "markdown",
      "source": [
        "Problem Statement:\n",
        "\n",
        "At the end of an examination on a specific subject, 24 candidates who appeared for the exam were asked about the number of hours spent in preparing for the exam. The data is given below:\n",
        "\n",
        "```\n",
        "data = [4.5,22,7,14.9,9,3.5,8,11,7.5,18,20,7.5,9,10.5,15,19,2.5,5,9,8.5,14,20,8,9]\n",
        "```\n",
        "\n",
        "\n",
        "From these observations find the confidence interval of mean time spent by students to prepare for the exam on the subject with a 95% confidence level."
      ],
      "metadata": {
        "id": "0Nl0KI3tGmtF"
      }
    },
    {
      "cell_type": "markdown",
      "source": [
        "> **Sampling Distribution of Sample Means - Exercise 2**"
      ],
      "metadata": {
        "id": "crifQpQbG5k_"
      }
    },
    {
      "cell_type": "markdown",
      "source": [
        "> **Problem Statement:**\n",
        "\n",
        "Assume that men drink 2L of water in a day on an average with 0.7 standard deviation. A group of 50 men are planning for an adventure trip. They are carrying 110 L of water. What is the probability that there may be scarcity of water?"
      ],
      "metadata": {
        "id": "kNagnixbG97D"
      }
    },
    {
      "cell_type": "code",
      "execution_count": null,
      "metadata": {
        "id": "ml7ZGP-YGKeT"
      },
      "outputs": [],
      "source": []
    }
  ]
}