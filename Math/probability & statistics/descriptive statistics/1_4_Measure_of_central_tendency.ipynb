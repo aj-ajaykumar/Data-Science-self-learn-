{
  "nbformat": 4,
  "nbformat_minor": 0,
  "metadata": {
    "colab": {
      "provenance": []
    },
    "kernelspec": {
      "name": "python3",
      "display_name": "Python 3"
    },
    "language_info": {
      "name": "python"
    }
  },
  "cells": [
    {
      "cell_type": "code",
      "execution_count": null,
      "metadata": {
        "id": "YV-a8TKeHDQD"
      },
      "outputs": [],
      "source": []
    },
    {
      "cell_type": "markdown",
      "source": [
        "Descriptive statistics summarize the sample and is used to learn about the data under study.\n",
        "\n",
        "Some of the measures that used to describe the data are:\n",
        "\n",
        "1. The Measures of central tendency\n",
        "\n",
        "2. The Measures of dispersion\n",
        "\n",
        "3. The Measures of shape"
      ],
      "metadata": {
        "id": "OUozSxn2HZpN"
      }
    },
    {
      "cell_type": "markdown",
      "source": [
        "Central tendency measures are statistical measures used to describe or understand a sample using a single value.\n",
        "\n",
        "This value could be the most typical value found in the data set or the value that lies at the centre of the data.\n",
        "\n",
        "The measure of central tendency denotes the expected value in a given data set, and need not always be a value present in the data set.\n",
        "\n",
        "A measure of central tendency could also indicate the tendency of data to centre around a particular value.\n",
        "\n",
        "Commonly used measures of central tendency include Arithmetic mean, Geometric mean, Harmonic mean, Weighted mean, Median and Mode."
      ],
      "metadata": {
        "id": "ZsHdqqjLHhR7"
      }
    },
    {
      "cell_type": "markdown",
      "source": [
        "In the data collected from the survey, we can leverage the knowledge of measures of the central tendency to answer the following questions like :\n",
        "\n",
        "1. What would be the educational qualification of the people of this city?\n",
        "\n",
        "2. How much water does a household use in a month?\n",
        "\n",
        "3. How many patients does a doctor see in a particular working day?\n",
        "\n",
        "4. Which is the most common disease prevalent in this city during a particular time frame?\n",
        "\n",
        "5. What is the total monthly income of a middle-class or upper middle-class family in this city?"
      ],
      "metadata": {
        "id": "LlpAf5X2HnWh"
      }
    },
    {
      "cell_type": "markdown",
      "source": [
        "## **Arithmetic mean**"
      ],
      "metadata": {
        "id": "MgsuD9ykIIc7"
      }
    },
    {
      "cell_type": "markdown",
      "source": [
        "The Arithmetic Mean (generally known as \"average\") is a broadly used measure to describe a population using a single value.\n",
        "\n",
        "Arithmetic Mean is a measure which is used for numeric data and is a single value that represents the typical value in the given set of numbers. For example, mean marks of the class is 70 out of 100.\n",
        "\n",
        "In the examples described earlier, arithmetic mean is used while answering the following questions:\n",
        "\n",
        "1. How much water does a household in this city use in a month?\n",
        "\n",
        "2. How many patients does a doctor in the city see in a day?"
      ],
      "metadata": {
        "id": "pw6XqsgfIfjv"
      }
    },
    {
      "cell_type": "markdown",
      "source": [
        "The arithmetic mean is the sum of all values in the data set divided by the total number of values in the data set.\n",
        "\n",
        "<center>\n",
        "\n",
        "![image.png](data:image/png;base64,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)\n",
        "\n",
        "</center>\n",
        "\n",
        "\n",
        "Depending on whether the data being analyzed is a sample or the population, the notation used to represent mean changes.\n",
        "\n",
        "The sample mean is represented as x and population mean as μ.\n",
        "\n",
        "The arithmetic mean can be computed using the command mean(x) from statistics module in python as shown below:\n",
        "\n"
      ],
      "metadata": {
        "id": "aJz1L-ssInaW"
      }
    },
    {
      "cell_type": "code",
      "source": [
        "# Importing the statistics module\n",
        "import statistics\n",
        "# list of positive integer numbers\n",
        "data1 = [1, 3, 4, 5, 7, 9, 2]\n",
        "x = statistics.mean(data1)\n",
        "# Printing the mean\n",
        "print(\"Mean is :\", x)\n",
        "\n",
        "# output: Mean is: 4.428571428571429"
      ],
      "metadata": {
        "id": "_78WCIfQHcyO"
      },
      "execution_count": null,
      "outputs": []
    },
    {
      "cell_type": "markdown",
      "source": [
        "## **Weighted mean:**"
      ],
      "metadata": {
        "id": "8wvlN73ZJNzy"
      }
    },
    {
      "cell_type": "markdown",
      "source": [
        "During the survey, 100 samples of water were collected and sent to two different laboratories for study. One laboratory analyzed 30 samples of water and the other laboratory analyzed 70 samples.\n",
        "\n",
        "Lab 1 declared that the number of harmful substances observed among 30 samples was 40 ppm and Lab 2 declared that the number of harmful substances was 63 ppm among 70 samples.\n",
        "\n",
        "The average value if computed using arithmetic mean would be: (40+63)/2 = 51.5ppm\n",
        "\n",
        "This value, however, does not really represent the average, because it does not consider the difference in size of data set. To resolve this, we use weighted mean."
      ],
      "metadata": {
        "id": "rcPPTutGJoz-"
      }
    },
    {
      "cell_type": "markdown",
      "source": [
        "The weighted mean is used when some values in the data set contribute more than others.\n",
        "\n",
        "We can calculate **weighted mean** by the total of multiplication of individual weights with values divided by total weight. This can be computed using the following formula:\n",
        "\n",
        "\n",
        "\n",
        "In the example cited earlier, using weighted mean results in an average of 56.1 ppm of harmful substances.\n",
        "\n",
        "The weighted mean can be computed using the command `weighted.mean(x,w)` in R as shown below:"
      ],
      "metadata": {
        "id": "RBXv_7uWJ20F"
      }
    },
    {
      "cell_type": "code",
      "source": [
        "#weighted average\n",
        "import numpy as np\n",
        "print(\"arithmetic mean:\", np.mean([1,2,3,4]))#arithmetic mean\n",
        "print(\"arithmetic mean:\", np.average([1,2,3,4]))#arithmetic mean\n",
        "print(\"weighted mean:\", np.average([40,63], weights=[30,70]))# weighted mean\n"
      ],
      "metadata": {
        "id": "FSNnGGZuJcbL"
      },
      "execution_count": null,
      "outputs": []
    },
    {
      "cell_type": "markdown",
      "source": [
        "Output:\n",
        "\n",
        "arithmetic mean: 2.5\n",
        "\n",
        "arithmetic mean: 2.5\n",
        "\n",
        "weighted mean: 56.1"
      ],
      "metadata": {
        "id": "hRywYCQgKS2I"
      }
    },
    {
      "cell_type": "markdown",
      "source": [
        "## **Geometric mean**"
      ],
      "metadata": {
        "id": "JB9uHazCKe83"
      }
    },
    {
      "cell_type": "markdown",
      "source": [
        "In a test, the laboratory observes the growth of germs in water present in lakes/ponds spread across the city in order to check on the possibility of water-borne diseases.\n",
        "\n",
        "The laboratory takes samples of water from each such water body and observes the growth of bacteria and other microbes.\n",
        "\n",
        "The laboratory observes the bacteria grew by 20% in the 1st hour, in second the growth was found to be 20% and 15% in the 3rd hour.\n",
        "\n",
        "What would be the average growth rate of bacteria in this sample?\n",
        "\n",
        "If the sample initially contained 1000 bacteria what is the estimated number after 3 hours?"
      ],
      "metadata": {
        "id": "fCHkLTK0Kb6f"
      }
    },
    {
      "cell_type": "markdown",
      "source": [
        "The geometric mean is used while finding the average of numbers that represent growth rate.\n",
        "\n",
        "It is used in cases where a set of numbers need to be multiplied to get the required result.\n",
        "\n",
        "Here, the number of bacteria after 3 hours is computed as 1000 x 1.2 x 1.2 x 1.15 = 1656.\n",
        "\n",
        "The geometric mean is the nth root of the product of n numbers, which can be computed as the following formula:\n",
        "\n",
        "<center>\n",
        "\n",
        "![image.png](data:image/png;base64,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)\n",
        "\n",
        "\n",
        "</center>\n",
        "\n",
        "\n",
        "The geometric mean of the example that was cited previously is:\n",
        "\n",
        "<center>\n",
        "\n",
        "![image.png](data:image/png;base64,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)\n",
        "\n",
        "\n",
        "</center>\n",
        "\n",
        "\n",
        "Using the geometric mean, the number of bacteria after 3 hours can be computed as 1000 x 1.183 x 1.183 x 1.183 = 1655.59 ~ 1656.\n",
        "\n",
        "The geometric mean is used to represent a single value that is equivalent to all the values in the data set.\n",
        "\n",
        "Since the geometric mean is calculated by using a square root, so it can be used only for positive values. In this example, if the bacteria had decreased by 10 per cent in the third hour, then the geometric mean would be (1.2 x 1.2 x 0.9)1/3.\n",
        "\n",
        "One important thing to understand is, it is observed that the Geometric mean works best when the values in the dataset are close to each other."
      ],
      "metadata": {
        "id": "eDdOGAzuKu9F"
      }
    },
    {
      "cell_type": "markdown",
      "source": [
        "**Multiplying a large data set and deriving its nth root is a computationally expensive process.**\n",
        "\n",
        "To overcome this situation, we can compute the geometric mean as the arithmetic mean of log-transformed values of the data\n",
        "\n",
        "This is done using the following formula:\n",
        "\n",
        "<center>\n",
        "\n",
        "![image.png](data:image/png;base64,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)\n",
        "\n",
        "</center>\n",
        "\n",
        "\n",
        "\n",
        "The geometric mean can be computed using the command stats.gmean(x) of stats library from scipy module in Python as shown below:"
      ],
      "metadata": {
        "id": "JuaU0F5YLXtc"
      }
    },
    {
      "cell_type": "code",
      "source": [
        "#geometric mean\n",
        "from scipy import stats\n",
        "print(round(stats.gmean([1.2,1.2,1.15]),6))\n",
        "\n",
        "\n",
        "#Output: 1.183096"
      ],
      "metadata": {
        "colab": {
          "base_uri": "https://localhost:8080/"
        },
        "id": "NNbCUp9tKTRk",
        "outputId": "16d086f8-e6ef-474d-96fc-0539005ad8ba"
      },
      "execution_count": null,
      "outputs": [
        {
          "output_type": "stream",
          "name": "stdout",
          "text": [
            "1.183096\n"
          ]
        }
      ]
    },
    {
      "cell_type": "markdown",
      "source": [
        "## **Harmonic mean**"
      ],
      "metadata": {
        "id": "so_LVjjlM9Rz"
      }
    },
    {
      "cell_type": "markdown",
      "source": [
        "The heart condition of individuals is diagnosed by recording their heart rates at different points of time.\n",
        "\n",
        "Individuals are required to perform various tasks while their heart rate is being recorded. Here is the observation of an individual’s heart rate during the test:\n",
        "\n",
        "<center>\n",
        "\n",
        "![image.png](data:image/png;base64,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)\n",
        "\n",
        "</center>\n",
        "\n",
        "\n",
        "What is the average heart rate of this individual?"
      ],
      "metadata": {
        "id": "XcXKbvy1MsWk"
      }
    },
    {
      "cell_type": "markdown",
      "source": [
        "Harmonic mean is a better estimate of the average of data in situations where the data represents rates/ratios such as speed (km per hr.), heart rate(beats per min.), frequency etc.\n",
        "\n",
        "The harmonic mean is the reciprocal of the arithmetic mean of the reciprocals, let's have a look how it is computed:\n",
        "\n",
        "<center>\n",
        "\n",
        "![image.png](data:image/png;base64,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)\n",
        "\n",
        "</center>\n",
        "\n",
        "\n",
        "The average heart rate of the individual using the data observed earlier is approximately 103 bpm.\n",
        "\n",
        "The harmonic mean can be computed using the command harmonic.mean(x) of psych package in R as shown below:"
      ],
      "metadata": {
        "id": "yGDbzGC2NJBR"
      }
    },
    {
      "cell_type": "code",
      "source": [
        "#harmonic mean\n",
        "from scipy import stats\n",
        "print(round(stats.hmean([80,100,150]),4))\n"
      ],
      "metadata": {
        "colab": {
          "base_uri": "https://localhost:8080/"
        },
        "id": "18LcPzUoMeH8",
        "outputId": "5ae1bba2-dec0-48dc-bb88-75b00267a451"
      },
      "execution_count": null,
      "outputs": [
        {
          "output_type": "stream",
          "name": "stdout",
          "text": [
            "102.8571\n"
          ]
        }
      ]
    },
    {
      "cell_type": "markdown",
      "source": [
        "## **Median**"
      ],
      "metadata": {
        "id": "h0X7ikLjNnoK"
      }
    },
    {
      "cell_type": "markdown",
      "source": [
        "Free medical checkup and treatment camps are being set up in communities where the average monthly household income is below Rs.8000.\n",
        "\n",
        "A community of day workers claims that they have not been provided with these facilities as opposed to their colleagues earning the same salary as them.\n",
        "\n",
        "A health officer investigates this matter and finds that this community has an average monthly income of about Rs.15000.\n",
        "\n",
        "The data of the monthly incomes of the community are as shown below:\n",
        "\n",
        "<center>\n",
        "\n",
        "![image.png](data:image/png;base64,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)\n",
        "\n",
        "</center>\n",
        "\n",
        "\n",
        "She finds out that a rich merchant has been included as a member of this community because his house is located in the same area.\n",
        "\n",
        "So, what do you think, is average the right measure that we can use for this scenario?"
      ],
      "metadata": {
        "id": "rlgPOOCPNrZE"
      }
    },
    {
      "cell_type": "markdown",
      "source": [
        "The presence of extreme values (unusually large/small values) in data affects the mean/average.\n",
        "\n",
        "Median is another measure of central tendency, is generally the preferred value in such cases. Why? We would understand.\n",
        "\n",
        "Median is the value that lies at the centre of the data set when data is ordered. Median divides the data into equal halves when the data is sorted.\n",
        "\n",
        "Finding the median:\n",
        "\n",
        "* If there are an odd number of values, the median is the value at the centre that divides the data into equal halves\n",
        "\n",
        "* If there are even number of values, the median is the average of the two middle values\n",
        "\n",
        "The health officer now finds the median of the data set (shown below) to be 7650 and after looking at the value of the median he understands that this community should also be provided with the facilities.\n",
        "\n",
        "<center>\n",
        "\n",
        "![image.png](data:image/png;base64,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)\n",
        "\n",
        "</center>\n",
        "\n",
        "The median can be computed using the command np.median() from numpy package in python. Let's have a look how to calculate median."
      ],
      "metadata": {
        "id": "33rgk6xQN_Qg"
      }
    },
    {
      "cell_type": "code",
      "source": [
        "#median\n",
        "import numpy as np\n",
        "print(np.median([7800,8000,7500,7300,7000,6500,6750,90000,8000,7800]))\n"
      ],
      "metadata": {
        "colab": {
          "base_uri": "https://localhost:8080/"
        },
        "id": "gBYD2KpCNWNj",
        "outputId": "f434d206-f354-4793-86ef-c6620e028901"
      },
      "execution_count": null,
      "outputs": [
        {
          "output_type": "stream",
          "name": "stdout",
          "text": [
            "7650.0\n"
          ]
        }
      ]
    },
    {
      "cell_type": "markdown",
      "source": [
        "## **Mode**\n"
      ],
      "metadata": {
        "id": "Gp-9PNarOemU"
      }
    },
    {
      "cell_type": "markdown",
      "source": [
        "Using the data from the survey, a health officer seeks to identify the most prevalent disease in the city.\n",
        "\n",
        "The count of occurrence of all diseases in a community is tabulated as shown below:\n",
        "\n",
        "<center>\n",
        "\n",
        "![image.png](data:image/png;base64,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)\n",
        "\n",
        "</center>\n",
        "\n",
        "\n",
        "Data that is most frequently occurring in a data set is called Mode.\n",
        "\n",
        "Based on the count of occurrences of diseases, one can say that Malaria is the mode of this data set. However, since there is no significant difference between the count of Malaria and that of Dengue, we can consider both of these diseases to be the modes of this data set,\n",
        "\n",
        "It is possible for a dataset to have multiple modes. Datasets containing one value for mode are called unimodal, two modes are called bimodal, and more than two are called multimodal.\n",
        "\n",
        "The mode is mostly used when the data being analyzed is `non-numeric but its not compulsory.`\n",
        "\n",
        "The mode can be calculated in python using stats.mode() function from scipy library in python."
      ],
      "metadata": {
        "id": "d13rcaWvOg8k"
      }
    },
    {
      "cell_type": "code",
      "source": [
        "from scipy import stats\n",
        "print(stats.mode([1,2,2,3,4,4,4]))\n"
      ],
      "metadata": {
        "colab": {
          "base_uri": "https://localhost:8080/"
        },
        "id": "M7-FLigLOS56",
        "outputId": "4b946335-54b3-46a3-ce21-9d7eef703941"
      },
      "execution_count": null,
      "outputs": [
        {
          "output_type": "stream",
          "name": "stdout",
          "text": [
            "ModeResult(mode=np.int64(4), count=np.int64(3))\n"
          ]
        }
      ]
    },
    {
      "cell_type": "markdown",
      "source": [
        "## **Summary**"
      ],
      "metadata": {
        "id": "MFnDR4f-O_G2"
      }
    },
    {
      "cell_type": "markdown",
      "source": [
        "Measures of central tendency represent a single value that describes the sample. A measure of central tendency is the expected value in the data set that represents the values in the whole dataset.\n",
        "\n",
        "`Arithmetic, Geometric and Harmonic mean` are used to determine the average/typical value of the data.\n",
        "\n",
        "The `weighted mean` is used when all data members are not contributing equally to the data set.\n",
        "\n",
        "`Median` represents the `centre of the data` when the `data is ordered`, and the median is only taken for ordered data. Unlike average, it remains unaffected by the presence of extreme values in the data set.\n",
        "\n",
        "`The mode` is a measure that describes the most frequently occurring data in a data set which is commonly used when data is non-numeric (but not compulsory).\n",
        "\n",
        "You can use the following commands to compute the values of mean, median and mode as shown below:"
      ],
      "metadata": {
        "id": "ldJrXGkaPE9r"
      }
    },
    {
      "cell_type": "code",
      "source": [
        "import statistics as st\n",
        "print(st.mean([1,2,3,4]))\n",
        "print(st.median([7800,8000,7500,7300,7000,6500,6750,90000,8000,7800]))\n",
        "print(st.mode([1,2,2,3,4,4,4]))\n"
      ],
      "metadata": {
        "colab": {
          "base_uri": "https://localhost:8080/"
        },
        "id": "5nMfgi9OO4Lr",
        "outputId": "92b87e9f-b699-4089-a905-bc72ff07f93e"
      },
      "execution_count": null,
      "outputs": [
        {
          "output_type": "stream",
          "name": "stdout",
          "text": [
            "2.5\n",
            "7650.0\n",
            "4\n"
          ]
        }
      ]
    },
    {
      "cell_type": "code",
      "source": [],
      "metadata": {
        "id": "_kJHizf7PYsm"
      },
      "execution_count": null,
      "outputs": []
    }
  ]
}