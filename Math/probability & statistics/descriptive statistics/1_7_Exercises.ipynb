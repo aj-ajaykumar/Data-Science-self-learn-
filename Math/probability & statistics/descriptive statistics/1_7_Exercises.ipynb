{
  "nbformat": 4,
  "nbformat_minor": 0,
  "metadata": {
    "colab": {
      "provenance": []
    },
    "kernelspec": {
      "name": "python3",
      "display_name": "Python 3"
    },
    "language_info": {
      "name": "python"
    }
  },
  "cells": [
    {
      "cell_type": "code",
      "execution_count": null,
      "metadata": {
        "id": "mXzA7BpJhk5b"
      },
      "outputs": [],
      "source": []
    },
    {
      "cell_type": "markdown",
      "source": [
        "## **Counting techniques - Exercise 1**"
      ],
      "metadata": {
        "id": "tf7cdkuXht7c"
      }
    },
    {
      "cell_type": "markdown",
      "source": [
        "> **Problem Statement:**\n",
        "\n",
        "In a class, it was observed out of the total strength there are 50 boys and 40 girls. Their teacher wants to select 1 boy and 1 girl for representing the class in a function. So, what would be the total number of ways that the teacher can make this selection?"
      ],
      "metadata": {
        "id": "HiJPH5eMh2bj"
      }
    },
    {
      "cell_type": "code",
      "source": [],
      "metadata": {
        "id": "BjHjxR_6hzlw"
      },
      "execution_count": null,
      "outputs": []
    },
    {
      "cell_type": "markdown",
      "source": [
        "## **Counting techniques - Exercise 2**"
      ],
      "metadata": {
        "id": "mfc4mfeFh-GJ"
      }
    },
    {
      "cell_type": "markdown",
      "source": [
        "> **Problem Statement:**\n",
        "\n",
        "In a university, there is a student who has 3 library tickets and there are 8 books of his interest in the library. Out of these 8, he does not want to borrow a book named Java Advance, unless Java Beginners is also borrowed. In how many ways can he select the three books to be borrowed?"
      ],
      "metadata": {
        "id": "lsVUJHqWiDx_"
      }
    },
    {
      "cell_type": "code",
      "source": [],
      "metadata": {
        "id": "7Mul5YK-iBIF"
      },
      "execution_count": null,
      "outputs": []
    },
    {
      "cell_type": "markdown",
      "source": [
        "## **Counting techniques - Exercise 3**"
      ],
      "metadata": {
        "id": "YmLuOXyQiIgR"
      }
    },
    {
      "cell_type": "markdown",
      "source": [
        "> **Problem Statement:**\n",
        "\n",
        "If we have a total of 6 different colour flags. What would be the total number of signals that can be sent taking one or more at a time?"
      ],
      "metadata": {
        "id": "NGJ5XRhNjcfg"
      }
    },
    {
      "cell_type": "code",
      "source": [],
      "metadata": {
        "id": "0M4L5WoCiMGy"
      },
      "execution_count": null,
      "outputs": []
    },
    {
      "cell_type": "markdown",
      "source": [
        "## **Probability computation - Exercise**"
      ],
      "metadata": {
        "id": "D7O8wLH4jgs-"
      }
    },
    {
      "cell_type": "markdown",
      "source": [
        "Problem Statement:\n",
        "In an experiment that was done over a group of students to find out their blood group, the following data are reported:\n"
      ],
      "metadata": {
        "id": "v1zrKJbxjl1G"
      }
    },
    {
      "cell_type": "code",
      "source": [
        "from datascience import *\n",
        "Table().with_columns(\n",
        "    'Blood group', make_array('A','B','O','Ab'),\n",
        "    'Number of students', make_array(90, 60, 120, 30)\n",
        ")"
      ],
      "metadata": {
        "colab": {
          "base_uri": "https://localhost:8080/",
          "height": 174
        },
        "id": "gMeEYiLajk3H",
        "outputId": "b314178c-2fa5-4020-be6c-88ab0f9fd39e"
      },
      "execution_count": null,
      "outputs": [
        {
          "output_type": "execute_result",
          "data": {
            "text/plain": [
              "Blood group | Number of students\n",
              "A           | 90\n",
              "B           | 60\n",
              "O           | 120\n",
              "Ab          | 30"
            ],
            "text/html": [
              "<table border=\"1\" class=\"dataframe\">\n",
              "    <thead>\n",
              "        <tr>\n",
              "            <th>Blood group</th> <th>Number of students</th>\n",
              "        </tr>\n",
              "    </thead>\n",
              "    <tbody>\n",
              "        <tr>\n",
              "            <td>A          </td> <td>90                </td>\n",
              "        </tr>\n",
              "        <tr>\n",
              "            <td>B          </td> <td>60                </td>\n",
              "        </tr>\n",
              "        <tr>\n",
              "            <td>O          </td> <td>120               </td>\n",
              "        </tr>\n",
              "        <tr>\n",
              "            <td>Ab         </td> <td>30                </td>\n",
              "        </tr>\n",
              "    </tbody>\n",
              "</table>"
            ]
          },
          "metadata": {},
          "execution_count": 4
        }
      ]
    },
    {
      "cell_type": "markdown",
      "source": [
        "\n",
        "After the experiment, a student was selected at random. Her blood group had a probability of 0.2. Identify her blood group?"
      ],
      "metadata": {
        "id": "7fr1InZ0k4yD"
      }
    },
    {
      "cell_type": "markdown",
      "source": [
        "## **Bayes Theorem - Exercise**"
      ],
      "metadata": {
        "id": "FoFQvqWmlB2N"
      }
    },
    {
      "cell_type": "markdown",
      "source": [
        "> **Problem Statement:**\n",
        "\n",
        "A TV manufacturing company has 2 plants lets call them A and B. The production by plant A is reported to be 80% of the stock where 85% of the products is defect free. While plant B produces rest of the TVs where 65% of the produce is defect free. What would be the probability that a randomly selected TV has a defect and has been produced by plant B?"
      ],
      "metadata": {
        "id": "1p7U2fs9lHpR"
      }
    },
    {
      "cell_type": "code",
      "source": [],
      "metadata": {
        "id": "GtEKeCMakq-m"
      },
      "execution_count": null,
      "outputs": []
    },
    {
      "cell_type": "markdown",
      "source": [
        "## **Probability Computation - Exercise**"
      ],
      "metadata": {
        "id": "S4xQnVVVlP7e"
      }
    },
    {
      "cell_type": "markdown",
      "source": [
        "> **Problem Statement:**\n",
        "\n",
        "We have a deck of 52 cards. After properly shuffling it, one card is drawn. What would be the probability of getting a card that will be an ace."
      ],
      "metadata": {
        "id": "ByO3XeQZlS1r"
      }
    },
    {
      "cell_type": "code",
      "source": [],
      "metadata": {
        "id": "O_21nr0glSG4"
      },
      "execution_count": null,
      "outputs": []
    },
    {
      "cell_type": "markdown",
      "source": [
        "## **Finding measures of central tendency - Exercise**"
      ],
      "metadata": {
        "id": "NZ-SlBPsldqW"
      }
    },
    {
      "cell_type": "markdown",
      "source": [
        "> **Problem Statement:**\n",
        "\n",
        "1. Find Harmonic mean, Geometric mean , Arithmetic mean, Median and Mode for the following data (wherever applicable)\n",
        "\n",
        "2. A set of ranks: 4, 6, 5, 9, 3\n",
        "\n",
        "3. Marks scored by students in geography: 75, 56, 89, 49, 95\n",
        "\n",
        "4. Percentage profit made on stocks : 40%, -10%, 18%, 13%\n",
        "\n",
        "5. The speed of a car from a-b, b-c and c-d where the distance between a-b, b-c and c-d are the same: 55 km/h, 80 km/h, 30 km/h\n",
        "\n",
        "6. Grades obtained by a student in a semester: A-, B+, A, A-, A, A+"
      ],
      "metadata": {
        "id": "Aumwqk9plkm-"
      }
    },
    {
      "cell_type": "code",
      "source": [],
      "metadata": {
        "id": "sgY6FdSflgij"
      },
      "execution_count": null,
      "outputs": []
    },
    {
      "cell_type": "markdown",
      "source": [
        "## **Arithmetic mean - Exercise**"
      ],
      "metadata": {
        "id": "q73-KqTxlvXy"
      }
    },
    {
      "cell_type": "markdown",
      "source": [
        "> **Problem Statement:**\n",
        "\n",
        "Find the missing variable in the following data if the arithmetic mean is 50\n",
        "\n",
        "55    65    12    47    98    45    54    65    x    21    78    95    12    58    74    30    65    10    19    48    87"
      ],
      "metadata": {
        "id": "kF0k7U1nl2NK"
      }
    },
    {
      "cell_type": "code",
      "source": [],
      "metadata": {
        "id": "zrNLsSwyl1gw"
      },
      "execution_count": null,
      "outputs": []
    },
    {
      "cell_type": "markdown",
      "source": [
        "## **Deviation about the median - Exercise**"
      ],
      "metadata": {
        "id": "LepK5NYwmBBW"
      }
    },
    {
      "cell_type": "markdown",
      "source": [
        "> **Problem Statement:**\n",
        "\n",
        "Calculate the mean deviation about the median for the data reported below:\n",
        "\n",
        "3, 9, 5, 3, 12, 10, 18, 4, 7, 19, 21."
      ],
      "metadata": {
        "id": "uCEr9uY6mERK"
      }
    },
    {
      "cell_type": "code",
      "source": [],
      "metadata": {
        "id": "BrzVnz2PmDEp"
      },
      "execution_count": null,
      "outputs": []
    },
    {
      "cell_type": "markdown",
      "source": [
        "## **Percentile - Exercise**"
      ],
      "metadata": {
        "id": "r8cY7S1SmLrz"
      }
    },
    {
      "cell_type": "markdown",
      "source": [
        "> **Problem Statement:**\n",
        "\n",
        "An exam is conducted, where the qualifying criteria are if marks are greater than the 80th percentile of marks\n",
        "\n",
        "Find the number of people qualified in the following scores:\n",
        "\n",
        "64    47    40    45    54    63    12    21    79    95    58    74    30    50    10    21    48    85"
      ],
      "metadata": {
        "id": "dLRVmOPVmR4q"
      }
    },
    {
      "cell_type": "code",
      "source": [],
      "metadata": {
        "id": "AOTY3i1nmPHN"
      },
      "execution_count": null,
      "outputs": []
    },
    {
      "cell_type": "markdown",
      "source": [
        "## **z-score - Exercise**"
      ],
      "metadata": {
        "id": "q1-kfHDGmaCL"
      }
    },
    {
      "cell_type": "markdown",
      "source": [
        "> **Problem Statement:**\n",
        "\n",
        "The High-IQ society accepts SAT scores as intelligence metric. Suppose that the mean-combined SAT score is 1500, with a standard deviation of 300, Damodara scores a combined 2070.\n",
        "\n",
        "On the other hand, Gopi takes another traditional IQ test and the score reported by him is 129. In this test the reported mean and standard deviation are 100 and 15 respectively.\n",
        "\n",
        "Whose score is better among the two?"
      ],
      "metadata": {
        "id": "DWu-LgDSmk7w"
      }
    },
    {
      "cell_type": "code",
      "source": [],
      "metadata": {
        "id": "a4_IQL3mmdAi"
      },
      "execution_count": null,
      "outputs": []
    },
    {
      "cell_type": "markdown",
      "source": [
        "nswers to Probability Exercises:\n",
        "\n",
        "Exercise 1: 2000\n",
        "\n",
        "Exercise 2: 41\n",
        "\n",
        "Exercise 3: 1956\n",
        "\n",
        "Exercise 4: B\n",
        "\n",
        "Exercise 5: 0.3684\n",
        "\n",
        "Exercise 6: 0.0769\n",
        "\n",
        "\n",
        "\n",
        "Answers to Statistics Exercises:\n",
        "\n",
        "Exercise 1:\n",
        "\n",
        "a. Arithmetic mean: 5.4, Median: 5\n",
        "\n",
        "b. Arithmetic mean: 72.8, Median: 75\n",
        "\n",
        "c. Geometric mean: 13.85%\n",
        "\n",
        "d. Harmonic mean: 46.86 km/h\n",
        "\n",
        "e. Mode: A, A-\n",
        "\n",
        "\n",
        "Exercise 2: x= 12\n",
        "\n",
        "Exercise 3: Mean deviation about median = 9.2727\n",
        "\n",
        "Exercise 4: Number of people qualified = 4\n",
        "\n",
        "Exercise 5: Mikhail's score is marginally better."
      ],
      "metadata": {
        "id": "aRpeJbwOmuhD"
      }
    },
    {
      "cell_type": "code",
      "source": [],
      "metadata": {
        "id": "LU6gyz9VmvDb"
      },
      "execution_count": null,
      "outputs": []
    }
  ]
}