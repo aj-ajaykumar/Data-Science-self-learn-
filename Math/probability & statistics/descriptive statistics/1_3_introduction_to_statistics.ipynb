{
  "nbformat": 4,
  "nbformat_minor": 0,
  "metadata": {
    "colab": {
      "provenance": []
    },
    "kernelspec": {
      "name": "python3",
      "display_name": "Python 3"
    },
    "language_info": {
      "name": "python"
    }
  },
  "cells": [
    {
      "cell_type": "code",
      "execution_count": null,
      "metadata": {
        "id": "iaWkoisHCt2O"
      },
      "outputs": [],
      "source": []
    },
    {
      "cell_type": "markdown",
      "source": [
        "## **Introduction to Statistics**\n",
        "\n"
      ],
      "metadata": {
        "id": "AGjI4e4nDM9g"
      }
    },
    {
      "cell_type": "markdown",
      "source": [
        "The health and welfare council wants to survey your city to understand the lifestyle of the residents and if need be, improve the facilities provided based on the conclusions drawn from the data collected.\n",
        "\n",
        "Some of the data being collected for this analysis is listed below:\n",
        "\n",
        "* Personal information such as name, age, income of household and educational qualifications.\n",
        "\n",
        "* Quality of water supply across the city.\n",
        "\n",
        "* Medical facilities such as availability of hospitals, doctors etc."
      ],
      "metadata": {
        "id": "X0T6RJ-aDo4w"
      }
    },
    {
      "cell_type": "markdown",
      "source": [
        "The collection, analysis, interpretation, presentation and organization of data is termed as statistics.\n",
        "\n",
        "Statistics is used to study a population/process (data).\n",
        "\n",
        "In the example cited earlier, the data is personal information of residents, water being supplied and information about the medical facilities.\n",
        "\n",
        "We can leverage the analysis of this data to answer a few questions which could be but not limited to:\n",
        "\n",
        "* What is the average income of households in the city?\n",
        "\n",
        "* Which is the most common disease in a given area?\n",
        "\n",
        "* How much water does a household use in a month?\n",
        "\n",
        "* How good is the water being supplied?\n",
        "\n",
        "* Are there enough medical facilities being provided?"
      ],
      "metadata": {
        "id": "ELeVx2adEH9e"
      }
    },
    {
      "cell_type": "markdown",
      "source": [
        "When all data required for observation/analysis is collected and studied, the data is referred to as the population.\n",
        "\n",
        "On the other hand, when limited data is being collected/analyzed, this data is referred to as sample and is used as an indicative of the entire population.\n",
        "\n",
        "> Example:\n",
        "\n",
        "**Population:** Data is being collected from all the residents of the city about their age, educational qualification and medical history.\n",
        "\n",
        "**Sample:** On the other hand to analyze the water supply, a few litres of water are being collected from different water supply lines that run in the city."
      ],
      "metadata": {
        "id": "fttJqkKEEX20"
      }
    },
    {
      "cell_type": "markdown",
      "source": [
        "\n",
        "\n",
        "---\n",
        "\n"
      ],
      "metadata": {
        "id": "OBbB4_U1EvCD"
      }
    },
    {
      "cell_type": "markdown",
      "source": [
        "Statistics can be broadly classified into descriptive and inferential statistics.\n",
        "\n",
        "Descriptive statistics\n",
        "Summarization of data to describe the main features of the sample.\n",
        "\n",
        "For example, in the survey cited earlier, the knowledge of descriptive statistics can be leveraged to answer some questions like:\n",
        "\n",
        "* What is the average income of households in the city?\n",
        "\n",
        "* Which is the most common disease in a given area?\n",
        "\n",
        "Inferential statistics\n",
        "When working with samples of the population the techniques and processes we use to draw conclusions come under inferential statistics let's understand it as we progress through this course.\n",
        "\n",
        "For example, in the survey cited earlier, inferential statistics can be used to answer the following questions:\n",
        "\n",
        "* How good is the water being supplied?\n",
        "\n",
        "* Are there enough medical facilities being provided?\n",
        "\n"
      ],
      "metadata": {
        "id": "JOgnWW1fEm4u"
      }
    },
    {
      "cell_type": "code",
      "source": [],
      "metadata": {
        "id": "UpbVeTUoDXWA"
      },
      "execution_count": null,
      "outputs": []
    }
  ]
}